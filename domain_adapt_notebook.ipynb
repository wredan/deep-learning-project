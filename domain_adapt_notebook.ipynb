{
 "cells": [
  {
   "cell_type": "markdown",
   "id": "094ab084",
   "metadata": {},
   "source": [
    "# Domain adaptation analysis"
   ]
  },
  {
   "cell_type": "markdown",
   "id": "cbacee94",
   "metadata": {},
   "source": [
    "The following notebook shows a study of the classification problem of images belonging to different domains, known as domain adaptation, and the different cases with respect to the problem shown at the following link: [EGO-CH-OBJ-ADAPT](https://iplab.dmi.unict.it/EGO-CH-OBJ-ADAPT/). The proposed problem considers the case of object detection while this notebook aims to study the same problem from the point of view of image classification."
   ]
  },
  {
   "cell_type": "markdown",
   "id": "5e8c487c",
   "metadata": {},
   "source": [
    "## Initial settings"
   ]
  },
  {
   "cell_type": "markdown",
   "id": "61b79da6",
   "metadata": {},
   "source": [
    "#### Dependencies"
   ]
  },
  {
   "cell_type": "code",
   "execution_count": null,
   "id": "36870725",
   "metadata": {},
   "outputs": [],
   "source": [
    "%pip install --user -qr ./requirements.txt"
   ]
  },
  {
   "cell_type": "markdown",
   "id": "0e92c0f3",
   "metadata": {},
   "source": [
    "#### Imports"
   ]
  },
  {
   "cell_type": "code",
   "execution_count": 1,
   "id": "fe092eee",
   "metadata": {},
   "outputs": [],
   "source": [
    "import torch\n",
    "from torch import nn\n",
    "import pytorch_lightning as pl\n",
    "from pytorch_lightning.loggers import TensorBoardLogger\n",
    "\n",
    "import torchmetrics\n",
    "import torchvision\n",
    "from torchvision import transforms\n",
    "import torchvision.models as models\n",
    "\n",
    "from matplotlib import pyplot as plt\n",
    "\n",
    "import os\n",
    "import numpy as np\n",
    "\n",
    "from scripts.dataset.data_module import CulturalSiteDataModule\n",
    "from scripts.models.custom_resnet_model import CustomResNetModule"
   ]
  },
  {
   "cell_type": "markdown",
   "id": "56235794",
   "metadata": {},
   "source": [
    "#### Globals"
   ]
  },
  {
   "cell_type": "code",
   "execution_count": 8,
   "id": "369217fa",
   "metadata": {},
   "outputs": [
    {
     "name": "stderr",
     "output_type": "stream",
     "text": [
      "c:\\Users\\danil\\anaconda3\\lib\\site-packages\\torchvision\\models\\_utils.py:208: UserWarning: The parameter 'pretrained' is deprecated since 0.13 and will be removed in 0.15, please use 'weights' instead.\n",
      "  warnings.warn(\n",
      "c:\\Users\\danil\\anaconda3\\lib\\site-packages\\torchvision\\models\\_utils.py:223: UserWarning: Arguments other than a weight enum or `None` for 'weights' are deprecated since 0.13 and will be removed in 0.15. The current behavior is equivalent to passing `weights=None`.\n",
      "  warnings.warn(msg)\n"
     ]
    }
   ],
   "source": [
    "system_accelerator='gpu' #'mps' to use apple silicon graphics unit, 'gpu' for nvidia or amd\n",
    "global_resnet_model=models.resnet18(pretrained=False)\n",
    "global_resnet_model_name='resnet18'\n",
    "global_log_dir='Official_Training'"
   ]
  },
  {
   "cell_type": "markdown",
   "id": "bb320483",
   "metadata": {},
   "source": [
    "## Models and Tasks examined"
   ]
  },
  {
   "cell_type": "markdown",
   "id": "6261f114",
   "metadata": {},
   "source": [
    "Per cominciare si è scelto di analizzare il modello ResNet, di cui il modello più popolare è considerato ResNet50. \n",
    "Qui si è scelto di prendere in considerazione l'analisi di Resnet50 e ResNet18 per confrontarne i risultati rispetto al task proposto.\n",
    "\n",
    "Si è costruito un LightningModule denominato ResNetModule che permette l'utilizzo dei due modelli tramite Pytorch Lightning. Per effettuare analisi con diversi modelli di ResNet, impostare la variabile `global_resnet_model` nella cella sopra."
   ]
  },
  {
   "cell_type": "code",
   "execution_count": null,
   "id": "6d2f962c",
   "metadata": {},
   "outputs": [],
   "source": [
    "class CustomResNetModule(pl.LightningModule):\n",
    "    def __init__(self, resnet_model, num_classes, lr=1e-3):\n",
    "        super(CustomResNetModule, self).__init__()\n",
    "        self.save_hyperparameters(ignore=['resnet_model'])\n",
    "\n",
    "        self.in_features = resnet_model.fc.in_features\n",
    "\n",
    "        # pop fully connected layer\n",
    "        resnet_model._modules.pop(list(resnet_model._modules.keys())[-1])\n",
    "\n",
    "        # feature extractor from resnet\n",
    "        self.feature_extractor = nn.Sequential(resnet_model._modules)\n",
    "\n",
    "        # classifier from resnet\n",
    "        self.classifier = nn.Sequential(\n",
    "            nn.Linear(self.in_features, 512),\n",
    "            nn.Dropout(0.5),\n",
    "            nn.Linear(512, self.hparams.num_classes)\n",
    "        )\n",
    "        \n",
    "        self.loss_fn = nn.CrossEntropyLoss()\n",
    "        \n",
    "        self.train_acc = torchmetrics.Accuracy()\n",
    "        self.val_acc = torchmetrics.Accuracy()\n",
    "        self.test_acc = torchmetrics.Accuracy()\n",
    "        self.test_prec_rec = torchmetrics.PrecisionRecallCurve(self.hparams.num_classes)\n",
    "        self.test_f1 = torchmetrics.F1Score(self.hparams.num_classes)\n",
    "\n",
    "        self.precision = None\n",
    "        self.recall = None\n",
    "        self.thresholds = None\n",
    "\n",
    "    def forward(self, x):\n",
    "        # features extraction and reshaping to 1-dim array\n",
    "        features = self.feature_extractor(x).view(x.shape[0], -1)\n",
    "        return self.classifier(features)\n",
    "\n",
    "    def configure_optimizers(self):\n",
    "        optimizer = torch.optim.Adam(self.parameters(), lr=self.hparams.lr)\n",
    "        scheduler = torch.optim.lr_scheduler.StepLR(optimizer, step_size=2)\n",
    "        return [optimizer], [scheduler]\n",
    "\n",
    "    def training_step(self, batch, batch_idx):        \n",
    "        x, y = batch        \n",
    "        preds = self.forward(x)        \n",
    "        loss = self.loss_fn(preds, y)\n",
    "        self.train_acc(torch.argmax(preds, dim=1), y)\n",
    "        \n",
    "        self.log('training/loss', loss.item(), on_epoch=True)\n",
    "        self.log('training/accuracy', self.train_acc, on_epoch=True)\n",
    "        \n",
    "        return loss\n",
    "    \n",
    "    def test_step(self, test_batch, batch_idx):\n",
    "        x, y = test_batch\n",
    "        output = self.forward(x)\n",
    "        \n",
    "        return {\n",
    "            'predictions': output.cpu().topk(1).indices,\n",
    "            'labels': y.cpu()\n",
    "        }\n",
    "        \n",
    "    def test_epoch_end(self, outputs):\n",
    "        predictions = np.concatenate([o['predictions'] for o in outputs])\n",
    "        labels = np.concatenate([o['labels'] for o in outputs])\n",
    "\n",
    "        self.test_acc(predictions, labels)   \n",
    "        self.precision, self.recall, self.thresholds = self.test_prec_rec(predictions, labels)\n",
    "        self.test_f1(predictions, labels)"
   ]
  },
  {
   "cell_type": "markdown",
   "id": "badb5eff",
   "metadata": {},
   "source": [
    "## Dataset preanalysis"
   ]
  },
  {
   "cell_type": "markdown",
   "id": "b7742fd8",
   "metadata": {},
   "source": [
    "The cell below setup the dataset. It downloads, unpacks, and extracts patches from the original dataset. It may take a while on the first execution, then it will recognize the datasets and loads them taking a relatively short time."
   ]
  },
  {
   "cell_type": "code",
   "execution_count": 3,
   "id": "6092cdfb",
   "metadata": {},
   "outputs": [
    {
     "name": "stdout",
     "output_type": "stream",
     "text": [
      "Classification dataset found.\n"
     ]
    }
   ],
   "source": [
    "# REQUIRED the first execution\n",
    "dm = CulturalSiteDataModule(\n",
    "    batch_size=32, \n",
    "    dataset_type=CulturalSiteDataModule.SYNTHETIC_DATASET, \n",
    "    num_classes=16, \n",
    "    num_workers=6)\n",
    "\n",
    "dm.prepare_data()\n",
    "dm.setup(CulturalSiteDataModule.ALL_STAGE)"
   ]
  },
  {
   "cell_type": "code",
   "execution_count": 9,
   "id": "174eb847",
   "metadata": {},
   "outputs": [
    {
     "data": {
      "image/png": "[encoded data removed]",
      "text/plain": [
       "<Figure size 1584x432 with 3 Axes>"
      ]
     },
     "metadata": {
      "needs_background": "light"
     },
     "output_type": "display_data"
    }
   ],
   "source": [
    "fig, (train_subplot, val_subplot, test_subplot) = plt.subplots(1, 3)\n",
    "dm.train_preanalysis(train_subplot, 'Train')\n",
    "dm.val_preanalysis(val_subplot, 'Validation')\n",
    "dm.test_preanalysis(test_subplot, 'Test')\n",
    "fig.set_size_inches(22, 6)\n",
    "plt.show()"
   ]
  },
  {
   "cell_type": "markdown",
   "id": "fbf6535e",
   "metadata": {},
   "source": [
    "## 1. Filtering study case"
   ]
  },
  {
   "cell_type": "markdown",
   "id": "f80f4c03",
   "metadata": {},
   "source": [
    "Some patches extracted from the original dataset consist of a set of pixels that do not reflect the represented image. So we decided to analyze:\n",
    "\n",
    "1) Training performed on the unfiltered dataset\n",
    "2) Training performed on the filtered dataset (patches with less than a theshold of pixels per side are removed)"
   ]
  },
  {
   "cell_type": "markdown",
   "id": "beb4122f",
   "metadata": {},
   "source": [
    "### Case 1.1: Training performed on the unfiltered dataset"
   ]
  },
  {
   "cell_type": "markdown",
   "id": "70777506",
   "metadata": {},
   "source": [
    "#### 1.1.1 Import Dataset"
   ]
  },
  {
   "cell_type": "code",
   "execution_count": 4,
   "id": "1d56b788",
   "metadata": {},
   "outputs": [
    {
     "name": "stdout",
     "output_type": "stream",
     "text": [
      "Classification dataset found.\n"
     ]
    }
   ],
   "source": [
    "dm = CulturalSiteDataModule(\n",
    "    batch_size=32, \n",
    "    dataset_type=CulturalSiteDataModule.SYNTHETIC_DATASET, \n",
    "    num_classes=16, \n",
    "    num_workers=6)\n",
    "\n",
    "dm.prepare_data()\n",
    "dm.setup(CulturalSiteDataModule.ALL_STAGE)"
   ]
  },
  {
   "cell_type": "markdown",
   "id": "838cdb70",
   "metadata": {},
   "source": [
    "#### 1.1.2 Transform pipeline"
   ]
  },
  {
   "cell_type": "markdown",
   "id": "37b2ab7f",
   "metadata": {},
   "source": [
    "Mean and standard deviation for normalization:"
   ]
  },
  {
   "cell_type": "code",
   "execution_count": 6,
   "id": "7ab20462",
   "metadata": {},
   "outputs": [
    {
     "name": "stdout",
     "output_type": "stream",
     "text": [
      "Mean: [0.27882981 0.28949824 0.31447853]\n",
      "Std: [0.16738273 0.1728493  0.17549583]\n"
     ]
    }
   ],
   "source": [
    "# OPTIONAL: does not need to be executed\n",
    "mean, std = dm.calculate_train_mean_and_std(resize_min_size=256)\n",
    "print(\"Mean: \" + str(mean))\n",
    "print(\"Std: \" + str(std))"
   ]
  },
  {
   "cell_type": "code",
   "execution_count": 7,
   "id": "86405015",
   "metadata": {},
   "outputs": [],
   "source": [
    "mean=(0.27882981, 0.28949824, 0.31447853)\n",
    "std=(0.16738273, 0.1728493, 0.17549583)\n",
    "train_transform = transforms.Compose([\n",
    "    transforms.Resize(256, transforms.InterpolationMode.BICUBIC),\n",
    "    transforms.RandomCrop(224),\n",
    "    transforms.RandomHorizontalFlip(),\n",
    "    transforms.ToTensor(),\n",
    "    transforms.Normalize(mean=mean, std=std)\n",
    "])\n",
    "\n",
    "val_and_test_transform = transforms.Compose([\n",
    "    transforms.Resize(256, transforms.InterpolationMode.BICUBIC),\n",
    "    transforms.CenterCrop(224),             # CenterCrop instead of RandomCrop to make the test deterministic\n",
    "    transforms.RandomHorizontalFlip(),\n",
    "    transforms.ToTensor(),\n",
    "    transforms.Normalize(mean=mean, std=std)\n",
    "])\n",
    "\n",
    "dm.set_train_trasform(train_transform)\n",
    "dm.set_val_trasform(val_and_test_transform)\n",
    "dm.set_test_trasform(val_and_test_transform)"
   ]
  },
  {
   "cell_type": "markdown",
   "id": "bc37f40c",
   "metadata": {},
   "source": [
    "#### 1.1.3 Training (no filter)"
   ]
  },
  {
   "cell_type": "code",
   "execution_count": 8,
   "id": "bcb07981",
   "metadata": {},
   "outputs": [
    {
     "name": "stderr",
     "output_type": "stream",
     "text": [
      "c:\\Users\\danil\\anaconda3\\lib\\site-packages\\torchvision\\models\\_utils.py:208: UserWarning: The parameter 'pretrained' is deprecated since 0.13 and will be removed in 0.15, please use 'weights' instead.\n",
      "  warnings.warn(\n",
      "c:\\Users\\danil\\anaconda3\\lib\\site-packages\\torchvision\\models\\_utils.py:223: UserWarning: Arguments other than a weight enum or `None` for 'weights' are deprecated since 0.13 and will be removed in 0.15. The current behavior is equivalent to passing `weights=None`.\n",
      "  warnings.warn(msg)\n",
      "GPU available: True (cuda), used: True\n",
      "TPU available: False, using: 0 TPU cores\n",
      "IPU available: False, using: 0 IPUs\n",
      "HPU available: False, using: 0 HPUs\n",
      "LOCAL_RANK: 0 - CUDA_VISIBLE_DEVICES: [0]\n",
      "\n",
      "  | Name              | Type             | Params\n",
      "-------------------------------------------------------\n",
      "0 | feature_extractor | Sequential       | 23.5 M\n",
      "1 | classifier        | Sequential       | 1.1 M \n",
      "2 | loss_fn           | CrossEntropyLoss | 0     \n",
      "3 | train_acc         | Accuracy         | 0     \n",
      "4 | val_acc           | Accuracy         | 0     \n",
      "5 | test_acc          | Accuracy         | 0     \n",
      "-------------------------------------------------------\n",
      "24.6 M    Trainable params\n",
      "0         Non-trainable params\n",
      "24.6 M    Total params\n",
      "98.261    Total estimated model params size (MB)\n"
     ]
    },
    {
     "name": "stdout",
     "output_type": "stream",
     "text": [
      "Classification dataset found.\n"
     ]
    },
    {
     "data": {
      "application/vnd.jupyter.widget-view+json": {
       "model_id": "3fdecbfd36a848518e2155c3396473e2",
       "version_major": 2,
       "version_minor": 0
      },
      "text/plain": [
       "Sanity Checking: 0it [00:00, ?it/s]"
      ]
     },
     "metadata": {},
     "output_type": "display_data"
    },
    {
     "data": {
      "application/vnd.jupyter.widget-view+json": {
       "model_id": "4b89659ca1fd4fea8eebc1f9f27ffeb1",
       "version_major": 2,
       "version_minor": 0
      },
      "text/plain": [
       "Training: 0it [00:00, ?it/s]"
      ]
     },
     "metadata": {},
     "output_type": "display_data"
    },
    {
     "name": "stderr",
     "output_type": "stream",
     "text": [
      "c:\\Users\\danil\\anaconda3\\lib\\site-packages\\pytorch_lightning\\trainer\\trainer.py:653: UserWarning: Detected KeyboardInterrupt, attempting graceful shutdown...\n",
      "  rank_zero_warn(\"Detected KeyboardInterrupt, attempting graceful shutdown...\")\n"
     ]
    }
   ],
   "source": [
    "lr=1e-4\n",
    "model = CustomResNetModule(resnet_model=global_resnet_model, num_classes=16, lr=lr)\n",
    "\n",
    "# Initialize logger\n",
    "logger = TensorBoardLogger(\n",
    "    save_dir=os.path.join(\"tb_logs\", global_log_dir), \n",
    "    name=\"no_filter_train\", \n",
    "    version=global_resnet_model_name + \"_lr_\" + str(lr))\n",
    "\n",
    "# Initialize Callbacks\n",
    "val_checkpoint_callback = pl.callbacks.ModelCheckpoint(\n",
    "    filename=\"{epoch}-{step}-{validation/loss:.1f}\",\n",
    "    monitor=\"validation/loss\",\n",
    "    mode=\"min\",\n",
    "    save_top_k=1,\n",
    "    auto_insert_metric_name=False \n",
    ")\n",
    "latest_checkpoint_callback = pl.callbacks.ModelCheckpoint(\n",
    "    filename=\"latest-{epoch}-{step}\",\n",
    "    monitor=\"step\",\n",
    "    mode=\"max\",\n",
    "    every_n_train_steps=500,\n",
    "    save_top_k=1       # save just the top\n",
    ")\n",
    "\n",
    "# Initialize a trainer\n",
    "trainer = pl.Trainer(max_epochs=-1,     # -1 manually stop\n",
    "                     accelerator=system_accelerator,\n",
    "                     devices=1,\n",
    "                     logger=logger,\n",
    "                     callbacks=[val_checkpoint_callback,\n",
    "                                latest_checkpoint_callback],\n",
    "                     )\n",
    "\n",
    "# Train the model \n",
    "trainer.fit(model, dm)\n",
    "\n",
    "# resume checkpoints\n",
    "# trainer.fit(model, dm, ckpt_path=os.path.join(os.getcwd(), \"tb_logs\", \"no_filter_train\", \"ResNet_0_lr_1e-3_m_0\", \"checkpoints\" , \"epoch=9-step=9390.ckpt\"))"
   ]
  },
  {
   "cell_type": "code",
   "execution_count": 9,
   "id": "81acafc8",
   "metadata": {},
   "outputs": [
    {
     "name": "stderr",
     "output_type": "stream",
     "text": [
      "GPU available: True (cuda), used: True\n",
      "TPU available: False, using: 0 TPU cores\n",
      "IPU available: False, using: 0 IPUs\n",
      "HPU available: False, using: 0 HPUs\n",
      "Restoring states from the checkpoint path at e:\\github\\deep-learning-project\\tb_logs\\no_filter_train\\ResNet_1_lr_1e-3_m_0\\checkpoints\\epoch=14-step=16335-val_loss=0.2.ckpt\n",
      "LOCAL_RANK: 0 - CUDA_VISIBLE_DEVICES: [0]\n",
      "Loaded model weights from checkpoint at e:\\github\\deep-learning-project\\tb_logs\\no_filter_train\\ResNet_1_lr_1e-3_m_0\\checkpoints\\epoch=14-step=16335-val_loss=0.2.ckpt\n"
     ]
    },
    {
     "data": {
      "application/vnd.jupyter.widget-view+json": {
       "model_id": "08c0426910684df9aad01e9feae81474",
       "version_major": 2,
       "version_minor": 0
      },
      "text/plain": [
       "Testing: 0it [00:00, ?it/s]"
      ]
     },
     "metadata": {},
     "output_type": "display_data"
    },
    {
     "name": "stdout",
     "output_type": "stream",
     "text": [
      "────────────────────────────────────────────────────────────────────────────────────────────────────────────────────────\n",
      "       Test metric             DataLoader 0\n",
      "────────────────────────────────────────────────────────────────────────────────────────────────────────────────────────\n",
      "        test_acc            0.9368204474449158\n",
      "────────────────────────────────────────────────────────────────────────────────────────────────────────────────────────\n"
     ]
    },
    {
     "data": {
      "text/plain": [
       "[{'test_acc': 0.9368204474449158}]"
      ]
     },
     "execution_count": 9,
     "metadata": {},
     "output_type": "execute_result"
    }
   ],
   "source": [
    "# Evaluate the model on the held-out test set \n",
    "trainer = pl.Trainer(accelerator=system_accelerator)\n",
    "model = CustomResNetModule(resnet_model=global_resnet_model, num_classes=16)\n",
    "trainer.test(\n",
    "    model=model,\n",
    "    dataloaders=dm.test_dataloader(), \n",
    "    ckpt_path=os.path.join(os.getcwd(), \"tb_logs\", \"no_filter_train\", \"ResNet_1_lr_1e-3_m_0\", \"checkpoints\" , \"epoch=14-step=16335-val_loss=0.2.ckpt\"))"
   ]
  },
  {
   "cell_type": "markdown",
   "id": "2b77a108",
   "metadata": {},
   "source": [
    "#### 1.1.4 Result"
   ]
  },
  {
   "cell_type": "markdown",
   "id": "cb962fae",
   "metadata": {},
   "source": [
    "TODO: add result"
   ]
  },
  {
   "cell_type": "markdown",
   "id": "56f40825",
   "metadata": {},
   "source": [
    "### Case 1.2: Training performed on the filtered dataset\n",
    "<a id='filter_case_2'></a>"
   ]
  },
  {
   "cell_type": "markdown",
   "id": "9bccdb89",
   "metadata": {},
   "source": [
    "Some patches extracted from the original dataset consist of a set of pixels that do not reflect the represented image. So we decided to analyze and apply a filter to cut them out."
   ]
  },
  {
   "cell_type": "markdown",
   "id": "70777506",
   "metadata": {},
   "source": [
    "#### 1.2.1 Import Dataset"
   ]
  },
  {
   "cell_type": "code",
   "execution_count": 3,
   "id": "1d56b788",
   "metadata": {},
   "outputs": [
    {
     "name": "stdout",
     "output_type": "stream",
     "text": [
      "Classification dataset found.\n"
     ]
    }
   ],
   "source": [
    "dm = CulturalSiteDataModule(\n",
    "    batch_size=32, \n",
    "    dataset_type=CulturalSiteDataModule.SYNTHETIC_DATASET, \n",
    "    num_classes=16, \n",
    "    num_workers=6)\n",
    "\n",
    "dm.prepare_data()\n",
    "dm.setup(CulturalSiteDataModule.ALL_STAGE)"
   ]
  },
  {
   "cell_type": "markdown",
   "id": "70777506",
   "metadata": {},
   "source": [
    "#### 1.2.2 Applying filter"
   ]
  },
  {
   "cell_type": "code",
   "execution_count": 4,
   "id": "959a5c8d",
   "metadata": {},
   "outputs": [
    {
     "data": {
      "image/png": "[encoded data removed]",
      "text/plain": [
       "<Figure size 864x360 with 2 Axes>"
      ]
     },
     "metadata": {
      "needs_background": "light"
     },
     "output_type": "display_data"
    },
    {
     "data": {
      "image/png": "[encoded data removed]",
      "text/plain": [
       "<Figure size 864x360 with 2 Axes>"
      ]
     },
     "metadata": {
      "needs_background": "light"
     },
     "output_type": "display_data"
    },
    {
     "data": {
      "image/png": "[encoded data removed]",
      "text/plain": [
       "<Figure size 864x360 with 2 Axes>"
      ]
     },
     "metadata": {
      "needs_background": "light"
     },
     "output_type": "display_data"
    }
   ],
   "source": [
    "pixel_threshold = 30\n",
    "train_fig, (train_prev_subplot, train_post_subplot) = plt.subplots(1, 2)\n",
    "dm.train_preanalysis(train_prev_subplot, 'Before Filtering')\n",
    "dm.filter_train(pixel_threshold)\n",
    "dm.train_preanalysis(train_post_subplot, 'After Filtering')\n",
    "train_fig.set_size_inches(12, 5)\n",
    "train_fig.suptitle('Train')\n",
    "\n",
    "val_fig, (val_prev_subplot, val_post_subplot) = plt.subplots(1, 2)\n",
    "dm.val_preanalysis(val_prev_subplot, 'Before Filtering')\n",
    "dm.filter_val(pixel_threshold)\n",
    "dm.val_preanalysis(val_post_subplot, 'After Filtering')\n",
    "val_fig.set_size_inches(12, 5)\n",
    "val_fig.suptitle('Validation')\n",
    "\n",
    "test_fig, (test_prev_subplot, test_post_subplot) = plt.subplots(1, 2)\n",
    "dm.test_preanalysis(test_prev_subplot, 'Before Filtering')\n",
    "dm.filter_test(pixel_threshold)\n",
    "dm.test_preanalysis(test_post_subplot, 'After Filtering')\n",
    "test_fig.set_size_inches(12, 5)\n",
    "test_fig.suptitle('Test')\n",
    "plt.show()"
   ]
  },
  {
   "cell_type": "markdown",
   "id": "838cdb70",
   "metadata": {},
   "source": [
    "#### 1.2.3 Transform pipeline"
   ]
  },
  {
   "cell_type": "markdown",
   "id": "2088a584",
   "metadata": {},
   "source": [
    "Mean and standard deviation for normalization:"
   ]
  },
  {
   "cell_type": "code",
   "execution_count": 7,
   "id": "86405015",
   "metadata": {},
   "outputs": [
    {
     "name": "stdout",
     "output_type": "stream",
     "text": [
      "Mean: [0.28162546 0.29239721 0.31711673]\n",
      "Std: [0.17125229 0.17715992 0.18002949]\n"
     ]
    }
   ],
   "source": [
    "# OPTIONAL: does not need to be executed\n",
    "mean, std = dm.calculate_train_mean_and_std(resize_min_size=256)\n",
    "print(\"Mean: \" + str(mean))\n",
    "print(\"Std: \" + str(std))"
   ]
  },
  {
   "cell_type": "code",
   "execution_count": 6,
   "id": "91cb0685",
   "metadata": {},
   "outputs": [],
   "source": [
    "mean=(0.28162546, 0.29239721, 0.31711673)\n",
    "std=(0.17125229, 0.17715992, 0.18002949)\n",
    "train_transform = transforms.Compose([\n",
    "    transforms.Resize(256, transforms.InterpolationMode.BICUBIC),\n",
    "    transforms.RandomCrop(224),\n",
    "    transforms.RandomHorizontalFlip(),\n",
    "    transforms.ToTensor(),\n",
    "    transforms.Normalize(mean=mean, std=std)\n",
    "])\n",
    "\n",
    "val_and_test_transform = transforms.Compose([\n",
    "    transforms.Resize(256, transforms.InterpolationMode.BICUBIC),\n",
    "    transforms.CenterCrop(224),             # CenterCrop instead of RandomCrop to make the test deterministic\n",
    "    transforms.RandomHorizontalFlip(),\n",
    "    transforms.ToTensor(),\n",
    "    transforms.Normalize(mean=mean, std=std)\n",
    "])\n",
    "\n",
    "dm.set_train_trasform(train_transform)\n",
    "dm.set_val_trasform(val_and_test_transform)\n",
    "dm.set_test_trasform(val_and_test_transform)"
   ]
  },
  {
   "cell_type": "markdown",
   "id": "87880967",
   "metadata": {},
   "source": [
    "#### 1.2.4 Training (filtered dataset)"
   ]
  },
  {
   "cell_type": "code",
   "execution_count": null,
   "id": "940c9048",
   "metadata": {},
   "outputs": [],
   "source": [
    "lr=2e-4\n",
    "model = CustomResNetModule(resnet_model=global_resnet_model, num_classes=16, lr=lr)\n",
    "\n",
    "# Initialize logger\n",
    "logger = TensorBoardLogger(\n",
    "    save_dir=os.path.join(\"tb_logs\", global_log_dir), \n",
    "    name=\"filtered_train\", \n",
    "    version=global_resnet_model_name + \"_lr_\" + str(lr))\n",
    "\n",
    "val_checkpoint_callback = pl.callbacks.ModelCheckpoint(\n",
    "    filename=\"{epoch}-{step}-{validation/loss:.1f}\",\n",
    "    monitor=\"validation/loss\",\n",
    "    mode=\"min\",\n",
    "    save_top_k=1,\n",
    "    auto_insert_metric_name=False\n",
    ")\n",
    "latest_checkpoint_callback = pl.callbacks.ModelCheckpoint(\n",
    "    filename=\"latest-{epoch}-{step}\",\n",
    "    monitor=\"step\",\n",
    "    mode=\"max\",\n",
    "    every_n_train_steps=500,\n",
    "    save_top_k=1       # save just the top\n",
    ")\n",
    "\n",
    "# Initialize a trainer\n",
    "trainer = pl.Trainer(max_epochs=50,\n",
    "                     accelerator=system_accelerator,\n",
    "                     devices=1,\n",
    "                     logger=logger,\n",
    "                     callbacks=[val_checkpoint_callback,\n",
    "                                latest_checkpoint_callback],\n",
    "                     )\n",
    "\n",
    "# Train the model \n",
    "trainer.fit(model, dm)\n",
    "\n",
    "# resume checkpoints\n",
    "# trainer.fit(model, dm, ckpt_path=os.path.join(os.getcwd(), \"tb_logs\", \"Official_Training\", \"filtered_train\", \"resnet18_lr_0.0001\", \"checkpoints\" , \"latest-epoch=29-step=28000.ckpt\"))"
   ]
  },
  {
   "cell_type": "code",
   "execution_count": 6,
   "id": "2e2da86d",
   "metadata": {},
   "outputs": [
    {
     "name": "stderr",
     "output_type": "stream",
     "text": [
      "GPU available: True (cuda), used: True\n",
      "TPU available: False, using: 0 TPU cores\n",
      "IPU available: False, using: 0 IPUs\n",
      "HPU available: False, using: 0 HPUs\n",
      "Restoring states from the checkpoint path at e:\\github\\deep-learning-project\\tb_logs\\Official_Training\\filtered_train\\resnet18_lr_0.0002\\checkpoints\\11-11268-0.1.ckpt\n",
      "LOCAL_RANK: 0 - CUDA_VISIBLE_DEVICES: [0]\n",
      "Loaded model weights from checkpoint at e:\\github\\deep-learning-project\\tb_logs\\Official_Training\\filtered_train\\resnet18_lr_0.0002\\checkpoints\\11-11268-0.1.ckpt\n"
     ]
    },
    {
     "data": {
      "application/vnd.jupyter.widget-view+json": {
       "model_id": "4ee85d1d05454ea9ac9b80b86a4cea8c",
       "version_major": 2,
       "version_minor": 0
      },
      "text/plain": [
       "Testing: 0it [00:00, ?it/s]"
      ]
     },
     "metadata": {},
     "output_type": "display_data"
    },
    {
     "name": "stdout",
     "output_type": "stream",
     "text": [
      "────────────────────────────────────────────────────────────────────────────────────────────────────────────────────────\n",
      "       Test metric             DataLoader 0\n",
      "────────────────────────────────────────────────────────────────────────────────────────────────────────────────────────\n",
      "      test/accuracy         0.9788158535957336\n",
      "────────────────────────────────────────────────────────────────────────────────────────────────────────────────────────\n"
     ]
    },
    {
     "data": {
      "text/plain": [
       "[{'test/accuracy': 0.9788158535957336}]"
      ]
     },
     "execution_count": 6,
     "metadata": {},
     "output_type": "execute_result"
    }
   ],
   "source": [
    "# Evaluate the model on the held-out test set \n",
    "lr=2e-4\n",
    "logger = TensorBoardLogger(\n",
    "    save_dir=os.path.join(\"tb_logs\", global_log_dir), \n",
    "    name=\"filtered_train\", \n",
    "    version=global_resnet_model_name + \"_lr_\" + str(lr) + \"_test\")\n",
    "trainer = pl.Trainer(accelerator=system_accelerator, devices=1, logger=logger)\n",
    "model = CustomResNetModule(resnet_model=global_resnet_model, num_classes=16)\n",
    "trainer.test(\n",
    "    model=model,\n",
    "    dataloaders=dm.test_dataloader(), \n",
    "    ckpt_path=os.path.join(os.getcwd(), \"tb_logs\", \"Official_Training\", \"filtered_train\", \"resnet18_lr_0.0002\", \"checkpoints\" , \"11-11268-0.1.ckpt\"))"
   ]
  },
  {
   "cell_type": "markdown",
   "id": "2b77a108",
   "metadata": {},
   "source": [
    "#### 1.2.5 Result"
   ]
  },
  {
   "cell_type": "markdown",
   "id": "5e02620f",
   "metadata": {},
   "source": [
    "TODO: mettere considerazioni, ad esempio quale dei due percorsi si è optato, se considerare il dataset filtrato o quello originale per lo studio\n",
    "\n",
    "![ResNet Filtered Case](./docs/resnet_filtered_case.png)\n",
    "\n",
    "Il valore ottimale di learning rate con i modelli valutati è 1e-4. ResNet18 (viola) si comporta leggermente meglio durante il training rispetto a ResNet50 (blu) sul task dato. I valori delle metriche prese in esame per il caso migliore validation/loss minima sono riportati nella seguente tabella:\n",
    "\n",
    "|   Models | Accuracy | Precision |   Recall | F1-Score |\n",
    "|:--------:|:--------:|:---------:|:--------:|:--------:|\n",
    "| ResNet50 |   25.0%  |   25.0%   |   25.0%  |   25.0%  |\n",
    "| ResNet18 |   25.0%  |   25.0%   |   25.0%  |   25.0%  |\n",
    "\n"
   ]
  },
  {
   "cell_type": "markdown",
   "id": "6630afb7",
   "metadata": {},
   "source": [
    "### Filtering Overall Result"
   ]
  },
  {
   "cell_type": "markdown",
   "id": "1e3f7863",
   "metadata": {},
   "source": [
    "Per ora abbiamo constatato che il filtro migliora sia loss che accuracy del validation."
   ]
  },
  {
   "cell_type": "markdown",
   "id": "7c7f500a",
   "metadata": {},
   "source": [
    "## 2. Domain adaptation study cases"
   ]
  },
  {
   "cell_type": "markdown",
   "id": "c2dfb075",
   "metadata": {},
   "source": [
    "### 2.1 Baseline approaches without adaption\n",
    "The first case of study is to train the classifier on the synthetic dataset and then test it on the real dataset, then evaluate the performance."
   ]
  },
  {
   "cell_type": "markdown",
   "id": "b9faef35",
   "metadata": {},
   "source": [
    " ### Study Cases"
   ]
  },
  {
   "cell_type": "markdown",
   "id": "8ea3ece0",
   "metadata": {},
   "source": [
    "#### 2.1.1 The model is trained on synthetic images and tested on synthetic images (no domain shift)"
   ]
  },
  {
   "cell_type": "markdown",
   "id": "dc4e07f0",
   "metadata": {},
   "source": [
    "The training is the same as above. [Case 2 filtered](#filter_case_2) is taken as it returns the best results."
   ]
  },
  {
   "cell_type": "code",
   "execution_count": 18,
   "id": "caf23cbd",
   "metadata": {},
   "outputs": [
    {
     "name": "stdout",
     "output_type": "stream",
     "text": [
      "Dataset setup\n",
      "Classification dataset found.\n",
      "Dataset applying filter\n",
      "Dataset set transform\n"
     ]
    }
   ],
   "source": [
    "print(\"Dataset setup\")\n",
    "dm = CulturalSiteDataModule(\n",
    "    batch_size=32, \n",
    "    dataset_type=CulturalSiteDataModule.SYNTHETIC_DATASET, \n",
    "    num_classes=16, \n",
    "    num_workers=6)\n",
    "\n",
    "dm.prepare_data()\n",
    "dm.setup(CulturalSiteDataModule.TEST_STAGE)\n",
    "\n",
    "print(\"Dataset applying filter\")\n",
    "pixel_threshold = 30\n",
    "dm.filter_test(pixel_threshold)\n",
    "\n",
    "print(\"Dataset set transform\")\n",
    "val_and_test_transform = transforms.Compose([\n",
    "    transforms.Resize(256),\n",
    "    transforms.CenterCrop(224),\n",
    "    transforms.RandomHorizontalFlip(),\n",
    "    transforms.ToTensor(),\n",
    "    transforms.Normalize(mean=(0.28162546, 0.29239721, 0.31711673), std=(0.17125229, 0.17715992, 0.18002949))\n",
    "])\n",
    "dm.set_test_trasform(val_and_test_transform)\n"
   ]
  },
  {
   "cell_type": "code",
   "execution_count": 19,
   "id": "6b8dd919",
   "metadata": {},
   "outputs": [
    {
     "name": "stderr",
     "output_type": "stream",
     "text": [
      "GPU available: True (cuda), used: True\n",
      "TPU available: False, using: 0 TPU cores\n",
      "IPU available: False, using: 0 IPUs\n",
      "HPU available: False, using: 0 HPUs\n",
      "Restoring states from the checkpoint path at e:\\github\\deep-learning-project\\tb_logs\\filtered_train\\ResNet_0_lr_1e-4_m_0\\checkpoints\\epoch=17-step=16902-val_loss=0.1.ckpt\n",
      "LOCAL_RANK: 0 - CUDA_VISIBLE_DEVICES: [0]\n",
      "Loaded model weights from checkpoint at e:\\github\\deep-learning-project\\tb_logs\\filtered_train\\ResNet_0_lr_1e-4_m_0\\checkpoints\\epoch=17-step=16902-val_loss=0.1.ckpt\n"
     ]
    },
    {
     "data": {
      "application/vnd.jupyter.widget-view+json": {
       "model_id": "d9432d4f7cc64ddc9fc3b42016bebeea",
       "version_major": 2,
       "version_minor": 0
      },
      "text/plain": [
       "Testing: 0it [00:00, ?it/s]"
      ]
     },
     "metadata": {},
     "output_type": "display_data"
    },
    {
     "name": "stdout",
     "output_type": "stream",
     "text": [
      "────────────────────────────────────────────────────────────────────────────────────────────────────────────────────────\n",
      "       Test metric             DataLoader 0\n",
      "────────────────────────────────────────────────────────────────────────────────────────────────────────────────────────\n",
      "        test_acc            0.9791553616523743\n",
      "────────────────────────────────────────────────────────────────────────────────────────────────────────────────────────\n"
     ]
    },
    {
     "data": {
      "text/plain": [
       "[{'test_acc': 0.9791553616523743}]"
      ]
     },
     "execution_count": 19,
     "metadata": {},
     "output_type": "execute_result"
    }
   ],
   "source": [
    "trainer = pl.Trainer(accelerator=system_accelerator)\n",
    "model = CustomResNetModule(model=global_resnet_model, num_classes=16, lr=1e-4)\n",
    "trainer.test(\n",
    "    model=model,\n",
    "    dataloaders=dm.test_dataloader(), \n",
    "    ckpt_path=os.path.join(os.getcwd(), \"tb_logs\", \"filtered_train\", \"ResNet_0_lr_1e-4_m_0\", \"checkpoints\" , \"epoch=17-step=16902-val_loss=0.1.ckpt\"))"
   ]
  },
  {
   "cell_type": "markdown",
   "id": "2b77a108",
   "metadata": {},
   "source": [
    " #### 2.1.1.1 Result"
   ]
  },
  {
   "cell_type": "markdown",
   "id": "7b695b5c",
   "metadata": {},
   "source": [
    "Perfomance analysis are the same as above in [Case 2 filtered](#filter_case_2)."
   ]
  },
  {
   "cell_type": "markdown",
   "id": "83b0bec8",
   "metadata": {},
   "source": [
    "#### 2.1.2 The model is trained on synthetic images and tested on real images (no adaptation)"
   ]
  },
  {
   "cell_type": "code",
   "execution_count": 16,
   "id": "9005ed7b",
   "metadata": {},
   "outputs": [
    {
     "name": "stdout",
     "output_type": "stream",
     "text": [
      "Dataset setup\n",
      "Classification dataset found.\n",
      "Dataset applying filter\n",
      "Dataset set transform\n"
     ]
    },
    {
     "data": {
      "image/png": "[encoded data removed]",
      "text/plain": [
       "<Figure size 864x360 with 2 Axes>"
      ]
     },
     "metadata": {
      "needs_background": "light"
     },
     "output_type": "display_data"
    }
   ],
   "source": [
    "print(\"Dataset setup\")\n",
    "dm = CulturalSiteDataModule(\n",
    "    batch_size=32, \n",
    "    dataset_type=CulturalSiteDataModule.REAL_DATASET, \n",
    "    num_classes=16, \n",
    "    num_workers=6)\n",
    "\n",
    "dm.prepare_data()\n",
    "dm.setup(CulturalSiteDataModule.TEST_STAGE)\n",
    "\n",
    "print(\"Dataset applying filter\")\n",
    "test_fig, (test_prev_subplot, test_post_subplot) = plt.subplots(1, 2)\n",
    "dm.test_preanalysis(test_prev_subplot, 'Before Filtering')\n",
    "dm.filter_test(pixel_threshold=30)\n",
    "dm.test_preanalysis(test_post_subplot, 'After Filtering')\n",
    "test_fig.set_size_inches(12, 5)\n",
    "test_fig.suptitle('Test')\n",
    "\n",
    "print(\"Dataset set transform\")\n",
    "val_and_test_transform = transforms.Compose([\n",
    "    transforms.Resize(256),\n",
    "    transforms.CenterCrop(224),\n",
    "    transforms.RandomHorizontalFlip(),\n",
    "    transforms.ToTensor(),\n",
    "    transforms.Normalize(mean=(0.28162546, 0.29239721, 0.31711673), std=(0.17125229, 0.17715992, 0.18002949))\n",
    "])\n",
    "\n",
    "dm.set_test_trasform(val_and_test_transform)\n",
    "plt.show()"
   ]
  },
  {
   "cell_type": "code",
   "execution_count": 17,
   "id": "40e171db",
   "metadata": {},
   "outputs": [
    {
     "name": "stderr",
     "output_type": "stream",
     "text": [
      "GPU available: True (cuda), used: True\n",
      "TPU available: False, using: 0 TPU cores\n",
      "IPU available: False, using: 0 IPUs\n",
      "HPU available: False, using: 0 HPUs\n",
      "Restoring states from the checkpoint path at e:\\github\\deep-learning-project\\tb_logs\\filtered_train\\ResNet_0_lr_1e-4_m_0\\checkpoints\\epoch=17-step=16902-val_loss=0.1.ckpt\n",
      "LOCAL_RANK: 0 - CUDA_VISIBLE_DEVICES: [0]\n",
      "Loaded model weights from checkpoint at e:\\github\\deep-learning-project\\tb_logs\\filtered_train\\ResNet_0_lr_1e-4_m_0\\checkpoints\\epoch=17-step=16902-val_loss=0.1.ckpt\n"
     ]
    },
    {
     "data": {
      "application/vnd.jupyter.widget-view+json": {
       "model_id": "ead402dedf7c44d3b8db75a73fbcf49a",
       "version_major": 2,
       "version_minor": 0
      },
      "text/plain": [
       "Testing: 0it [00:00, ?it/s]"
      ]
     },
     "metadata": {},
     "output_type": "display_data"
    },
    {
     "name": "stdout",
     "output_type": "stream",
     "text": [
      "────────────────────────────────────────────────────────────────────────────────────────────────────────────────────────\n",
      "       Test metric             DataLoader 0\n",
      "────────────────────────────────────────────────────────────────────────────────────────────────────────────────────────\n",
      "        test_acc           0.029569892212748528\n",
      "────────────────────────────────────────────────────────────────────────────────────────────────────────────────────────\n"
     ]
    },
    {
     "data": {
      "text/plain": [
       "[{'test_acc': 0.029569892212748528}]"
      ]
     },
     "execution_count": 17,
     "metadata": {},
     "output_type": "execute_result"
    }
   ],
   "source": [
    "trainer = pl.Trainer(accelerator=system_accelerator)\n",
    "model = CustomResNetModule(model=global_resnet_model, num_classes=16, lr=1e-4)\n",
    "trainer.test(\n",
    "    model=model,\n",
    "    dataloaders=dm.test_dataloader(), \n",
    "    ckpt_path=os.path.join(os.getcwd(), \"tb_logs\", \"filtered_train\", \"ResNet_0_lr_1e-4_m_0\", \"checkpoints\" , \"epoch=17-step=16902-val_loss=0.1.ckpt\"))"
   ]
  },
  {
   "cell_type": "markdown",
   "id": "2b77a108",
   "metadata": {},
   "source": [
    " #### 2.1.2.1 Result"
   ]
  },
  {
   "cell_type": "markdown",
   "id": "3ede4494",
   "metadata": {},
   "source": [
    "TODO: add performance analysis"
   ]
  },
  {
   "cell_type": "markdown",
   "id": "7ff01e58",
   "metadata": {},
   "source": [
    "#### 2.1.3 The model is trained on real images and tested on real images (Oracle)"
   ]
  },
  {
   "cell_type": "code",
   "execution_count": 1,
   "id": "aa0f69cc",
   "metadata": {},
   "outputs": [
    {
     "name": "stdout",
     "output_type": "stream",
     "text": [
      "Classification dataset found.\n"
     ]
    }
   ],
   "source": [
    "dm = CulturalSiteDataModule(\n",
    "    batch_size=32, \n",
    "    dataset_type=CulturalSiteDataModule.REAL_DATASET, \n",
    "    num_classes=16, \n",
    "    num_workers=6)\n",
    "\n",
    "dm.prepare_data()\n",
    "dm.setup(CulturalSiteDataModule.ALL_STAGE)"
   ]
  },
  {
   "cell_type": "code",
   "execution_count": 4,
   "id": "2240c913",
   "metadata": {},
   "outputs": [
    {
     "data": {
      "image/png": "[encoded data removed]",
      "text/plain": [
       "<Figure size 864x360 with 2 Axes>"
      ]
     },
     "metadata": {
      "needs_background": "light"
     },
     "output_type": "display_data"
    },
    {
     "data": {
      "image/png": "[encoded data removed]",
      "text/plain": [
       "<Figure size 864x360 with 2 Axes>"
      ]
     },
     "metadata": {
      "needs_background": "light"
     },
     "output_type": "display_data"
    },
    {
     "data": {
      "image/png": "[encoded data removed]",
      "text/plain": [
       "<Figure size 864x360 with 2 Axes>"
      ]
     },
     "metadata": {
      "needs_background": "light"
     },
     "output_type": "display_data"
    }
   ],
   "source": [
    "pixel_threshold = 30\n",
    "train_fig, (train_prev_subplot, train_post_subplot) = plt.subplots(1, 2)\n",
    "dm.train_preanalysis(train_prev_subplot, 'Before Filtering')\n",
    "dm.filter_train(pixel_threshold)\n",
    "dm.train_preanalysis(train_post_subplot, 'After Filtering')\n",
    "train_fig.set_size_inches(12, 5)\n",
    "train_fig.suptitle('Train')\n",
    "\n",
    "val_fig, (val_prev_subplot, val_post_subplot) = plt.subplots(1, 2)\n",
    "dm.val_preanalysis(val_prev_subplot, 'Before Filtering')\n",
    "dm.filter_val(pixel_threshold)\n",
    "dm.val_preanalysis(val_post_subplot, 'After Filtering')\n",
    "val_fig.set_size_inches(12, 5)\n",
    "val_fig.suptitle('Validation')\n",
    "\n",
    "test_fig, (test_prev_subplot, test_post_subplot) = plt.subplots(1, 2)\n",
    "dm.test_preanalysis(test_prev_subplot, 'Before Filtering')\n",
    "dm.filter_test(pixel_threshold)\n",
    "dm.test_preanalysis(test_post_subplot, 'After Filtering')\n",
    "test_fig.set_size_inches(12, 5)\n",
    "test_fig.suptitle('Test')\n",
    "plt.show()"
   ]
  },
  {
   "cell_type": "code",
   "execution_count": 5,
   "id": "333bec09",
   "metadata": {},
   "outputs": [
    {
     "name": "stdout",
     "output_type": "stream",
     "text": [
      "Mean: [0.45401238 0.39960463 0.31759819]\n",
      "Std: [0.26222476 0.25603036 0.25329951]\n"
     ]
    }
   ],
   "source": [
    "# OPTIONAL: does not need to be executed\n",
    "mean, std = dm.calculate_train_mean_and_std(resize_min_size=256)\n",
    "print(\"Mean: \" + str(mean))\n",
    "print(\"Std: \" + str(std))"
   ]
  },
  {
   "cell_type": "code",
   "execution_count": 6,
   "id": "1b6ca2b6",
   "metadata": {},
   "outputs": [],
   "source": [
    "mean=(0.45401238, 0.39960463, 0.31759819)\n",
    "std=(0.26222476, 0.25603036, 0.25329951)\n",
    "train_transform = transforms.Compose([\n",
    "    transforms.Resize(256, transforms.InterpolationMode.BICUBIC),\n",
    "    transforms.RandomCrop(224),\n",
    "    transforms.RandomHorizontalFlip(),\n",
    "    transforms.ToTensor(),\n",
    "    transforms.Normalize(mean=mean, std=std)\n",
    "])\n",
    "\n",
    "val_and_test_transform = transforms.Compose([\n",
    "    transforms.Resize(256, transforms.InterpolationMode.BICUBIC),\n",
    "    transforms.CenterCrop(224), \n",
    "    transforms.RandomHorizontalFlip(),\n",
    "    transforms.ToTensor(),\n",
    "    transforms.Normalize(mean=mean, std=std)\n",
    "])\n",
    "\n",
    "dm.set_train_trasform(train_transform)\n",
    "dm.set_val_trasform(val_and_test_transform)\n",
    "dm.set_test_trasform(val_and_test_transform)"
   ]
  },
  {
   "cell_type": "code",
   "execution_count": null,
   "id": "c71e53ef",
   "metadata": {},
   "outputs": [],
   "source": [
    "lr=1e-4\n",
    "model = CustomResNetModule(resnet_model=global_resnet_model, num_classes=16, lr=lr)\n",
    "\n",
    "# Initialize logger\n",
    "logger = TensorBoardLogger(\n",
    "    save_dir=os.path.join(\"tb_logs\", global_log_dir), \n",
    "    name=\"baseline_appr_3_real\", \n",
    "    version=global_resnet_model_name + \"_lr_\" + str(lr))\n",
    "\n",
    "val_checkpoint_callback = pl.callbacks.ModelCheckpoint(\n",
    "    filename=\"{epoch}-{step}-{validation/loss:.1f}\",\n",
    "    monitor=\"validation/loss\",\n",
    "    mode=\"min\",\n",
    "    save_top_k=1,\n",
    "    auto_insert_metric_name=False      \n",
    ")\n",
    "latest_checkpoint_callback = pl.callbacks.ModelCheckpoint(\n",
    "    filename=\"latest-{epoch}-{step}\",\n",
    "    monitor=\"step\",\n",
    "    mode=\"max\",\n",
    "    every_n_train_steps=500,\n",
    "    save_top_k=1       # save just the top\n",
    ")\n",
    "\n",
    "# Initialize a trainer\n",
    "trainer = pl.Trainer(max_epochs=500,     \n",
    "                     accelerator=system_accelerator,\n",
    "                     devices=1,\n",
    "                     logger=logger,\n",
    "                     callbacks=[val_checkpoint_callback,\n",
    "                                latest_checkpoint_callback],\n",
    "                     )\n",
    "\n",
    "# Train the model \n",
    "trainer.fit(model, dm)\n",
    "\n",
    "# Resume checkpoints\n",
    "# trainer.fit(model, dm, ckpt_path=os.path.join(os.getcwd(), \"tb_logs\", \"Official_Training\", \"baseline_appr_3_real\", \"resnet18_lr_0.0001\", \"checkpoints\" , \"latest-epoch=42-step=2000.ckpt\"))"
   ]
  },
  {
   "cell_type": "code",
   "execution_count": 7,
   "id": "be59916f",
   "metadata": {},
   "outputs": [],
   "source": [
    "#IMPORTANT: used just to notify when the training is over\n",
    "from scripts.utils.telegram_notifier import TelegramNotifier\n",
    "\n",
    "TelegramNotifier().sendMessage(logger) # logger from training cell"
   ]
  },
  {
   "cell_type": "code",
   "execution_count": 6,
   "id": "15edbd08",
   "metadata": {},
   "outputs": [
    {
     "name": "stderr",
     "output_type": "stream",
     "text": [
      "GPU available: True (cuda), used: True\n",
      "TPU available: False, using: 0 TPU cores\n",
      "IPU available: False, using: 0 IPUs\n",
      "HPU available: False, using: 0 HPUs\n",
      "Restoring states from the checkpoint path at e:\\github\\deep-learning-project\\tb_logs\\Official_Training\\baseline_appr_3_real\\resnet18_lr_0.0001\\checkpoints\\405-19082-1.2.ckpt\n",
      "LOCAL_RANK: 0 - CUDA_VISIBLE_DEVICES: [0]\n",
      "Loaded model weights from checkpoint at e:\\github\\deep-learning-project\\tb_logs\\Official_Training\\baseline_appr_3_real\\resnet18_lr_0.0001\\checkpoints\\405-19082-1.2.ckpt\n"
     ]
    },
    {
     "data": {
      "application/vnd.jupyter.widget-view+json": {
       "model_id": "034f60bcf49045e09684e60875a6972d",
       "version_major": 2,
       "version_minor": 0
      },
      "text/plain": [
       "Testing: 0it [00:00, ?it/s]"
      ]
     },
     "metadata": {},
     "output_type": "display_data"
    },
    {
     "name": "stdout",
     "output_type": "stream",
     "text": [
      "────────────────────────────────────────────────────────────────────────────────────────────────────────────────────────\n",
      "       Test metric             DataLoader 0\n",
      "────────────────────────────────────────────────────────────────────────────────────────────────────────────────────────\n",
      "      test/accuracy         0.6088709831237793\n",
      "      test/f1_score         0.6088709831237793\n",
      "     test/precision         0.6088709831237793\n",
      "       test/recall          0.6088709831237793\n",
      "────────────────────────────────────────────────────────────────────────────────────────────────────────────────────────\n"
     ]
    },
    {
     "data": {
      "text/plain": [
       "[{'test/accuracy': 0.6088709831237793,\n",
       "  'test/precision': 0.6088709831237793,\n",
       "  'test/recall': 0.6088709831237793,\n",
       "  'test/f1_score': 0.6088709831237793}]"
      ]
     },
     "execution_count": 6,
     "metadata": {},
     "output_type": "execute_result"
    }
   ],
   "source": [
    "trainer = pl.Trainer(accelerator=system_accelerator)\n",
    "model = CustomResNetModule(resnet_model=global_resnet_model, num_classes=16)\n",
    "trainer.test(\n",
    "    model=model,\n",
    "    dataloaders=dm.test_dataloader(), \n",
    "    ckpt_path=os.path.join(os.getcwd(), \"tb_logs\", \"Official_Training\", \"baseline_appr_3_real\", \"resnet18_lr_0.0001\", \"checkpoints\" , \"405-19082-1.2.ckpt\"))"
   ]
  },
  {
   "cell_type": "markdown",
   "id": "2b77a108",
   "metadata": {},
   "source": [
    " #### 2.1.3.1 Result"
   ]
  },
  {
   "cell_type": "markdown",
   "id": "ade459bb",
   "metadata": {},
   "source": [
    "TODO: add performance analysis"
   ]
  },
  {
   "cell_type": "markdown",
   "id": "71a3bfa3",
   "metadata": {},
   "source": [
    "### 2.2 Domain adaptation through image-to-image translation (CycleGAN)"
   ]
  },
  {
   "cell_type": "markdown",
   "id": "7d012828",
   "metadata": {},
   "source": [
    "![CycleGAN](./docs/cycle_gan.png)\n",
    "\n",
    "This section aims to apply image-to-image translation through CycleGAN PyTorch lightning implementation, building a pipeline to concatenate CycleGAN translated image between real and synthetic domains with ResNetModule. It is going to show 2 case of study:\n",
    "\n",
    "1) Make the classifier use CycleGAN **real->synthetic** domain images during inference (**trained** using **synthetic domain** images).\n",
    "2) Make the classifier use CycleGAN **synthetic->real** domain images during the training."
   ]
  },
  {
   "cell_type": "markdown",
   "id": "464c36b0",
   "metadata": {},
   "source": [
    "#### 2.2.1 CycleGAN Model"
   ]
  },
  {
   "cell_type": "markdown",
   "id": "6db58e4c",
   "metadata": {},
   "source": [
    "This section shows the CycleGAN PyTorch lightning implementation and how it is trained for pixel-level image-to-image translation."
   ]
  },
  {
   "cell_type": "code",
   "execution_count": 3,
   "id": "e5b34091",
   "metadata": {},
   "outputs": [],
   "source": [
    "import pytorch_lightning as pl\n",
    "import itertools\n",
    "import torchvision\n",
    "from scripts.CycleGAN.generator import Generator\n",
    "from scripts.CycleGAN.discriminator import Discriminator\n",
    "from scripts.CycleGAN.utils import weights_init_normal, LambdaLR\n",
    "\n",
    "class CycleGAN(pl.LightningModule):\n",
    "\n",
    "    A2B = 0\n",
    "    B2A = 1\n",
    "\n",
    "    def __init__(self, \n",
    "                 input_nc = 3, \n",
    "                 output_nc = 3, \n",
    "                 lr=0.0002, \n",
    "                 betas=(0.5, 0.999), \n",
    "                 starting_epoch=0, \n",
    "                 n_epochs=200, \n",
    "                 decay_epoch=100,\n",
    "                 print_images_each_N_batch = 500\n",
    "                  ):\n",
    "        super(CycleGAN, self).__init__()\n",
    "        self.save_hyperparameters()\n",
    "        \n",
    "        # Generators A2B, B2A\n",
    "        self.netG_A2B = Generator(input_nc, output_nc)\n",
    "        self.netG_B2A = Generator(output_nc, input_nc)\n",
    "        \n",
    "        # A and B Discriminator\n",
    "        self.netD_A = Discriminator(input_nc)\n",
    "        self.netD_B = Discriminator(output_nc)\n",
    "        \n",
    "        # Normalization\n",
    "        self.netG_A2B.apply(weights_init_normal)\n",
    "        self.netG_B2A.apply(weights_init_normal)\n",
    "        self.netD_A.apply(weights_init_normal)\n",
    "        self.netD_B.apply(weights_init_normal)\n",
    "        \n",
    "        # Losses\n",
    "        self.criterion_GAN = torch.nn.MSELoss()\n",
    "        self.criterion_cycle = torch.nn.L1Loss()\n",
    "        self.criterion_identity = torch.nn.L1Loss()\n",
    "                    \n",
    "    def forward(self, x, mode=A2B):\n",
    "        if mode== CycleGAN.A2B:\n",
    "            return self.netG_A2B(x)\n",
    "        else:\n",
    "            return self.netG_B2A(x)\n",
    "    \n",
    "    def configure_optimizers(self):\n",
    "        # Generator Optimizer\n",
    "        optimizer_G = torch.optim.Adam(itertools.chain(self.netG_A2B.parameters(), self.netG_B2A.parameters()), lr=self.hparams.lr, betas=self.hparams.betas)\n",
    "        \n",
    "        # Discriminator Optimizers\n",
    "        optimizer_D_A = torch.optim.Adam(self.netD_A.parameters(), lr=self.hparams.lr, betas=self.hparams.betas)\n",
    "        optimizer_D_B = torch.optim.Adam(self.netD_B.parameters(), lr=self.hparams.lr, betas=self.hparams.betas)\n",
    "        \n",
    "        # Scheduler learning rate decay\n",
    "        lr_scheduler_G = torch.optim.lr_scheduler.LambdaLR(optimizer_G, lr_lambda=LambdaLR(self.hparams.n_epochs, self.hparams.starting_epoch, self.hparams.decay_epoch).step)\n",
    "        lr_scheduler_D_A = torch.optim.lr_scheduler.LambdaLR(optimizer_D_A, lr_lambda=LambdaLR(self.hparams.n_epochs, self.hparams.starting_epoch, self.hparams.decay_epoch).step)\n",
    "        lr_scheduler_D_B = torch.optim.lr_scheduler.LambdaLR(optimizer_D_B, lr_lambda=LambdaLR(self.hparams.n_epochs, self.hparams.starting_epoch, self.hparams.decay_epoch).step)\n",
    "        \n",
    "        return [optimizer_G, optimizer_D_A, optimizer_D_B], [lr_scheduler_G, lr_scheduler_D_A, lr_scheduler_D_B]\n",
    "    \n",
    "    \n",
    "    def training_step(self, batch, batch_idx, optimizer_idx):\n",
    "        real_A, real_B = batch\n",
    "        \n",
    "        target_real = torch.ones((real_A.shape[0],1)).type_as(real_A)\n",
    "        target_fake = torch.zeros((real_A.shape[0],1)).type_as(real_A)\n",
    "        \n",
    "        # Generator\n",
    "        if optimizer_idx==0:\n",
    "            # Identity loss\n",
    "            # G_A2B(B) should equal B if real B is fed\n",
    "            same_B = self.netG_A2B(real_B)\n",
    "            loss_identity_B = self.criterion_identity(same_B, real_B)*5.0\n",
    "\n",
    "            # G_B2A(A) should equal A if real A is fed\n",
    "            same_A = self.netG_B2A(real_A)\n",
    "            loss_identity_A = self.criterion_identity(same_A, real_A)*5.0\n",
    "\n",
    "            # GAN loss\n",
    "            fake_B = self.netG_A2B(real_A) \n",
    "            pred_fake = self.netD_B(fake_B) # discriminator B prediction\n",
    "            loss_GAN_A2B = self.criterion_GAN(pred_fake, target_real) # loss GAN A2B\n",
    "\n",
    "            fake_A = self.netG_B2A(real_B)\n",
    "            pred_fake = self.netD_A(fake_A)  # discriminator A prediction\n",
    "            loss_GAN_B2A = self.criterion_GAN(pred_fake, target_real) # loss GAN B2A\n",
    "\n",
    "            # Cycle consistency loss\n",
    "            recovered_A = self.netG_B2A(fake_B) #fake B -> B2A - should be same as real_A\n",
    "            loss_cycle_ABA = self.criterion_cycle(recovered_A, real_A)*10.0 #cycle consistency loss\n",
    "\n",
    "            recovered_B = self.netG_A2B(fake_A) #fake A -> A2B - should be same as real_B\n",
    "            loss_cycle_BAB = self.criterion_cycle(recovered_B, real_B)*10.0 #cycle consistency loss\n",
    "\n",
    "            # Overall loss\n",
    "            loss_G = loss_identity_A + loss_identity_B + loss_GAN_A2B + loss_GAN_B2A + loss_cycle_ABA + loss_cycle_BAB\n",
    "            self.log('loss_G/loss_identity_A', loss_identity_A, on_epoch=True)\n",
    "            self.log('loss_G/loss_identity_B', loss_identity_B, on_epoch=True)\n",
    "            self.log('loss_G/loss_GAN_A2B', loss_GAN_A2B, on_epoch=True)\n",
    "            self.log('loss_G/loss_GAN_B2A', loss_GAN_B2A, on_epoch=True)\n",
    "            self.log('loss_G/loss_cycle_ABA', loss_cycle_ABA, on_epoch=True)\n",
    "            self.log('loss_G/loss_cycle_BAB', loss_cycle_BAB, on_epoch=True)\n",
    "            self.log('loss_G/overall', loss_G, on_epoch=True)\n",
    "            \n",
    "            # Log images to visually check the trainig\n",
    "            if batch_idx % self.hparams.print_images_each_N_batch == 0:\n",
    "                grid_A = torchvision.utils.make_grid(real_A[:50], nrow=10, normalize=True)\n",
    "                grid_A2B = torchvision.utils.make_grid(fake_B[:50], nrow=10, normalize=True)\n",
    "                grid_A2B2A = torchvision.utils.make_grid(recovered_A[:50], nrow=10, normalize=True)\n",
    "                \n",
    "                grid_B = torchvision.utils.make_grid(real_B[:50], nrow=10, normalize=True)\n",
    "                grid_B2A = torchvision.utils.make_grid(fake_A[:50], nrow=10, normalize=True)\n",
    "                grid_B2A2B = torchvision.utils.make_grid(recovered_B[:50], nrow=10, normalize=True)\n",
    "                \n",
    "                self.logger.experiment.add_image('A/A', grid_A, self.global_step)\n",
    "                self.logger.experiment.add_image('A/A2B', grid_A2B, self.global_step)\n",
    "                self.logger.experiment.add_image('A/A2B2A', grid_A2B2A, self.global_step)\n",
    "                \n",
    "                self.logger.experiment.add_image('B/B', grid_B, self.global_step)\n",
    "                self.logger.experiment.add_image('B/B2A', grid_B2A, self.global_step)\n",
    "                self.logger.experiment.add_image('B/B2A2B', grid_B2A2B, self.global_step)\n",
    "                \n",
    "            return loss_G\n",
    "        \n",
    "        # Discriminator A\n",
    "        elif optimizer_idx==1:\n",
    "            # Real loss\n",
    "            pred_real = self.netD_A(real_A)\n",
    "            loss_D_real = self.criterion_GAN(pred_real, target_real)\n",
    "\n",
    "            # Fake loss\n",
    "            fake_A = self.netG_B2A(real_B)\n",
    "            pred_fake = self.netD_A(fake_A.detach())\n",
    "            loss_D_fake = self.criterion_GAN(pred_fake, target_fake)\n",
    "\n",
    "            # loss globale\n",
    "            loss_D_A = (loss_D_real + loss_D_fake)*0.5\n",
    "            self.log('loss_D/loss_D_A',loss_D_A, on_epoch=True)\n",
    "            return loss_D_A\n",
    "        \n",
    "        # Discriminator B\n",
    "        elif optimizer_idx==2:\n",
    "            pred_real = self.netD_B(real_B)\n",
    "            loss_D_real = self.criterion_GAN(pred_real, target_real)\n",
    "\n",
    "            # Fake loss\n",
    "            fake_B = self.netG_A2B(real_A) \n",
    "            pred_fake = self.netD_B(fake_B.detach())\n",
    "            loss_D_fake = self.criterion_GAN(pred_fake, target_fake)\n",
    "\n",
    "            # loss globale\n",
    "            loss_D_B = (loss_D_real + loss_D_fake)*0.5\n",
    "            self.log('loss_D/loss_D_B', loss_D_B, on_epoch=True)\n",
    "            return loss_D_B"
   ]
  },
  {
   "cell_type": "markdown",
   "id": "91a27c83",
   "metadata": {},
   "source": [
    "##### 2.2.1.1 Import Dataset"
   ]
  },
  {
   "cell_type": "code",
   "execution_count": 4,
   "id": "1f42ea18",
   "metadata": {},
   "outputs": [],
   "source": [
    "from scripts.dataset.GAN.data_module_GAN import CulturalSiteDataModuleGAN\n",
    "\n",
    "batch_size = 2\n",
    "dm = CulturalSiteDataModuleGAN(\n",
    "    batch_size=batch_size, \n",
    "    num_workers=6)\n",
    "dm.setup(CulturalSiteDataModuleGAN.ALL_STAGE)\n",
    "pixel_threshold = 30\n",
    "dm.filter_train(pixel_threshold)\n",
    "dm.filter_test(pixel_threshold)"
   ]
  },
  {
   "cell_type": "markdown",
   "id": "61cc30c4",
   "metadata": {},
   "source": [
    "##### 2.2.1.2 Training"
   ]
  },
  {
   "cell_type": "code",
   "execution_count": null,
   "id": "c71e53ef",
   "metadata": {},
   "outputs": [],
   "source": [
    "lr=2e-4\n",
    "model = CycleGAN(batch_size=batch_size, lr=lr)\n",
    "\n",
    "# Initialize logger\n",
    "logger = TensorBoardLogger(\n",
    "    save_dir=os.path.join(\"tb_logs\", global_log_dir), \n",
    "    name=\"image_to_image_translation\", \n",
    "    version=\"CycleGAN_lr_\" + str(lr))\n",
    "\n",
    "overall_checkpoint_callback = pl.callbacks.ModelCheckpoint(\n",
    "    filename=\"{epoch}-{step}-{loss_G/overall:.1f}\",\n",
    "    monitor=\"loss_G/overall\",\n",
    "    mode=\"min\",\n",
    "    save_top_k=1,\n",
    "    auto_insert_metric_name=False      \n",
    ")\n",
    "latest_checkpoint_callback = pl.callbacks.ModelCheckpoint(\n",
    "    filename=\"latest-{epoch}-{step}\",\n",
    "    monitor=\"step\",\n",
    "    mode=\"max\",\n",
    "    every_n_train_steps=500,\n",
    "    save_top_k=1       \n",
    ")\n",
    "\n",
    "# Initialize a trainer\n",
    "trainer = pl.Trainer(max_epochs=-1, \n",
    "                     accelerator=system_accelerator,\n",
    "                     devices=1,\n",
    "                     logger=logger,\n",
    "                     callbacks=[ overall_checkpoint_callback, latest_checkpoint_callback],\n",
    "                     )\n",
    "\n",
    "# Train the model \n",
    "trainer.fit(model, dm)\n",
    "\n",
    "# resume checkpoints\n",
    "# trainer.fit(model, dm, ckpt_path=os.path.join(os.getcwd(), \"tb_logs\", \"no_filter_train\", \"ResNet_0_lr_1e-3_m_0\", \"checkpoints\" , \"epoch=9-step=9390.ckpt\"))"
   ]
  },
  {
   "cell_type": "markdown",
   "id": "f09c0563",
   "metadata": {},
   "source": [
    "#### 2.2.2 Case 1: Testing CycleGAN and ResNet (real->synthetic->inference)"
   ]
  },
  {
   "cell_type": "markdown",
   "id": "c667b1af",
   "metadata": {},
   "source": [
    "Il modulo sotto implementa l'unione dei due modelli CycleGAN e ResNet, effettuando una traduzione dell'immagine reale -> synthetic e poi facendo inferenza con ResNet."
   ]
  },
  {
   "cell_type": "code",
   "execution_count": 8,
   "id": "15dd5c26",
   "metadata": {},
   "outputs": [],
   "source": [
    "from scripts.CycleGAN.model import CycleGAN\n",
    "\n",
    "class CycleGANResNetPretrainedModule(pl.LightningModule):\n",
    "    \n",
    "    def __init__(self, cycle_GAN_ckpt_path, res_net_ckpt_path):\n",
    "        super(CycleGANResNetPretrainedModule, self).__init__()\n",
    "        self.CycleGAN_model = CycleGAN.load_from_checkpoint(cycle_GAN_ckpt_path)\n",
    "        self.CycleGAN_model.eval()\n",
    "        self.ResNet_model = CustomResNetModule.load_from_checkpoint(res_net_ckpt_path)\n",
    "\n",
    "        self.test_acc = torchmetrics.Accuracy()\n",
    "\n",
    "    def forward(self, x): # x = real_B\n",
    "        fake_A = self.CycleGAN_model(x, CycleGAN.B2A)\n",
    "        self.print_images(x, fake_A)\n",
    "        return self.ResNet_model(fake_A)\n",
    "\n",
    "    def print_images(self, x, fake_A):\n",
    "        grid_A = torchvision.utils.make_grid(x[:50], nrow=10, normalize=True)\n",
    "        grid_A2B = torchvision.utils.make_grid(fake_A[:50], nrow=10, normalize=True)\n",
    "\n",
    "        self.logger.experiment.add_image('A/A', grid_A, self.batch_idx)\n",
    "        self.logger.experiment.add_image('A/A2B', grid_A2B, self.batch_idx)\n",
    "        \n",
    "    def test_step(self, batch, batch_idx):\n",
    "        x,y = batch\n",
    "        self.batch_idx = batch_idx\n",
    "        preds = self.forward(x)\n",
    "        self.test_acc(torch.argmax(preds, dim=1), y)\n",
    "        \n",
    "        self.log('test/accuracy', self.test_acc)       "
   ]
  },
  {
   "cell_type": "markdown",
   "id": "65cfd40e",
   "metadata": {},
   "source": [
    " ##### 2.2.2.1 Dataset Setup"
   ]
  },
  {
   "cell_type": "code",
   "execution_count": 9,
   "id": "18cbcab4",
   "metadata": {},
   "outputs": [
    {
     "name": "stdout",
     "output_type": "stream",
     "text": [
      "Dataset setup\n",
      "Classification dataset found.\n",
      "Dataset applying filter\n",
      "Dataset set transform\n"
     ]
    }
   ],
   "source": [
    "print(\"Dataset setup\")\n",
    "dm = CulturalSiteDataModule(\n",
    "    batch_size=2, \n",
    "    dataset_type=CulturalSiteDataModule.REAL_DATASET, \n",
    "    num_classes=16, \n",
    "    num_workers=6)\n",
    "    \n",
    "dm.setup(CulturalSiteDataModule.TEST_STAGE)\n",
    "\n",
    "print(\"Dataset applying filter\")\n",
    "dm.filter_test(pixel_threshold=30)\n",
    "\n",
    "print(\"Dataset set transform\")\n",
    "val_and_test_transform = transforms.Compose([\n",
    "    transforms.Resize(256),\n",
    "    transforms.CenterCrop(224),\n",
    "    transforms.RandomHorizontalFlip(),\n",
    "    transforms.ToTensor(),\n",
    "    transforms.Normalize(mean=(0.28162546, 0.29239721, 0.31711673), std=(0.17125229, 0.17715992, 0.18002949))\n",
    "])\n",
    "\n",
    "dm.set_test_trasform(val_and_test_transform)"
   ]
  },
  {
   "cell_type": "markdown",
   "id": "2cfd9d38",
   "metadata": {},
   "source": [
    " ##### 2.2.2.2 Testing"
   ]
  },
  {
   "cell_type": "code",
   "execution_count": null,
   "id": "c694f74c",
   "metadata": {},
   "outputs": [],
   "source": [
    "logger = TensorBoardLogger(\n",
    "    save_dir=os.path.join(\"tb_logs\", global_log_dir, \"image_to_image_translation\"), \n",
    "    name=\"case_1_real_syn_inference\", \n",
    "    version=global_resnet_model_name + \"_lr_\" + str(lr))\n",
    "\n",
    "trainer = pl.Trainer(accelerator=system_accelerator, logger=logger)\n",
    "model = CycleGANResNetPretrainedModule(\n",
    "    cycle_GAN_ckpt_path=os.path.join(os.getcwd(), \"tb_logs\", \"image_to_image_translation\", \"CycleGAN_0_lr_0.0002\", \"checkpoints\" , \"epoch=0-step=45051-val_loss=0.0.ckpt\"),\n",
    "    res_net_ckpt_path=os.path.join(os.getcwd(), \"tb_logs\", \"filtered_train\", \"ResNet_0_lr_1e-4_m_0\", \"checkpoints\" , \"epoch=17-step=16902-val_loss=0.1.ckpt\"))\n",
    "    \n",
    "trainer.test(\n",
    "    model=model,\n",
    "    dataloaders=dm.test_dataloader())"
   ]
  },
  {
   "cell_type": "markdown",
   "id": "2b77a108",
   "metadata": {},
   "source": [
    "##### 2.2.2.3 Result"
   ]
  },
  {
   "cell_type": "markdown",
   "id": "12063e82",
   "metadata": {},
   "source": [
    "TODO: add result"
   ]
  },
  {
   "cell_type": "markdown",
   "id": "2f3c36ca",
   "metadata": {},
   "source": [
    "#### 2.2.3 Case 2: Training ResNet with CycleGAN translated images (synthetic->real->training)"
   ]
  },
  {
   "cell_type": "markdown",
   "id": "98139831",
   "metadata": {},
   "source": [
    "In this section, we combine CycleGAN translated image dataset (synthetic->real) with ResNet, which is being trained using the real domain."
   ]
  },
  {
   "cell_type": "markdown",
   "id": "3b595e97",
   "metadata": {},
   "source": [
    "##### 2.2.3.1 Model"
   ]
  },
  {
   "cell_type": "code",
   "execution_count": 4,
   "id": "8e95702a",
   "metadata": {},
   "outputs": [],
   "source": [
    "from scripts.CycleGAN.model import CycleGAN\n",
    "\n",
    "class CycleGANResNetModule(pl.LightningModule):\n",
    "    \n",
    "    def __init__(self, cycle_GAN_ckpt_path, resnet_model, num_classes = 16, lr=1e-4):\n",
    "        super(CycleGANResNetModule, self).__init__()\n",
    "        self.num_classes = num_classes\n",
    "        self.lr = lr\n",
    "        \n",
    "        self.CycleGAN_model = CycleGAN.load_from_checkpoint(cycle_GAN_ckpt_path)\n",
    "        self.CycleGAN_model.eval()\n",
    "\n",
    "        self.ResNet_model = CustomResNetModule(resnet_model=resnet_model, num_classes=num_classes, lr=lr)\n",
    "        \n",
    "        self.loss_fn = nn.CrossEntropyLoss()\n",
    "        \n",
    "        self.train_acc = torchmetrics.Accuracy()\n",
    "        self.val_acc = torchmetrics.Accuracy()\n",
    "        self.test_acc = torchmetrics.Accuracy()\n",
    "        \n",
    "    def forward_cycleGAN(self, x): # x = real_A\n",
    "        fake_B = self.CycleGAN_model(x, CycleGAN.A2B)\n",
    "        # self.print_images(x, fake_B)\n",
    "        return self.ResNet_model(fake_B)\n",
    "\n",
    "    def forward(self, x): # x = real_A\n",
    "        return self.ResNet_model(x)\n",
    "            \n",
    "    def print_images(self, x, fake_A):\n",
    "        grid_A = torchvision.utils.make_grid(x[:50], nrow=10, normalize=True)\n",
    "        grid_A2B = torchvision.utils.make_grid(fake_A[:50], nrow=10, normalize=True)\n",
    "\n",
    "        self.logger.experiment.add_image('A/A', grid_A, self.batch_idx)\n",
    "        self.logger.experiment.add_image('A/A2B', grid_A2B, self.batch_idx)\n",
    "    \n",
    "    def configure_optimizers(self):\n",
    "        optimizer = torch.optim.Adam(self.parameters(), lr=self.lr)\n",
    "        scheduler = torch.optim.lr_scheduler.StepLR(optimizer, step_size=2)\n",
    "        return [optimizer], [scheduler]\n",
    "    \n",
    "    def training_step(self, batch, batch_idx):   \n",
    "        self.batch_idx = batch_idx\n",
    "        x, y = batch        \n",
    "        preds = self.forward_cycleGAN(x)        \n",
    "        loss = self.loss_fn(preds, y)\n",
    "        self.train_acc(torch.argmax(preds, dim=1), y)\n",
    "        \n",
    "        self.log('training/loss', loss.item(), on_epoch=True)\n",
    "        self.log('training/accuracy', self.train_acc, on_epoch=True)\n",
    "        \n",
    "        return loss\n",
    "    \n",
    "    def validation_step(self, batch, batch_idx):        \n",
    "        self.batch_idx = batch_idx\n",
    "        x,y = batch        \n",
    "        preds = self.forward(x)        \n",
    "        loss = self.loss_fn(preds, y)\n",
    "        self.val_acc(torch.argmax(preds, dim=1), y)\n",
    "        \n",
    "        self.log('validation/loss', loss.item(), on_epoch=True)\n",
    "        self.log('validation/accuracy', self.val_acc, on_epoch=True)\n",
    "        \n",
    "    def test_step(self, batch, batch_idx):        \n",
    "        x,y = batch\n",
    "        preds = self.forward(x)\n",
    "        self.test_acc(torch.argmax(preds, dim=1), y)\n",
    "        \n",
    "        self.log('test/accuracy', self.test_acc, on_epoch=True)"
   ]
  },
  {
   "cell_type": "markdown",
   "id": "2c6bb162",
   "metadata": {},
   "source": [
    "##### 2.2.3.2 Synthetic dataset setup"
   ]
  },
  {
   "cell_type": "code",
   "execution_count": 5,
   "id": "21da4edc",
   "metadata": {},
   "outputs": [
    {
     "name": "stdout",
     "output_type": "stream",
     "text": [
      "Dataset setup\n",
      "Dataset applying filter\n"
     ]
    }
   ],
   "source": [
    "print(\"Dataset setup\")\n",
    "dm = CulturalSiteDataModule(\n",
    "    batch_size=8, \n",
    "    dataset_type=CulturalSiteDataModule.SYNTHETIC_REAL_DATASET, \n",
    "    num_classes=16, \n",
    "    num_workers=6)\n",
    "dm.setup(CulturalSiteDataModule.ALL_STAGE)\n",
    "\n",
    "print(\"Dataset applying filter\")\n",
    "pixel_threshold = 30\n",
    "dm.filter_train(pixel_threshold)\n",
    "dm.filter_val(pixel_threshold)"
   ]
  },
  {
   "cell_type": "code",
   "execution_count": 6,
   "id": "ee54b72b",
   "metadata": {},
   "outputs": [],
   "source": [
    "# Coming from baseline case 3 oracle\n",
    "mean=(0.45401238, 0.39960463, 0.31759819)\n",
    "std=(0.26222476, 0.25603036, 0.25329951)\n",
    "train_transform = transforms.Compose([\n",
    "    transforms.Resize(256, transforms.InterpolationMode.BICUBIC),\n",
    "    transforms.RandomCrop(224),\n",
    "    transforms.RandomHorizontalFlip(),\n",
    "    transforms.ToTensor(),\n",
    "    transforms.Normalize(mean=mean, std=std)\n",
    "])\n",
    "\n",
    "val_and_test_transform = transforms.Compose([\n",
    "    transforms.Resize(256, transforms.InterpolationMode.BICUBIC),\n",
    "    transforms.CenterCrop(224),            \n",
    "    transforms.RandomHorizontalFlip(),\n",
    "    transforms.ToTensor(),\n",
    "    transforms.Normalize(mean=mean, std=std)\n",
    "])\n",
    "\n",
    "dm.set_train_trasform(train_transform)\n",
    "dm.set_val_trasform(val_and_test_transform)"
   ]
  },
  {
   "cell_type": "markdown",
   "id": "2e52116b",
   "metadata": {},
   "source": [
    "##### 2.2.3.3 Training"
   ]
  },
  {
   "cell_type": "code",
   "execution_count": 8,
   "id": "fbcc102b",
   "metadata": {},
   "outputs": [
    {
     "name": "stderr",
     "output_type": "stream",
     "text": [
      "GPU available: True (cuda), used: True\n",
      "TPU available: False, using: 0 TPU cores\n",
      "IPU available: False, using: 0 IPUs\n",
      "HPU available: False, using: 0 HPUs\n",
      "LOCAL_RANK: 0 - CUDA_VISIBLE_DEVICES: [0]\n",
      "\n",
      "  | Name           | Type               | Params\n",
      "------------------------------------------------------\n",
      "0 | CycleGAN_model | CycleGAN           | 28.3 M\n",
      "1 | ResNet_model   | CustomResNetModule | 24.6 M\n",
      "2 | loss_fn        | CrossEntropyLoss   | 0     \n",
      "3 | train_acc      | Accuracy           | 0     \n",
      "4 | val_acc        | Accuracy           | 0     \n",
      "5 | test_acc       | Accuracy           | 0     \n",
      "------------------------------------------------------\n",
      "52.9 M    Trainable params\n",
      "0         Non-trainable params\n",
      "52.9 M    Total params\n",
      "211.405   Total estimated model params size (MB)\n"
     ]
    },
    {
     "name": "stdout",
     "output_type": "stream",
     "text": [
      "Classification dataset found.\n"
     ]
    },
    {
     "data": {
      "application/vnd.jupyter.widget-view+json": {
       "model_id": "40cd22010a534a38b3ff39133fe9086b",
       "version_major": 2,
       "version_minor": 0
      },
      "text/plain": [
       "Sanity Checking: 0it [00:00, ?it/s]"
      ]
     },
     "metadata": {},
     "output_type": "display_data"
    },
    {
     "data": {
      "application/vnd.jupyter.widget-view+json": {
       "model_id": "2d1243c7d2a342c298eda08ccd34702d",
       "version_major": 2,
       "version_minor": 0
      },
      "text/plain": [
       "Training: 0it [00:00, ?it/s]"
      ]
     },
     "metadata": {},
     "output_type": "display_data"
    },
    {
     "name": "stderr",
     "output_type": "stream",
     "text": [
      "c:\\Users\\danil\\anaconda3\\lib\\site-packages\\pytorch_lightning\\trainer\\trainer.py:653: UserWarning: Detected KeyboardInterrupt, attempting graceful shutdown...\n",
      "  rank_zero_warn(\"Detected KeyboardInterrupt, attempting graceful shutdown...\")\n"
     ]
    }
   ],
   "source": [
    "lr=4e-4\n",
    "model = CycleGANResNetModule(\n",
    "        cycle_GAN_ckpt_path=os.path.join(os.getcwd(), \"tb_logs\", \"image_to_image_translation\", \"CycleGAN_2_lr_0.0004\", \"checkpoints\" , \"latest-epoch=8-step=400500.ckpt\"),\n",
    "        num_classes=16,\n",
    "        resnet_model= global_resnet_model,\n",
    "        lr=lr)\n",
    "\n",
    "# Initialize logger\n",
    "logger = TensorBoardLogger(\n",
    "    save_dir=os.path.join(\"tb_logs\", global_log_dir, \"image_to_image_translation\"), \n",
    "    name=\"case_2_syn_real_training\", \n",
    "    version=global_resnet_model_name + \"_lr_\" + str(lr))\n",
    "\n",
    "val_checkpoint_callback = pl.callbacks.ModelCheckpoint(\n",
    "    filename=\"{epoch}-{step}-{validation/loss:.1f}\",\n",
    "    monitor=\"validation/loss\",\n",
    "    mode=\"min\",\n",
    "    save_top_k=1,\n",
    "    auto_insert_metric_name=False    \n",
    ")\n",
    "latest_checkpoint_callback = pl.callbacks.ModelCheckpoint(\n",
    "    filename=\"latest-{epoch}-{step}\",\n",
    "    monitor=\"step\",\n",
    "    mode=\"max\",\n",
    "    every_n_train_steps=500,\n",
    "    save_top_k=1\n",
    ")\n",
    "\n",
    "# Initialize a trainer\n",
    "trainer = pl.Trainer(max_epochs=-1,    \n",
    "                     accelerator=system_accelerator, \n",
    "                     devices=1,\n",
    "                     logger=logger,\n",
    "                     callbacks=[ val_checkpoint_callback, latest_checkpoint_callback],\n",
    "                     )\n",
    "\n",
    "# Train the model \n",
    "trainer.fit(model, dm)\n",
    "\n",
    "# resume checkpoints\n",
    "# trainer.fit(model, dm, ckpt_path=os.path.join(os.getcwd(), \"tb_logs\", \"image_to_image_translation\", \"CycleGANResNetModule_0_lr_0.0001\", \"checkpoints\" , \"latest-epoch=7-step=29000.ckpt\"))"
   ]
  },
  {
   "cell_type": "markdown",
   "id": "99ae9ae0",
   "metadata": {},
   "source": [
    "##### 2.2.3.3 Testing"
   ]
  },
  {
   "cell_type": "markdown",
   "id": "d4646c10",
   "metadata": {},
   "source": [
    "Real dataset setup"
   ]
  },
  {
   "cell_type": "code",
   "execution_count": null,
   "id": "8c0e5e57",
   "metadata": {},
   "outputs": [],
   "source": [
    "print(\"Dataset setup\")\n",
    "dm = CulturalSiteDataModule(\n",
    "    batch_size=8, \n",
    "    dataset_type=CulturalSiteDataModule.REAL_DATASET, \n",
    "    num_classes=16, \n",
    "    num_workers=6)\n",
    "dm.setup(CulturalSiteDataModule.TEST_STAGE)\n",
    "\n",
    "print(\"Dataset applying filter\")\n",
    "pixel_threshold = 30\n",
    "dm.filter_test(pixel_threshold)"
   ]
  },
  {
   "cell_type": "code",
   "execution_count": 5,
   "id": "8175a10e",
   "metadata": {},
   "outputs": [],
   "source": [
    "# Coming from baseline case 3 oracle\n",
    "mean=(0.45401238, 0.39960463, 0.31759819)\n",
    "std=(0.26222476, 0.25603036, 0.25329951)\n",
    "test_transform = transforms.Compose([\n",
    "    transforms.Resize(256, transforms.InterpolationMode.BICUBIC),\n",
    "    transforms.CenterCrop(224),            \n",
    "    transforms.RandomHorizontalFlip(),\n",
    "    transforms.ToTensor(),\n",
    "    transforms.Normalize(mean=mean, std=std)\n",
    "])\n",
    "dm.set_test_trasform(test_transform)"
   ]
  },
  {
   "cell_type": "code",
   "execution_count": 10,
   "id": "d99179a0",
   "metadata": {},
   "outputs": [
    {
     "name": "stderr",
     "output_type": "stream",
     "text": [
      "GPU available: True (cuda), used: True\n",
      "TPU available: False, using: 0 TPU cores\n",
      "IPU available: False, using: 0 IPUs\n",
      "HPU available: False, using: 0 HPUs\n",
      "Restoring states from the checkpoint path at e:\\github\\deep-learning-project\\tb_logs\\image_to_image_translation\\CycleGANResNetModule_0_lr_0.0001\\checkpoints\\latest-epoch=7-step=29000.ckpt\n",
      "LOCAL_RANK: 0 - CUDA_VISIBLE_DEVICES: [0]\n",
      "Loaded model weights from checkpoint at e:\\github\\deep-learning-project\\tb_logs\\image_to_image_translation\\CycleGANResNetModule_0_lr_0.0001\\checkpoints\\latest-epoch=7-step=29000.ckpt\n"
     ]
    },
    {
     "data": {
      "application/vnd.jupyter.widget-view+json": {
       "model_id": "f661826485374c5c9d127977f1a1e5cc",
       "version_major": 2,
       "version_minor": 0
      },
      "text/plain": [
       "Testing: 0it [00:00, ?it/s]"
      ]
     },
     "metadata": {},
     "output_type": "display_data"
    },
    {
     "name": "stdout",
     "output_type": "stream",
     "text": [
      "────────────────────────────────────────────────────────────────────────────────────────────────────────────────────────\n",
      "       Test metric             DataLoader 0\n",
      "────────────────────────────────────────────────────────────────────────────────────────────────────────────────────────\n",
      "        test_acc            0.1827957034111023\n",
      "────────────────────────────────────────────────────────────────────────────────────────────────────────────────────────\n"
     ]
    },
    {
     "data": {
      "text/plain": [
       "[{'test_acc': 0.1827957034111023}]"
      ]
     },
     "execution_count": 10,
     "metadata": {},
     "output_type": "execute_result"
    }
   ],
   "source": [
    "# Evaluate the model on the held-out test set \n",
    "trainer = pl.Trainer(accelerator=system_accelerator)\n",
    "model = CycleGANResNetModule(\n",
    "        cycle_GAN_ckpt_path=os.path.join(os.getcwd(), \"tb_logs\", \"image_to_image_translation\", \"CycleGAN_2_lr_0.0004\", \"checkpoints\" , \"latest-epoch=6-step=274500.ckpt\"),\n",
    "        num_classes=16,\n",
    "        ResNet_model= global_resnet_model)\n",
    "trainer.test(\n",
    "    model=model,\n",
    "    dataloaders=dm.test_dataloader(), \n",
    "    ckpt_path=os.path.join(os.getcwd(), \"tb_logs\", \"image_to_image_translation\", \"CycleGANResNetModule_0_lr_0.0001\", \"checkpoints\" , \"latest-epoch=7-step=29000.ckpt\"))"
   ]
  },
  {
   "cell_type": "markdown",
   "id": "76d4c148",
   "metadata": {},
   "source": [
    "##### 2.2.3.3 Result"
   ]
  },
  {
   "cell_type": "markdown",
   "id": "57069aef",
   "metadata": {},
   "source": [
    "TODO: add result"
   ]
  },
  {
   "cell_type": "markdown",
   "id": "2df4c1c3",
   "metadata": {},
   "source": [
    "### 2.3 Feature-level Domain Adaptation"
   ]
  },
  {
   "cell_type": "markdown",
   "id": "08bf22af",
   "metadata": {},
   "source": [
    "#### 2.3.1 Gradient Reversal layer"
   ]
  },
  {
   "cell_type": "markdown",
   "id": "dd4aa00f",
   "metadata": {},
   "source": [
    "![Gradient Reversal Layer](./docs/gradient_reversal_layer.png)\n",
    "\n",
    "Il principio è semplice:\n",
    "- Feature Extractor (in verde): si occupa di estrarre le feature dai due domini\n",
    "- Label predictor (in blu): si occupa di classificare rispetto alle label dei singoli domini\n",
    "- Domain classifier (in rosa): si occupa di classificare e riconoscere a quale dominio appartiene l'immagine\n",
    "\n",
    "La loss è cosi composta: \n",
    "\n",
    "$$ L = L_y - \\lambda L_d $$\n",
    "\n",
    "$ L_y $ è la loss del label predictor, $ L_d $ è la loss del domain classifier. Intuitivamente si vuole minimizzare la prima, ma massimizzare la seconda, in modo che il dominio a livello di feature non venga più distinto.\n",
    "\n",
    "$ \\lambda $ viene calcolato dirante il training secondo la seguente formula:"
   ]
  },
  {
   "cell_type": "markdown",
   "id": "b0ee0201",
   "metadata": {},
   "source": [
    "$$ \\lambda_p = \\frac{2}{1 + e^{-\\gamma  p}} - 1 $$"
   ]
  },
  {
   "cell_type": "markdown",
   "id": "78d91889",
   "metadata": {},
   "source": [
    "$ \\gamma = 10 $ e $ p \\in [0, 1] $ (calcolato come `epoca_corrente/numero_di_epoche`)."
   ]
  },
  {
   "cell_type": "markdown",
   "id": "83cd537d",
   "metadata": {},
   "source": [
    "Definizione del task di gradient reversal layer comprendente il modulo di GRL e discriminatore del dominio"
   ]
  },
  {
   "cell_type": "markdown",
   "id": "70fc381f",
   "metadata": {},
   "source": [
    "##### 3.1.1 Training"
   ]
  },
  {
   "cell_type": "code",
   "execution_count": 4,
   "id": "d5192c5a",
   "metadata": {},
   "outputs": [],
   "source": [
    "NUM_EPOCHS=30"
   ]
  },
  {
   "cell_type": "markdown",
   "id": "c2640be9",
   "metadata": {},
   "source": [
    "Model"
   ]
  },
  {
   "cell_type": "code",
   "execution_count": 3,
   "id": "3b05884e",
   "metadata": {},
   "outputs": [],
   "source": [
    "from scripts.GRL.domain_discriminator import DomainDiscriminatorGRL\n",
    "import numpy as np\n",
    "import torch.nn.functional as F\n",
    "\n",
    "class DomainAdaptationGRLTask(pl.LightningModule):\n",
    "    def __init__(self, model, lr=1e-3):\n",
    "        super(DomainAdaptationGRLTask, self).__init__() \n",
    "        self.lr = lr\n",
    "        self.model = model\n",
    "        self.discriminator = DomainDiscriminatorGRL(in_features=model.in_features)\n",
    "\n",
    "        self.val_acc =  torchmetrics.Accuracy()\n",
    "        self.test_acc =  torchmetrics.Accuracy()\n",
    "\n",
    "    def forward(self,x):\n",
    "        return self.model(x)\n",
    "\n",
    "    def configure_optimizers(self):\n",
    "        return torch.optim.Adam(list(self.model.parameters()) + list(self.discriminator.parameters()), lr=self.lr)\n",
    "\n",
    "    def training_step(self, train_batch, batch_idx):\n",
    "        source, target, labels = train_batch\n",
    "\n",
    "        source_features = self.model.feature_extractor(source).view(source.shape[0], -1)\n",
    "        target_features = self.model.feature_extractor(target).view(target.shape[0], -1)\n",
    "        label_preds = self.model.classifier(source_features)\n",
    "\n",
    "        # getting lambda val using original paper, from 0 to 1 following this formula\n",
    "        lamb=2/(1+np.exp(-10*self.current_epoch/NUM_EPOCHS)) - 1\n",
    "\n",
    "        domain_preds_source = self.discriminator(source_features, lamb)\n",
    "        domain_preds_target = self.discriminator(target_features, lamb)\n",
    "        domain_preds = torch.cat([domain_preds_source, domain_preds_target],0)\n",
    "\n",
    "        source_acc = (torch.sigmoid(domain_preds_source)<0.5).float().mean()\n",
    "        target_acc = (torch.sigmoid(domain_preds_target)>=0.5).float().mean()\n",
    "        acc = (source_acc+target_acc)/2\n",
    "\n",
    "        source_targets = torch.zeros(source.shape[0],1)\n",
    "        target_targets = torch.ones(target.shape[0],1)\n",
    "        domain_targets = torch.cat([source_targets, target_targets],0).type_as(source)\n",
    "\n",
    "        label_loss = F.cross_entropy(label_preds, labels)\n",
    "        domain_loss = F.binary_cross_entropy_with_logits(domain_preds, domain_targets)\n",
    "        loss = domain_loss + label_loss\n",
    "\n",
    "        self.log('train/domain_loss', domain_loss)\n",
    "        self.log('train/label_loss', label_loss)\n",
    "        self.log('train/loss', loss)\n",
    "        self.log('train/disc_source_acc',source_acc)\n",
    "        self.log('train/disc_target_acc',target_acc)\n",
    "        self.log('train/disc_acc',acc)\n",
    "        return loss\n",
    "\n",
    "    def validation_step(self, batch, batch_idx):        \n",
    "        x,y = batch        \n",
    "        preds = self.forward(x)        \n",
    "        label_loss = F.cross_entropy(preds, y)\n",
    "        self.val_acc(torch.argmax(preds, dim=1), y)\n",
    "\n",
    "        self.log('validation/label_loss', label_loss)\n",
    "        self.log('validation/accuracy', self.val_acc, on_epoch=True)\n",
    "        \n",
    "    def test_step(self, batch, batch_idx):        \n",
    "        x,y = batch\n",
    "        preds = self.forward(x)\n",
    "        self.test_acc(torch.argmax(preds, dim=1), y)\n",
    "        \n",
    "        self.log('test/accuracy', self.test_acc, on_epoch=True)"
   ]
  },
  {
   "cell_type": "markdown",
   "id": "62f0a719",
   "metadata": {},
   "source": [
    "Dataset Setup"
   ]
  },
  {
   "cell_type": "code",
   "execution_count": 6,
   "id": "fbb6a968",
   "metadata": {},
   "outputs": [
    {
     "name": "stdout",
     "output_type": "stream",
     "text": [
      "Dataset setup\n",
      "Dataset applying filter\n"
     ]
    }
   ],
   "source": [
    "from scripts.dataset.GRL.data_module_GRL import CulturalSiteDataModuleGRL\n",
    "\n",
    "print(\"Dataset setup\")\n",
    "dm = CulturalSiteDataModuleGRL(\n",
    "    batch_size=8, \n",
    "    num_workers=6)\n",
    "dm.setup(CulturalSiteDataModuleGRL.FIT_STAGE)\n",
    "\n",
    "print(\"Dataset applying filter\")\n",
    "pixel_threshold = 30\n",
    "dm.filter_train(pixel_threshold)\n",
    "dm.filter_val(pixel_threshold)"
   ]
  },
  {
   "cell_type": "markdown",
   "id": "9032da4d",
   "metadata": {},
   "source": [
    "Normalization"
   ]
  },
  {
   "cell_type": "markdown",
   "id": "9ddeebe4",
   "metadata": {},
   "source": [
    "Using zero-mean-nomalization, the cells below calculate mean and std for individual or merged datasets to implement a case of study where:\n",
    "1. normalization using individual mean and std\n",
    "2. normalization using global mean and std"
   ]
  },
  {
   "cell_type": "code",
   "execution_count": 6,
   "id": "44112d2a",
   "metadata": {},
   "outputs": [],
   "source": [
    "syn_dataset = np.array(dm.cultural_site_train.get_syn_image_dataset())[:,1] #TODO: rename\n",
    "real_img_dataset = np.array(dm.cultural_site_train.get_real_image_dataset())[:,1]\n",
    "merged_dataset = np.concatenate((syn_dataset, real_img_dataset))"
   ]
  },
  {
   "cell_type": "markdown",
   "id": "0a5247ad",
   "metadata": {},
   "source": [
    "Getting mean and std for synthetic dataset"
   ]
  },
  {
   "cell_type": "code",
   "execution_count": null,
   "id": "d22437c7",
   "metadata": {},
   "outputs": [
    {
     "name": "stdout",
     "output_type": "stream",
     "text": [
      "Mean: [0.28162546 0.29239721 0.31711673]\n",
      "Std: [0.17125229 0.17715992 0.18002949]\n"
     ]
    }
   ],
   "source": [
    "# OPTIONAL: does not need to be executed\n",
    "mean, std = dm.calculate_train_mean_and_std(resize_min_size=256, img_dataset=syn_dataset)\n",
    "print(\"Mean: \" + str(mean))\n",
    "print(\"Std: \" + str(std))"
   ]
  },
  {
   "cell_type": "markdown",
   "id": "138f0478",
   "metadata": {},
   "source": [
    "Getting mean and std for real dataset"
   ]
  },
  {
   "cell_type": "code",
   "execution_count": null,
   "id": "1ba952e8",
   "metadata": {},
   "outputs": [
    {
     "name": "stdout",
     "output_type": "stream",
     "text": [
      "Mean: [0.45215473 0.39806145 0.31654662]\n",
      "Std: [0.26077601 0.25441129 0.25139287]\n"
     ]
    }
   ],
   "source": [
    "# OPTIONAL: does not need to be executed\n",
    "mean, std = dm.calculate_train_mean_and_std(resize_min_size=256, img_dataset=real_img_dataset)\n",
    "print(\"Mean: \" + str(mean))\n",
    "print(\"Std: \" + str(std))"
   ]
  },
  {
   "cell_type": "markdown",
   "id": "f01fcd0d",
   "metadata": {},
   "source": [
    "Getting mean and std for merged dataset"
   ]
  },
  {
   "cell_type": "code",
   "execution_count": 7,
   "id": "f00ad4eb",
   "metadata": {},
   "outputs": [
    {
     "name": "stdout",
     "output_type": "stream",
     "text": [
      "Mean: [0.28954191 0.29725961 0.31696455]\n",
      "Std: [0.18010984 0.18290568 0.18407021]\n"
     ]
    }
   ],
   "source": [
    "# OPTIONAL: does not need to be executed\n",
    "mean, std = dm.calculate_train_mean_and_std(resize_min_size=256, img_dataset=merged_dataset)\n",
    "print(\"Mean: \" + str(mean))\n",
    "print(\"Std: \" + str(std))"
   ]
  },
  {
   "cell_type": "markdown",
   "id": "143a1cdb",
   "metadata": {},
   "source": [
    "Global transform pipeline"
   ]
  },
  {
   "cell_type": "code",
   "execution_count": 7,
   "id": "ed4873b1",
   "metadata": {},
   "outputs": [],
   "source": [
    "# Coming from cell above\n",
    "mean=(0.28954191, 0.29725961, 0.31696455)\n",
    "std=(0.18010984, 0.18290568, 0.18407021)\n",
    "train_transform = transforms.Compose([\n",
    "    transforms.Resize(256, transforms.InterpolationMode.BICUBIC),\n",
    "    transforms.RandomCrop(224),\n",
    "    transforms.RandomHorizontalFlip(),\n",
    "    transforms.ToTensor(),\n",
    "    transforms.Normalize(mean=mean, std=std)\n",
    "])\n",
    "\n",
    "val_and_test_transform = transforms.Compose([\n",
    "    transforms.Resize(256, transforms.InterpolationMode.BICUBIC),\n",
    "    transforms.CenterCrop(224),            \n",
    "    transforms.RandomHorizontalFlip(),\n",
    "    transforms.ToTensor(),\n",
    "    transforms.Normalize(mean=mean, std=std)\n",
    "])\n",
    "\n",
    "dm.set_train_trasform(train_transform)\n",
    "dm.set_val_trasform(val_and_test_transform)"
   ]
  },
  {
   "cell_type": "markdown",
   "id": "d6885775",
   "metadata": {},
   "source": [
    "Training"
   ]
  },
  {
   "cell_type": "code",
   "execution_count": null,
   "id": "acef2605",
   "metadata": {},
   "outputs": [],
   "source": [
    "from scripts.models.custom_resnet_model import CustomResNetModule\n",
    "\n",
    "lr=1e-4\n",
    "model = DomainAdaptationGRLTask(\n",
    "    model=CustomResNetModule(\n",
    "        resnet_model=global_resnet_model,\n",
    "        num_classes=16\n",
    "    ),\n",
    "    lr=lr\n",
    ")\n",
    "\n",
    "# Initialize logger\n",
    "logger = TensorBoardLogger(\n",
    "    save_dir=os.path.join(\"tb_logs\", global_log_dir, \"feature_level_adapt\"), \n",
    "    name=\"gradient_reversal_layer\", \n",
    "    version=global_resnet_model_name + \"_lr_\" + str(lr))\n",
    "\n",
    "val_checkpoint_callback = pl.callbacks.ModelCheckpoint(\n",
    "    filename=\"{epoch}-{step}-{validation/accuracy:.1f}\",\n",
    "    monitor=\"validation/accuracy\",\n",
    "    mode=\"max\",\n",
    "    save_top_k=1,\n",
    "    auto_insert_metric_name=False      \n",
    ")\n",
    "latest_checkpoint_callback = pl.callbacks.ModelCheckpoint(\n",
    "    filename=\"latest-{epoch}-{step}\",\n",
    "    monitor=\"step\",\n",
    "    mode=\"max\",\n",
    "    every_n_train_steps=500,\n",
    "    save_top_k=1     \n",
    ")\n",
    "\n",
    "# Initialize a trainer\n",
    "trainer = pl.Trainer(max_epochs=NUM_EPOCHS,\n",
    "                     accelerator=system_accelerator,\n",
    "                     devices=1,\n",
    "                     logger=logger,\n",
    "                     callbacks=[ val_checkpoint_callback, latest_checkpoint_callback],\n",
    "                     )\n",
    "\n",
    "# Train the model \n",
    "trainer.fit(model, dm)\n",
    "\n",
    "# resume checkpoints\n",
    "# trainer.fit(model, dm, ckpt_path=os.path.join(os.getcwd(), \"tb_logs\", \"image_to_image_translation\", \"CycleGANResNetModule_0_lr_0.0001\", \"checkpoints\" , \"latest-epoch=7-step=29000.ckpt\"))"
   ]
  },
  {
   "cell_type": "markdown",
   "id": "e99d706d",
   "metadata": {},
   "source": [
    "##### 3.1.2 Testing"
   ]
  },
  {
   "cell_type": "markdown",
   "id": "bef702ff",
   "metadata": {},
   "source": [
    "Testing on syntetic dataset"
   ]
  },
  {
   "cell_type": "code",
   "execution_count": 4,
   "id": "e49bec1d",
   "metadata": {},
   "outputs": [
    {
     "name": "stdout",
     "output_type": "stream",
     "text": [
      "Dataset setup\n",
      "Dataset applying filter\n"
     ]
    }
   ],
   "source": [
    "print(\"Dataset setup\")\n",
    "dm = CulturalSiteDataModule(\n",
    "    batch_size=8, \n",
    "    dataset_type=CulturalSiteDataModule.SYNTHETIC_DATASET, \n",
    "    num_classes=16, \n",
    "    num_workers=6)\n",
    "dm.setup(CulturalSiteDataModule.TEST_STAGE)\n",
    "\n",
    "print(\"Dataset applying filter\")\n",
    "pixel_threshold = 30\n",
    "dm.filter_test(pixel_threshold)"
   ]
  },
  {
   "cell_type": "code",
   "execution_count": 5,
   "id": "706a60e1",
   "metadata": {},
   "outputs": [],
   "source": [
    "# Coming from Case 1.2 filtered\n",
    "mean=(0.28162546, 0.29239721, 0.31711673)\n",
    "std=(0.17125229, 0.17715992, 0.18002949)\n",
    "test_transform = transforms.Compose([\n",
    "    transforms.Resize(256, transforms.InterpolationMode.BICUBIC),\n",
    "    transforms.CenterCrop(224),            \n",
    "    transforms.RandomHorizontalFlip(),\n",
    "    transforms.ToTensor(),\n",
    "    transforms.Normalize(mean=mean, std=std)\n",
    "])\n",
    "dm.set_test_trasform(test_transform)"
   ]
  },
  {
   "cell_type": "code",
   "execution_count": 7,
   "id": "7e736f23",
   "metadata": {},
   "outputs": [
    {
     "name": "stderr",
     "output_type": "stream",
     "text": [
      "GPU available: True (cuda), used: True\n",
      "TPU available: False, using: 0 TPU cores\n",
      "IPU available: False, using: 0 IPUs\n",
      "HPU available: False, using: 0 HPUs\n",
      "Restoring states from the checkpoint path at e:\\github\\deep-learning-project\\tb_logs\\feature_level\\DomainAdaptationGRLTask_0_lr_0.0001\\checkpoints\\latest-epoch=0-step=500.ckpt\n",
      "LOCAL_RANK: 0 - CUDA_VISIBLE_DEVICES: [0]\n",
      "Loaded model weights from checkpoint at e:\\github\\deep-learning-project\\tb_logs\\feature_level\\DomainAdaptationGRLTask_0_lr_0.0001\\checkpoints\\latest-epoch=0-step=500.ckpt\n"
     ]
    },
    {
     "data": {
      "application/vnd.jupyter.widget-view+json": {
       "model_id": "329ac11d42ae4b8b9fb30807df1c7f2a",
       "version_major": 2,
       "version_minor": 0
      },
      "text/plain": [
       "Testing: 0it [00:00, ?it/s]"
      ]
     },
     "metadata": {},
     "output_type": "display_data"
    },
    {
     "name": "stdout",
     "output_type": "stream",
     "text": [
      "────────────────────────────────────────────────────────────────────────────────────────────────────────────────────────\n",
      "       Test metric             DataLoader 0\n",
      "────────────────────────────────────────────────────────────────────────────────────────────────────────────────────────\n",
      "      test/accuracy         0.13851167261600494\n",
      "────────────────────────────────────────────────────────────────────────────────────────────────────────────────────────\n"
     ]
    },
    {
     "data": {
      "text/plain": [
       "[{'test/accuracy': 0.13851167261600494}]"
      ]
     },
     "execution_count": 7,
     "metadata": {},
     "output_type": "execute_result"
    }
   ],
   "source": [
    "# Evaluate the model on the held-out test set \n",
    "trainer = pl.Trainer(accelerator=system_accelerator)\n",
    "model = DomainAdaptationGRLTask(\n",
    "    model=CustomResNetModule(\n",
    "        resnet_model=global_resnet_model,\n",
    "        num_classes=16\n",
    "    ))\n",
    "        \n",
    "trainer.test(\n",
    "    model=model,\n",
    "    dataloaders=dm.test_dataloader(), \n",
    "    ckpt_path=os.path.join(os.getcwd(), \"tb_logs\", \"feature_level\", \"DomainAdaptationGRLTask_0_lr_0.0001\", \"checkpoints\" , \"latest-epoch=0-step=500.ckpt\"))"
   ]
  },
  {
   "cell_type": "markdown",
   "id": "83cbd187",
   "metadata": {},
   "source": [
    "Testing on real dataset"
   ]
  },
  {
   "cell_type": "code",
   "execution_count": 8,
   "id": "e49bec1d",
   "metadata": {},
   "outputs": [
    {
     "name": "stdout",
     "output_type": "stream",
     "text": [
      "Dataset setup\n",
      "Dataset applying filter\n"
     ]
    }
   ],
   "source": [
    "print(\"Dataset setup\")\n",
    "dm = CulturalSiteDataModule(\n",
    "    batch_size=8, \n",
    "    dataset_type=CulturalSiteDataModule.REAL_DATASET, \n",
    "    num_classes=16, \n",
    "    num_workers=6)\n",
    "dm.setup(CulturalSiteDataModule.TEST_STAGE)\n",
    "\n",
    "print(\"Dataset applying filter\")\n",
    "pixel_threshold = 30\n",
    "dm.filter_test(pixel_threshold)"
   ]
  },
  {
   "cell_type": "code",
   "execution_count": 9,
   "id": "706a60e1",
   "metadata": {},
   "outputs": [],
   "source": [
    "# Coming from baseline case 3 oracle\n",
    "mean=(0.45401238, 0.39960463, 0.31759819)\n",
    "std=(0.26222476, 0.25603036, 0.25329951)\n",
    "test_transform = transforms.Compose([\n",
    "    transforms.Resize(256, transforms.InterpolationMode.BICUBIC),\n",
    "    transforms.CenterCrop(224),            \n",
    "    transforms.RandomHorizontalFlip(),\n",
    "    transforms.ToTensor(),\n",
    "    transforms.Normalize(mean=mean, std=std)\n",
    "])\n",
    "dm.set_test_trasform(test_transform)"
   ]
  },
  {
   "cell_type": "code",
   "execution_count": 10,
   "id": "7e736f23",
   "metadata": {},
   "outputs": [
    {
     "name": "stderr",
     "output_type": "stream",
     "text": [
      "GPU available: True (cuda), used: True\n",
      "TPU available: False, using: 0 TPU cores\n",
      "IPU available: False, using: 0 IPUs\n",
      "HPU available: False, using: 0 HPUs\n",
      "Restoring states from the checkpoint path at e:\\github\\deep-learning-project\\tb_logs\\feature_level\\DomainAdaptationGRLTask_0_lr_0.0001\\checkpoints\\latest-epoch=0-step=500.ckpt\n",
      "LOCAL_RANK: 0 - CUDA_VISIBLE_DEVICES: [0]\n",
      "Loaded model weights from checkpoint at e:\\github\\deep-learning-project\\tb_logs\\feature_level\\DomainAdaptationGRLTask_0_lr_0.0001\\checkpoints\\latest-epoch=0-step=500.ckpt\n"
     ]
    },
    {
     "data": {
      "application/vnd.jupyter.widget-view+json": {
       "model_id": "488eb7fe90a84cd4a60da80528de5871",
       "version_major": 2,
       "version_minor": 0
      },
      "text/plain": [
       "Testing: 0it [00:00, ?it/s]"
      ]
     },
     "metadata": {},
     "output_type": "display_data"
    },
    {
     "name": "stdout",
     "output_type": "stream",
     "text": [
      "────────────────────────────────────────────────────────────────────────────────────────────────────────────────────────\n",
      "       Test metric             DataLoader 0\n",
      "────────────────────────────────────────────────────────────────────────────────────────────────────────────────────────\n",
      "      test/accuracy         0.11290322244167328\n",
      "────────────────────────────────────────────────────────────────────────────────────────────────────────────────────────\n"
     ]
    },
    {
     "data": {
      "text/plain": [
       "[{'test/accuracy': 0.11290322244167328}]"
      ]
     },
     "execution_count": 10,
     "metadata": {},
     "output_type": "execute_result"
    }
   ],
   "source": [
    "# Evaluate the model on the held-out test set \n",
    "trainer = pl.Trainer(accelerator=system_accelerator)\n",
    "model = DomainAdaptationGRLTask(\n",
    "    model=CustomResNetModule(\n",
    "        resnet_model=global_resnet_model,\n",
    "        num_classes=16\n",
    "    ))\n",
    "        \n",
    "trainer.test(\n",
    "    model=model,\n",
    "    dataloaders=dm.test_dataloader(), \n",
    "    ckpt_path=os.path.join(os.getcwd(), \"tb_logs\", \"feature_level\", \"DomainAdaptationGRLTask_0_lr_0.0001\", \"checkpoints\" , \"latest-epoch=0-step=500.ckpt\"))"
   ]
  },
  {
   "cell_type": "markdown",
   "id": "e9d0d185",
   "metadata": {},
   "source": [
    "##### 3.1.3 Result"
   ]
  },
  {
   "cell_type": "markdown",
   "id": "43608a88",
   "metadata": {},
   "source": [
    "TODO: add result"
   ]
  },
  {
   "cell_type": "markdown",
   "id": "d71a8719",
   "metadata": {},
   "source": [
    "#### 2.3.2 Adversarial Domain Adaptation (ADDA)"
   ]
  },
  {
   "cell_type": "markdown",
   "id": "12e72139",
   "metadata": {},
   "source": [
    "Defining ADDA task"
   ]
  },
  {
   "cell_type": "code",
   "execution_count": 3,
   "id": "f0b6e175",
   "metadata": {},
   "outputs": [],
   "source": [
    "from scripts.models.custom_resnet_model import CustomResNetModule\n",
    "from scripts.ADDA.discriminator import Discriminator\n",
    "\n",
    "class ADDATask(pl.LightningModule):\n",
    "\n",
    "    def __init__(self, source_model, resnet_model, num_classes, lr=1e-3): # ResNetModule loaded from ckpy\n",
    "        super(ADDATask, self).__init__() \n",
    "        self.lr = lr\n",
    "        self.source_model = source_model\n",
    "        self.target_model = CustomResNetModule(resnet_model=resnet_model, num_classes=num_classes)\n",
    "        self.target_model.load_state_dict(self.source_model.state_dict())\n",
    "        self.target_model = self.target_model.feature_extractor\n",
    "\n",
    "        self.discriminator = Discriminator(self.source_model.classifier[0].in_features)\n",
    "        self.criterion = nn.BCEWithLogitsLoss() # TODO: controllare se è uguale a quella di GRL, cambiare per non sembrare copia e incolla\n",
    "\n",
    "        self.accuracy = torchmetrics.Accuracy()\n",
    "\n",
    "    def forward(self,x):\n",
    "        features = self.target_model(x).view(x.shape[0],-1)\n",
    "        return self.source_model.classifier(features)\n",
    "\n",
    "    def configure_optimizers(self):\n",
    "        return torch.optim.Adam(self.discriminator.parameters(), lr=self.lr), torch.optim.Adam(self.target_model.parameters(), lr=self.lr)\n",
    "\n",
    "    def training_step(self, train_batch, batch_idx, optimizer_idx):\n",
    "        source, target, _ = train_batch\n",
    "\n",
    "        if optimizer_idx==0: #train discriminator\n",
    "            source_features = self.source_model.feature_extractor(source).view(source.shape[0], -1)\n",
    "            target_features = self.target_model(target).view(target.shape[0], -1)\n",
    "\n",
    "            discriminator_x = torch.cat([source_features, target_features])\n",
    "            discriminator_y = torch.cat([torch.ones(source.shape[0]).type_as(source), torch.zeros(target.shape[0]).type_as(source)])\n",
    "\n",
    "            preds = self.discriminator(discriminator_x).squeeze()\n",
    "            loss = self.criterion(preds, discriminator_y)\n",
    "\n",
    "            self.log('training/d_loss', loss)\n",
    "\n",
    "            return loss\n",
    "\n",
    "        else: #train generator\n",
    "            target_features = self.target_model(target).view(target.shape[0], -1)\n",
    "\n",
    "            # flipped labels\n",
    "            discriminator_y = torch.ones(target.shape[0]).type_as(source)\n",
    "\n",
    "            preds = self.discriminator(target_features).squeeze()\n",
    "            loss = self.criterion(preds, discriminator_y)\n",
    "\n",
    "            self.log('training/g_loss', loss)\n",
    "\n",
    "            return loss\n",
    "\n",
    "    def validation_step(self, batch, batch_idx):        \n",
    "        x,y = batch        \n",
    "        preds = self.forward(x)        \n",
    "        self.accuracy(torch.argmax(preds, dim=1), y)\n",
    "        self.log('validation/accuracy', self.accuracy, on_epoch=True)\n",
    "        \n",
    "    def test_step(self, batch, batch_idx):        \n",
    "        x,y = batch\n",
    "        preds = self.forward(x)\n",
    "        self.accuracy(torch.argmax(preds, dim=1), y)\n",
    "        self.log('test/accuracy', self.accuracy, on_epoch=True)\n"
   ]
  },
  {
   "cell_type": "markdown",
   "id": "75a82b0d",
   "metadata": {},
   "source": [
    "##### 2.3.2.1 Training"
   ]
  },
  {
   "cell_type": "markdown",
   "id": "5bbfcfe6",
   "metadata": {},
   "source": [
    "Dataset Setup"
   ]
  },
  {
   "cell_type": "code",
   "execution_count": 4,
   "id": "fbb6a968",
   "metadata": {},
   "outputs": [
    {
     "name": "stdout",
     "output_type": "stream",
     "text": [
      "Dataset setup\n",
      "Dataset applying filter\n"
     ]
    }
   ],
   "source": [
    "from scripts.dataset.GRL.data_module_GRL import CulturalSiteDataModuleGRL\n",
    "\n",
    "print(\"Dataset setup\")\n",
    "dm = CulturalSiteDataModuleGRL(\n",
    "    batch_size=32, \n",
    "    num_workers=6)\n",
    "dm.setup(CulturalSiteDataModuleGRL.ALL_STAGE)\n",
    "\n",
    "print(\"Dataset applying filter\")\n",
    "pixel_threshold = 30\n",
    "dm.filter_train(pixel_threshold)\n",
    "dm.filter_val(pixel_threshold)"
   ]
  },
  {
   "cell_type": "markdown",
   "id": "9032da4d",
   "metadata": {},
   "source": [
    "Normalization"
   ]
  },
  {
   "cell_type": "markdown",
   "id": "9ddeebe4",
   "metadata": {},
   "source": [
    " Using zero-mean-nomalization, the cells below calculate mean and std for individual or merged datasets to implement a case of study where:\n",
    "1. normalization using individual mean and std\n",
    "2. normalization using global mean and std"
   ]
  },
  {
   "cell_type": "code",
   "execution_count": null,
   "id": "44112d2a",
   "metadata": {},
   "outputs": [],
   "source": [
    "syn_dataset = np.array(dm.cultural_site_train.get_syn_image_dataset())[:,1] #TODO: rename\n",
    "real_img_dataset = np.array(dm.cultural_site_train.get_real_image_dataset())[:,1]\n",
    "merged_dataset = np.concatenate((syn_dataset, real_img_dataset))"
   ]
  },
  {
   "cell_type": "markdown",
   "id": "0a5247ad",
   "metadata": {},
   "source": [
    "Getting mean and std for synthetic dataset"
   ]
  },
  {
   "cell_type": "code",
   "execution_count": null,
   "id": "d22437c7",
   "metadata": {},
   "outputs": [
    {
     "name": "stdout",
     "output_type": "stream",
     "text": [
      "Mean: [0.28162546 0.29239721 0.31711673]\n",
      "Std: [0.17125229 0.17715992 0.18002949]\n"
     ]
    }
   ],
   "source": [
    "# OPTIONAL: does not need to be executed\n",
    "mean, std = dm.calculate_train_mean_and_std(resize_min_size=256, img_dataset=syn_dataset)\n",
    "print(\"Mean: \" + str(mean))\n",
    "print(\"Std: \" + str(std))"
   ]
  },
  {
   "cell_type": "markdown",
   "id": "138f0478",
   "metadata": {},
   "source": [
    "Getting mean and std for real dataset"
   ]
  },
  {
   "cell_type": "code",
   "execution_count": null,
   "id": "1ba952e8",
   "metadata": {},
   "outputs": [
    {
     "name": "stdout",
     "output_type": "stream",
     "text": [
      "Mean: [0.45215473 0.39806145 0.31654662]\n",
      "Std: [0.26077601 0.25441129 0.25139287]\n"
     ]
    }
   ],
   "source": [
    "# OPTIONAL: does not need to be executed\n",
    "mean, std = dm.calculate_train_mean_and_std(resize_min_size=256, img_dataset=real_img_dataset)\n",
    "print(\"Mean: \" + str(mean))\n",
    "print(\"Std: \" + str(std))"
   ]
  },
  {
   "cell_type": "markdown",
   "id": "f01fcd0d",
   "metadata": {},
   "source": [
    "Getting mean and std for merged dataset"
   ]
  },
  {
   "cell_type": "code",
   "execution_count": null,
   "id": "f00ad4eb",
   "metadata": {},
   "outputs": [
    {
     "name": "stdout",
     "output_type": "stream",
     "text": [
      "Mean: [0.28954191 0.29725961 0.31696455]\n",
      "Std: [0.18010984 0.18290568 0.18407021]\n"
     ]
    }
   ],
   "source": [
    "# OPTIONAL: does not need to be executed\n",
    "mean, std = dm.calculate_train_mean_and_std(resize_min_size=256, img_dataset=merged_dataset)\n",
    "print(\"Mean: \" + str(mean))\n",
    "print(\"Std: \" + str(std))"
   ]
  },
  {
   "cell_type": "markdown",
   "id": "143a1cdb",
   "metadata": {},
   "source": [
    "Global transform pipeline"
   ]
  },
  {
   "cell_type": "code",
   "execution_count": 5,
   "id": "ed4873b1",
   "metadata": {},
   "outputs": [],
   "source": [
    "# Coming from cell above\n",
    "mean=(0.28954191, 0.29725961, 0.31696455)\n",
    "std=(0.18010984, 0.18290568, 0.18407021)\n",
    "train_transform = transforms.Compose([\n",
    "    transforms.Resize(256, transforms.InterpolationMode.BICUBIC),\n",
    "    transforms.RandomCrop(224),\n",
    "    transforms.RandomHorizontalFlip(),\n",
    "    transforms.ToTensor(),\n",
    "    transforms.Normalize(mean=mean, std=std)\n",
    "])\n",
    "\n",
    "val_and_test_transform = transforms.Compose([\n",
    "    transforms.Resize(256, transforms.InterpolationMode.BICUBIC),\n",
    "    transforms.CenterCrop(224),            \n",
    "    transforms.RandomHorizontalFlip(),\n",
    "    transforms.ToTensor(),\n",
    "    transforms.Normalize(mean=mean, std=std)\n",
    "])\n",
    "\n",
    "dm.set_train_trasform(train_transform)\n",
    "dm.set_val_trasform(val_and_test_transform)"
   ]
  },
  {
   "cell_type": "markdown",
   "id": "acf05b9c",
   "metadata": {},
   "source": [
    "Training"
   ]
  },
  {
   "cell_type": "code",
   "execution_count": 6,
   "id": "464cec89",
   "metadata": {},
   "outputs": [
    {
     "name": "stderr",
     "output_type": "stream",
     "text": [
      "c:\\Users\\danil\\anaconda3\\lib\\site-packages\\torchvision\\models\\_utils.py:208: UserWarning: The parameter 'pretrained' is deprecated since 0.13 and will be removed in 0.15, please use 'weights' instead.\n",
      "  warnings.warn(\n",
      "c:\\Users\\danil\\anaconda3\\lib\\site-packages\\torchvision\\models\\_utils.py:223: UserWarning: Arguments other than a weight enum or `None` for 'weights' are deprecated since 0.13 and will be removed in 0.15. The current behavior is equivalent to passing `weights=None`.\n",
      "  warnings.warn(msg)\n",
      "c:\\Users\\danil\\anaconda3\\lib\\site-packages\\pytorch_lightning\\utilities\\parsing.py:268: UserWarning: Attribute 'source_model' is an instance of `nn.Module` and is already saved during checkpointing. It is recommended to ignore them using `self.save_hyperparameters(ignore=['source_model'])`.\n",
      "  rank_zero_warn(\n",
      "GPU available: True (cuda), used: True\n",
      "TPU available: False, using: 0 TPU cores\n",
      "IPU available: False, using: 0 IPUs\n",
      "HPU available: False, using: 0 HPUs\n",
      "LOCAL_RANK: 0 - CUDA_VISIBLE_DEVICES: [0]\n",
      "\n",
      "  | Name          | Type               | Params\n",
      "-----------------------------------------------------\n",
      "0 | source_model  | CustomResNetModule | 24.6 M\n",
      "1 | target_model  | Sequential         | 23.5 M\n",
      "2 | discriminator | Discriminator      | 103 K \n",
      "3 | criterion     | BCEWithLogitsLoss  | 0     \n",
      "4 | accuracy      | Accuracy           | 0     \n",
      "-----------------------------------------------------\n",
      "48.2 M    Trainable params\n",
      "0         Non-trainable params\n",
      "48.2 M    Total params\n",
      "192.707   Total estimated model params size (MB)\n"
     ]
    },
    {
     "data": {
      "application/vnd.jupyter.widget-view+json": {
       "model_id": "9bd0ff30cad5465a9869e93b0343c2c1",
       "version_major": 2,
       "version_minor": 0
      },
      "text/plain": [
       "Sanity Checking: 0it [00:00, ?it/s]"
      ]
     },
     "metadata": {},
     "output_type": "display_data"
    },
    {
     "data": {
      "application/vnd.jupyter.widget-view+json": {
       "model_id": "9102e0b79c2442d2866ece7d500061a4",
       "version_major": 2,
       "version_minor": 0
      },
      "text/plain": [
       "Training: 0it [00:00, ?it/s]"
      ]
     },
     "metadata": {},
     "output_type": "display_data"
    },
    {
     "name": "stderr",
     "output_type": "stream",
     "text": [
      "c:\\Users\\danil\\anaconda3\\lib\\site-packages\\pytorch_lightning\\trainer\\trainer.py:653: UserWarning: Detected KeyboardInterrupt, attempting graceful shutdown...\n",
      "  rank_zero_warn(\"Detected KeyboardInterrupt, attempting graceful shutdown...\")\n"
     ]
    }
   ],
   "source": [
    "lr=1e-3\n",
    "source_model = CustomResNetModule.load_from_checkpoint(\n",
    "    os.path.join(os.getcwd(), \"tb_logs\", \"filtered_train\", \"CustomResNet_0_lr_0.0001\", \"checkpoints\" , \"latest-epoch=0-step=500.ckpt\"),\n",
    "    resnet_model=global_resnet_model)\n",
    "model = ADDATask(source_model=source_model, resnet_model=global_resnet_model, num_classes=16, lr=lr)\n",
    "\n",
    "# Initialize logger\n",
    "logger = TensorBoardLogger(\n",
    "    save_dir=os.path.join(\"tb_logs\", global_log_dir, \"feature_level_adapt\"), \n",
    "    name=\"ADDA\", \n",
    "    version=global_resnet_model_name + \"_lr_\" + str(lr))\n",
    "\n",
    "val_checkpoint_callback = pl.callbacks.ModelCheckpoint(\n",
    "    filename=\"{epoch}-{step}-{validation/accuracy:.1f}\",\n",
    "    monitor=\"validation/accuracy\",\n",
    "    mode=\"max\",\n",
    "    save_top_k=1,\n",
    "    auto_insert_metric_name=False      \n",
    ")\n",
    "latest_checkpoint_callback = pl.callbacks.ModelCheckpoint(\n",
    "    filename=\"latest-{epoch}-{step}\",\n",
    "    monitor=\"step\",\n",
    "    mode=\"max\",\n",
    "    every_n_train_steps=500,\n",
    "    save_top_k=1      \n",
    ")\n",
    "\n",
    "# Initialize a trainer\n",
    "trainer = pl.Trainer(max_epochs=-1,\n",
    "                     accelerator=system_accelerator, \n",
    "                     devices=1,\n",
    "                     logger=logger,\n",
    "                     callbacks=[ val_checkpoint_callback, latest_checkpoint_callback],\n",
    "                     )\n",
    "\n",
    "# Train the model \n",
    "trainer.fit(model, dm)\n",
    "\n",
    "# resume checkpoints\n",
    "# trainer.fit(model, dm, ckpt_path=os.path.join(os.getcwd(), \"tb_logs\", \"image_to_image_translation\", \"CycleGANResNetModule_0_lr_0.0001\", \"checkpoints\" , \"latest-epoch=7-step=29000.ckpt\"))"
   ]
  },
  {
   "cell_type": "markdown",
   "id": "e99d706d",
   "metadata": {},
   "source": [
    "##### 3.1.2 Testing"
   ]
  },
  {
   "cell_type": "markdown",
   "id": "bef702ff",
   "metadata": {},
   "source": [
    "Testing on syntetic dataset"
   ]
  },
  {
   "cell_type": "code",
   "execution_count": 3,
   "id": "e49bec1d",
   "metadata": {},
   "outputs": [
    {
     "name": "stdout",
     "output_type": "stream",
     "text": [
      "Dataset setup\n",
      "Dataset applying filter\n"
     ]
    }
   ],
   "source": [
    "print(\"Dataset setup\")\n",
    "dm = CulturalSiteDataModule(\n",
    "    batch_size=32, \n",
    "    dataset_type=CulturalSiteDataModule.SYNTHETIC_DATASET, \n",
    "    num_classes=16, \n",
    "    num_workers=6)\n",
    "dm.setup(CulturalSiteDataModule.TEST_STAGE)\n",
    "\n",
    "print(\"Dataset applying filter\")\n",
    "pixel_threshold = 30\n",
    "dm.filter_test(pixel_threshold)"
   ]
  },
  {
   "cell_type": "code",
   "execution_count": 4,
   "id": "706a60e1",
   "metadata": {},
   "outputs": [],
   "source": [
    "# Coming from cell above\n",
    "mean=(0.28954191, 0.29725961, 0.31696455)\n",
    "std=(0.18010984, 0.18290568, 0.18407021)\n",
    "test_transform = transforms.Compose([\n",
    "    transforms.Resize(256, transforms.InterpolationMode.BICUBIC),\n",
    "    transforms.CenterCrop(224),            \n",
    "    transforms.RandomHorizontalFlip(),\n",
    "    transforms.ToTensor(),\n",
    "    transforms.Normalize(mean=mean, std=std)\n",
    "])\n",
    "dm.set_test_trasform(test_transform)"
   ]
  },
  {
   "cell_type": "code",
   "execution_count": 7,
   "id": "7e736f23",
   "metadata": {},
   "outputs": [
    {
     "name": "stderr",
     "output_type": "stream",
     "text": [
      "c:\\Users\\danil\\anaconda3\\lib\\site-packages\\pytorch_lightning\\utilities\\parsing.py:268: UserWarning: Attribute 'source_model' is an instance of `nn.Module` and is already saved during checkpointing. It is recommended to ignore them using `self.save_hyperparameters(ignore=['source_model'])`.\n",
      "  rank_zero_warn(\n",
      "GPU available: True (cuda), used: True\n",
      "TPU available: False, using: 0 TPU cores\n",
      "IPU available: False, using: 0 IPUs\n",
      "HPU available: False, using: 0 HPUs\n",
      "Restoring states from the checkpoint path at e:\\github\\deep-learning-project\\tb_logs\\feature_level\\ADDATask_0_lr_0.001\\checkpoints\\latest-epoch=0-step=500.ckpt\n",
      "LOCAL_RANK: 0 - CUDA_VISIBLE_DEVICES: [0]\n",
      "Loaded model weights from checkpoint at e:\\github\\deep-learning-project\\tb_logs\\feature_level\\ADDATask_0_lr_0.001\\checkpoints\\latest-epoch=0-step=500.ckpt\n"
     ]
    },
    {
     "data": {
      "application/vnd.jupyter.widget-view+json": {
       "model_id": "6ef8d40a9c454e8d870d1120e8f7d933",
       "version_major": 2,
       "version_minor": 0
      },
      "text/plain": [
       "Testing: 0it [00:00, ?it/s]"
      ]
     },
     "metadata": {},
     "output_type": "display_data"
    },
    {
     "name": "stdout",
     "output_type": "stream",
     "text": [
      "────────────────────────────────────────────────────────────────────────────────────────────────────────────────────────\n",
      "       Test metric             DataLoader 0\n",
      "────────────────────────────────────────────────────────────────────────────────────────────────────────────────────────\n",
      "      test/accuracy         0.10503802448511124\n",
      "────────────────────────────────────────────────────────────────────────────────────────────────────────────────────────\n"
     ]
    },
    {
     "data": {
      "text/plain": [
       "[{'test/accuracy': 0.10503802448511124}]"
      ]
     },
     "execution_count": 7,
     "metadata": {},
     "output_type": "execute_result"
    }
   ],
   "source": [
    "# Evaluate the model on the held-out test set \n",
    "source_model = CustomResNetModule.load_from_checkpoint(\n",
    "    os.path.join(os.getcwd(), \"tb_logs\", \"filtered_train\", \"CustomResNet_0_lr_0.0001\", \"checkpoints\" , \"latest-epoch=0-step=500.ckpt\"),\n",
    "    resnet_model=global_resnet_model)\n",
    "model = ADDATask(source_model=source_model, resnet_model=global_resnet_model, num_classes=16)\n",
    "\n",
    "trainer = pl.Trainer(accelerator=system_accelerator)\n",
    "        \n",
    "trainer.test(\n",
    "    model=model,\n",
    "    dataloaders=dm.test_dataloader(), \n",
    "    ckpt_path=os.path.join(os.getcwd(), \"tb_logs\", \"feature_level\", \"ADDATask_0_lr_0.001\", \"checkpoints\" , \"latest-epoch=0-step=500.ckpt\"))"
   ]
  },
  {
   "cell_type": "markdown",
   "id": "0d6cce89",
   "metadata": {},
   "source": [
    "Testing on real dataset"
   ]
  },
  {
   "cell_type": "code",
   "execution_count": 8,
   "id": "e49bec1d",
   "metadata": {},
   "outputs": [
    {
     "name": "stdout",
     "output_type": "stream",
     "text": [
      "Dataset setup\n",
      "Dataset applying filter\n"
     ]
    }
   ],
   "source": [
    "print(\"Dataset setup\")\n",
    "dm = CulturalSiteDataModule(\n",
    "    batch_size=8, \n",
    "    dataset_type=CulturalSiteDataModule.REAL_DATASET, \n",
    "    num_classes=16, \n",
    "    num_workers=6)\n",
    "dm.setup(CulturalSiteDataModule.TEST_STAGE)\n",
    "\n",
    "print(\"Dataset applying filter\")\n",
    "pixel_threshold = 30\n",
    "dm.filter_test(pixel_threshold)"
   ]
  },
  {
   "cell_type": "code",
   "execution_count": 9,
   "id": "706a60e1",
   "metadata": {},
   "outputs": [],
   "source": [
    "# Coming from cell above\n",
    "mean=(0.28954191, 0.29725961, 0.31696455)\n",
    "std=(0.18010984, 0.18290568, 0.18407021)\n",
    "test_transform = transforms.Compose([\n",
    "    transforms.Resize(256, transforms.InterpolationMode.BICUBIC),\n",
    "    transforms.CenterCrop(224),            \n",
    "    transforms.RandomHorizontalFlip(),\n",
    "    transforms.ToTensor(),\n",
    "    transforms.Normalize(mean=mean, std=std)\n",
    "])\n",
    "dm.set_test_trasform(test_transform)"
   ]
  },
  {
   "cell_type": "code",
   "execution_count": 10,
   "id": "7e736f23",
   "metadata": {},
   "outputs": [
    {
     "name": "stderr",
     "output_type": "stream",
     "text": [
      "GPU available: True (cuda), used: True\n",
      "TPU available: False, using: 0 TPU cores\n",
      "IPU available: False, using: 0 IPUs\n",
      "HPU available: False, using: 0 HPUs\n",
      "Restoring states from the checkpoint path at e:\\github\\deep-learning-project\\tb_logs\\feature_level\\ADDATask_0_lr_0.001\\checkpoints\\latest-epoch=0-step=500.ckpt\n",
      "LOCAL_RANK: 0 - CUDA_VISIBLE_DEVICES: [0]\n",
      "Loaded model weights from checkpoint at e:\\github\\deep-learning-project\\tb_logs\\feature_level\\ADDATask_0_lr_0.001\\checkpoints\\latest-epoch=0-step=500.ckpt\n"
     ]
    },
    {
     "data": {
      "application/vnd.jupyter.widget-view+json": {
       "model_id": "1184f374eadb40aea7014ae7e8875622",
       "version_major": 2,
       "version_minor": 0
      },
      "text/plain": [
       "Testing: 0it [00:00, ?it/s]"
      ]
     },
     "metadata": {},
     "output_type": "display_data"
    },
    {
     "name": "stdout",
     "output_type": "stream",
     "text": [
      "────────────────────────────────────────────────────────────────────────────────────────────────────────────────────────\n",
      "       Test metric             DataLoader 0\n",
      "────────────────────────────────────────────────────────────────────────────────────────────────────────────────────────\n",
      "      test/accuracy         0.0927419364452362\n",
      "────────────────────────────────────────────────────────────────────────────────────────────────────────────────────────\n"
     ]
    },
    {
     "data": {
      "text/plain": [
       "[{'test/accuracy': 0.0927419364452362}]"
      ]
     },
     "execution_count": 10,
     "metadata": {},
     "output_type": "execute_result"
    }
   ],
   "source": [
    "# Evaluate the model on the held-out test set \n",
    "source_model = CustomResNetModule.load_from_checkpoint(\n",
    "    os.path.join(os.getcwd(), \"tb_logs\", \"filtered_train\", \"CustomResNet_0_lr_0.0001\", \"checkpoints\" , \"latest-epoch=0-step=500.ckpt\"),\n",
    "    resnet_model=global_resnet_model)\n",
    "model = ADDATask(source_model=source_model, resnet_model=global_resnet_model, num_classes=16)\n",
    "\n",
    "trainer = pl.Trainer(accelerator=system_accelerator)\n",
    "        \n",
    "trainer.test(\n",
    "    model=model,\n",
    "    dataloaders=dm.test_dataloader(), \n",
    "    ckpt_path=os.path.join(os.getcwd(), \"tb_logs\", \"feature_level\", \"ADDATask_0_lr_0.001\", \"checkpoints\" , \"latest-epoch=0-step=500.ckpt\"))"
   ]
  },
  {
   "cell_type": "markdown",
   "id": "07b88c2b",
   "metadata": {},
   "source": [
    "##### 2.3.2.3 Result"
   ]
  },
  {
   "cell_type": "markdown",
   "id": "bf9891b5",
   "metadata": {},
   "source": [
    "TODO: add result"
   ]
  },
  {
   "cell_type": "markdown",
   "id": "a92dee1c",
   "metadata": {},
   "source": [
    "### 2.4 Combining Image-to-image translation and Feature-level domain adaptation"
   ]
  },
  {
   "cell_type": "markdown",
   "id": "1fe6b98b",
   "metadata": {},
   "source": [
    "In questo caso si è deciso di combinare i due approcci presentati nei punti 2.2 e 2.3. Il goal è quello di avvicinare i due domini prima dell'estrazione delle features."
   ]
  },
  {
   "cell_type": "markdown",
   "id": "4625fb47",
   "metadata": {},
   "source": [
    "#### 2.4.1 Training ResNet (CycleGAN -> Gradient Reversal Layer -> ResNet)"
   ]
  },
  {
   "cell_type": "markdown",
   "id": "41bcb3fc",
   "metadata": {},
   "source": [
    "Le immagini vengono tradotte con CycleGAN mentre vengono proposte al feature extractor, in questo modo vengono avvicinati ulteriormente i due domini sorgente e target."
   ]
  },
  {
   "cell_type": "markdown",
   "id": "bbe4941a",
   "metadata": {},
   "source": [
    "##### 2.4.1.1 Model"
   ]
  },
  {
   "cell_type": "code",
   "execution_count": 3,
   "id": "5983f065",
   "metadata": {},
   "outputs": [],
   "source": [
    "NUM_EPOCHS = 50 # utile per calcolare $ \\lambda $"
   ]
  },
  {
   "cell_type": "code",
   "execution_count": 8,
   "id": "92e17152",
   "metadata": {},
   "outputs": [],
   "source": [
    "from scripts.GRL.domain_discriminator import DomainDiscriminatorGRL\n",
    "import numpy as np\n",
    "import torch.nn.functional as F\n",
    "from scripts.CycleGAN.model import CycleGAN\n",
    "\n",
    "class CycleGANGRLTask(pl.LightningModule):\n",
    "    def __init__(self, model, cycle_GAN_ckpt_path, lr=1e-3):\n",
    "        super(CycleGANGRLTask, self).__init__() \n",
    "        self.lr = lr\n",
    "        self.cycleGAN_model = CycleGAN.load_from_checkpoint(cycle_GAN_ckpt_path)\n",
    "        self.cycleGAN_model.eval()\n",
    "        \n",
    "        self.model = model\n",
    "        self.discriminator = DomainDiscriminatorGRL(in_features=model.in_features)\n",
    "\n",
    "        self.val_acc =  torchmetrics.Accuracy()\n",
    "        self.test_acc =  torchmetrics.Accuracy()\n",
    "\n",
    "    def forward(self,x):\n",
    "        return self.model(x)\n",
    "\n",
    "    def configure_optimizers(self):\n",
    "        return torch.optim.Adam(list(self.model.parameters()) + list(self.discriminator.parameters()), lr=self.lr)\n",
    "\n",
    "    def training_step(self, train_batch, batch_idx):\n",
    "        source, target, labels = train_batch\n",
    "\n",
    "        fake_B_source = self.cycleGAN_model(source, CycleGAN.A2B)\n",
    "        source_features = self.model.feature_extractor(fake_B_source).view(fake_B_source.shape[0], -1)\n",
    "        target_features = self.model.feature_extractor(target).view(target.shape[0], -1)\n",
    "        label_preds = self.model.classifier(source_features)\n",
    "\n",
    "        # getting lambda val using original paper, from 0 to 1 following this formula\n",
    "        l=2/(1+np.exp(-10*self.current_epoch/NUM_EPOCHS)) - 1\n",
    "\n",
    "        domain_preds_source = self.discriminator(source_features, l)\n",
    "        domain_preds_target = self.discriminator(target_features, l)\n",
    "        domain_preds = torch.cat([domain_preds_source, domain_preds_target],0)\n",
    "\n",
    "        source_acc = (torch.sigmoid(domain_preds_source)<0.5).float().mean()\n",
    "        target_acc = (torch.sigmoid(domain_preds_target)>=0.5).float().mean()\n",
    "        acc = (source_acc+target_acc)/2\n",
    "\n",
    "        source_targets = torch.zeros(source.shape[0],1)\n",
    "        target_targets = torch.ones(target.shape[0],1)\n",
    "        domain_targets = torch.cat([source_targets, target_targets],0).type_as(source)\n",
    "\n",
    "        label_loss = F.cross_entropy(label_preds, labels)\n",
    "        domain_loss = F.binary_cross_entropy_with_logits(domain_preds, domain_targets)\n",
    "        loss = domain_loss + label_loss\n",
    "\n",
    "        self.log('train/domain_loss', domain_loss)\n",
    "        self.log('train/label_loss', label_loss)\n",
    "        self.log('train/loss', loss)\n",
    "        self.log('train/disc_source_acc',source_acc)\n",
    "        self.log('train/disc_target_acc',target_acc)\n",
    "        self.log('train/disc_acc',acc)\n",
    "        return loss\n",
    "\n",
    "    def validation_step(self, batch, batch_idx):        \n",
    "        x,y = batch        \n",
    "        preds = self.forward(x)        \n",
    "        label_loss = F.cross_entropy(preds, y)\n",
    "        self.val_acc(torch.argmax(preds, dim=1), y)\n",
    "\n",
    "        self.log('validation/label_loss', label_loss)\n",
    "        self.log('validation/accuracy', self.val_acc, on_epoch=True)\n",
    "        \n",
    "    def test_step(self, batch, batch_idx):        \n",
    "        x,y = batch\n",
    "        preds = self.forward(x)\n",
    "        self.test_acc(torch.argmax(preds, dim=1), y)\n",
    "        \n",
    "        self.log('test/accuracy', self.test_acc, on_epoch=True)"
   ]
  },
  {
   "cell_type": "markdown",
   "id": "d801c076",
   "metadata": {},
   "source": [
    "##### 2.4.1.2 Training"
   ]
  },
  {
   "cell_type": "code",
   "execution_count": 5,
   "id": "fbb6a968",
   "metadata": {},
   "outputs": [
    {
     "name": "stdout",
     "output_type": "stream",
     "text": [
      "Dataset setup\n",
      "Dataset applying filter\n"
     ]
    }
   ],
   "source": [
    "from scripts.dataset.GRL.data_module_GRL import CulturalSiteDataModuleGRL\n",
    "\n",
    "print(\"Dataset setup\")\n",
    "dm = CulturalSiteDataModuleGRL(\n",
    "    batch_size=8, \n",
    "    num_workers=6)\n",
    "dm.setup(CulturalSiteDataModuleGRL.FIT_STAGE)\n",
    "\n",
    "print(\"Dataset applying filter\")\n",
    "pixel_threshold = 30\n",
    "dm.filter_train(pixel_threshold)\n",
    "dm.filter_val(pixel_threshold)"
   ]
  },
  {
   "cell_type": "markdown",
   "id": "9032da4d",
   "metadata": {},
   "source": [
    "Normalization"
   ]
  },
  {
   "cell_type": "markdown",
   "id": "9ddeebe4",
   "metadata": {},
   "source": [
    "Using zero-mean-nomalization, the cells below calculate mean and std for individual or merged datasets to implement a case of study where:\n",
    "1. normalization using individual mean and std\n",
    "2. normalization using global mean and std"
   ]
  },
  {
   "cell_type": "code",
   "execution_count": null,
   "id": "44112d2a",
   "metadata": {},
   "outputs": [],
   "source": [
    "syn_dataset = np.array(dm.cultural_site_train.get_syn_image_dataset())[:,1] #TODO: rename\n",
    "real_img_dataset = np.array(dm.cultural_site_train.get_real_image_dataset())[:,1]\n",
    "merged_dataset = np.concatenate((syn_dataset, real_img_dataset))"
   ]
  },
  {
   "cell_type": "markdown",
   "id": "0a5247ad",
   "metadata": {},
   "source": [
    "Getting mean and std for synthetic dataset"
   ]
  },
  {
   "cell_type": "code",
   "execution_count": null,
   "id": "d22437c7",
   "metadata": {},
   "outputs": [
    {
     "name": "stdout",
     "output_type": "stream",
     "text": [
      "Mean: [0.28162546 0.29239721 0.31711673]\n",
      "Std: [0.17125229 0.17715992 0.18002949]\n"
     ]
    }
   ],
   "source": [
    "# OPTIONAL: does not need to be executed\n",
    "mean, std = dm.calculate_train_mean_and_std(resize_min_size=256, img_dataset=syn_dataset)\n",
    "print(\"Mean: \" + str(mean))\n",
    "print(\"Std: \" + str(std))"
   ]
  },
  {
   "cell_type": "markdown",
   "id": "138f0478",
   "metadata": {},
   "source": [
    "Getting mean and std for real dataset"
   ]
  },
  {
   "cell_type": "code",
   "execution_count": null,
   "id": "1ba952e8",
   "metadata": {},
   "outputs": [
    {
     "name": "stdout",
     "output_type": "stream",
     "text": [
      "Mean: [0.45215473 0.39806145 0.31654662]\n",
      "Std: [0.26077601 0.25441129 0.25139287]\n"
     ]
    }
   ],
   "source": [
    "# OPTIONAL: does not need to be executed\n",
    "mean, std = dm.calculate_train_mean_and_std(resize_min_size=256, img_dataset=real_img_dataset)\n",
    "print(\"Mean: \" + str(mean))\n",
    "print(\"Std: \" + str(std))"
   ]
  },
  {
   "cell_type": "markdown",
   "id": "f01fcd0d",
   "metadata": {},
   "source": [
    "Getting mean and std for merged dataset"
   ]
  },
  {
   "cell_type": "code",
   "execution_count": null,
   "id": "f00ad4eb",
   "metadata": {},
   "outputs": [
    {
     "name": "stdout",
     "output_type": "stream",
     "text": [
      "Mean: [0.28954191 0.29725961 0.31696455]\n",
      "Std: [0.18010984 0.18290568 0.18407021]\n"
     ]
    }
   ],
   "source": [
    "# OPTIONAL: does not need to be executed\n",
    "mean, std = dm.calculate_train_mean_and_std(resize_min_size=256, img_dataset=merged_dataset)\n",
    "print(\"Mean: \" + str(mean))\n",
    "print(\"Std: \" + str(std))"
   ]
  },
  {
   "cell_type": "markdown",
   "id": "143a1cdb",
   "metadata": {},
   "source": [
    "Global transform pipeline"
   ]
  },
  {
   "cell_type": "code",
   "execution_count": 6,
   "id": "ed4873b1",
   "metadata": {},
   "outputs": [],
   "source": [
    "# Coming from baseline cell above\n",
    "mean=(0.28954191, 0.29725961, 0.31696455)\n",
    "std=(0.18010984, 0.18290568, 0.18407021)\n",
    "train_transform = transforms.Compose([\n",
    "    transforms.Resize(256, transforms.InterpolationMode.BICUBIC),\n",
    "    transforms.RandomCrop(224),\n",
    "    transforms.RandomHorizontalFlip(),\n",
    "    transforms.ToTensor(),\n",
    "    transforms.Normalize(mean=mean, std=std)\n",
    "])\n",
    "\n",
    "val_and_test_transform = transforms.Compose([\n",
    "    transforms.Resize(256, transforms.InterpolationMode.BICUBIC),\n",
    "    transforms.CenterCrop(224),            \n",
    "    transforms.RandomHorizontalFlip(),\n",
    "    transforms.ToTensor(),\n",
    "    transforms.Normalize(mean=mean, std=std)\n",
    "])\n",
    "\n",
    "dm.set_train_trasform(train_transform)\n",
    "dm.set_val_trasform(val_and_test_transform)\n",
    "\n",
    "#TODO: add optional to Other case (Single syn, single real, both ecc....)"
   ]
  },
  {
   "cell_type": "code",
   "execution_count": 10,
   "id": "acef2605",
   "metadata": {},
   "outputs": [
    {
     "ename": "NameError",
     "evalue": "name 'CycleGANGRLTask' is not defined",
     "output_type": "error",
     "traceback": [
      "\u001b[1;31m---------------------------------------------------------------------------\u001b[0m",
      "\u001b[1;31mNameError\u001b[0m                                 Traceback (most recent call last)",
      "\u001b[1;32me:\\github\\deep-learning-project\\domain_adapt_notebook.ipynb Cella 189\u001b[0m in \u001b[0;36m<cell line: 2>\u001b[1;34m()\u001b[0m\n\u001b[0;32m      <a href='vscode-notebook-cell:/e%3A/github/deep-learning-project/domain_adapt_notebook.ipynb#Y356sZmlsZQ%3D%3D?line=0'>1</a>\u001b[0m lr\u001b[39m=\u001b[39m\u001b[39m1e-4\u001b[39m\n\u001b[1;32m----> <a href='vscode-notebook-cell:/e%3A/github/deep-learning-project/domain_adapt_notebook.ipynb#Y356sZmlsZQ%3D%3D?line=1'>2</a>\u001b[0m model \u001b[39m=\u001b[39m CycleGANGRLTask(\n\u001b[0;32m      <a href='vscode-notebook-cell:/e%3A/github/deep-learning-project/domain_adapt_notebook.ipynb#Y356sZmlsZQ%3D%3D?line=2'>3</a>\u001b[0m         model\u001b[39m=\u001b[39mCustomResNetModule(\n\u001b[0;32m      <a href='vscode-notebook-cell:/e%3A/github/deep-learning-project/domain_adapt_notebook.ipynb#Y356sZmlsZQ%3D%3D?line=3'>4</a>\u001b[0m             resnet_model\u001b[39m=\u001b[39mglobal_resnet_model,\n\u001b[0;32m      <a href='vscode-notebook-cell:/e%3A/github/deep-learning-project/domain_adapt_notebook.ipynb#Y356sZmlsZQ%3D%3D?line=4'>5</a>\u001b[0m             num_classes\u001b[39m=\u001b[39m\u001b[39m16\u001b[39m\n\u001b[0;32m      <a href='vscode-notebook-cell:/e%3A/github/deep-learning-project/domain_adapt_notebook.ipynb#Y356sZmlsZQ%3D%3D?line=5'>6</a>\u001b[0m         ),\n\u001b[0;32m      <a href='vscode-notebook-cell:/e%3A/github/deep-learning-project/domain_adapt_notebook.ipynb#Y356sZmlsZQ%3D%3D?line=6'>7</a>\u001b[0m         cycle_GAN_ckpt_path\u001b[39m=\u001b[39mos\u001b[39m.\u001b[39mpath\u001b[39m.\u001b[39mjoin(os\u001b[39m.\u001b[39mgetcwd(), \u001b[39m\"\u001b[39m\u001b[39mtb_logs\u001b[39m\u001b[39m\"\u001b[39m, \u001b[39m\"\u001b[39m\u001b[39mimage_to_image_translation\u001b[39m\u001b[39m\"\u001b[39m, \u001b[39m\"\u001b[39m\u001b[39mCycleGAN_2_lr_0.0004\u001b[39m\u001b[39m\"\u001b[39m, \u001b[39m\"\u001b[39m\u001b[39mcheckpoints\u001b[39m\u001b[39m\"\u001b[39m , \u001b[39m\"\u001b[39m\u001b[39mlatest-epoch=8-step=400500.ckpt\u001b[39m\u001b[39m\"\u001b[39m),\n\u001b[0;32m      <a href='vscode-notebook-cell:/e%3A/github/deep-learning-project/domain_adapt_notebook.ipynb#Y356sZmlsZQ%3D%3D?line=7'>8</a>\u001b[0m         lr\u001b[39m=\u001b[39mlr)\n\u001b[0;32m     <a href='vscode-notebook-cell:/e%3A/github/deep-learning-project/domain_adapt_notebook.ipynb#Y356sZmlsZQ%3D%3D?line=9'>10</a>\u001b[0m \u001b[39m# Initialize logger\u001b[39;00m\n\u001b[0;32m     <a href='vscode-notebook-cell:/e%3A/github/deep-learning-project/domain_adapt_notebook.ipynb#Y356sZmlsZQ%3D%3D?line=10'>11</a>\u001b[0m logger \u001b[39m=\u001b[39m TensorBoardLogger(\n\u001b[0;32m     <a href='vscode-notebook-cell:/e%3A/github/deep-learning-project/domain_adapt_notebook.ipynb#Y356sZmlsZQ%3D%3D?line=11'>12</a>\u001b[0m     save_dir\u001b[39m=\u001b[39mos\u001b[39m.\u001b[39mpath\u001b[39m.\u001b[39mjoin(\u001b[39m\"\u001b[39m\u001b[39mtb_logs\u001b[39m\u001b[39m\"\u001b[39m, global_log_dir, \u001b[39m\"\u001b[39m\u001b[39mcombined_iti_fl\u001b[39m\u001b[39m\"\u001b[39m), \n\u001b[0;32m     <a href='vscode-notebook-cell:/e%3A/github/deep-learning-project/domain_adapt_notebook.ipynb#Y356sZmlsZQ%3D%3D?line=12'>13</a>\u001b[0m     name\u001b[39m=\u001b[39m\u001b[39m\"\u001b[39m\u001b[39mCycleGAN_GRLTask\u001b[39m\u001b[39m\"\u001b[39m, \n\u001b[0;32m     <a href='vscode-notebook-cell:/e%3A/github/deep-learning-project/domain_adapt_notebook.ipynb#Y356sZmlsZQ%3D%3D?line=13'>14</a>\u001b[0m     version\u001b[39m=\u001b[39mglobal_resnet_model_name \u001b[39m+\u001b[39m \u001b[39m\"\u001b[39m\u001b[39m_lr_\u001b[39m\u001b[39m\"\u001b[39m \u001b[39m+\u001b[39m \u001b[39mstr\u001b[39m(lr))\n",
      "\u001b[1;31mNameError\u001b[0m: name 'CycleGANGRLTask' is not defined"
     ]
    }
   ],
   "source": [
    "lr=1e-4\n",
    "model = CycleGANGRLTask(\n",
    "        model=CustomResNetModule(\n",
    "            resnet_model=global_resnet_model,\n",
    "            num_classes=16\n",
    "        ),\n",
    "        cycle_GAN_ckpt_path=os.path.join(os.getcwd(), \"tb_logs\", \"image_to_image_translation\", \"CycleGAN_2_lr_0.0004\", \"checkpoints\" , \"latest-epoch=8-step=400500.ckpt\"),\n",
    "        lr=lr)\n",
    "\n",
    "# Initialize logger\n",
    "logger = TensorBoardLogger(\n",
    "    save_dir=os.path.join(\"tb_logs\", global_log_dir, \"combined_iti_fl\"), \n",
    "    name=\"CycleGAN_GRLTask\", \n",
    "    version=global_resnet_model_name + \"_lr_\" + str(lr))\n",
    "\n",
    "val_checkpoint_callback = pl.callbacks.ModelCheckpoint(\n",
    "    filename=\"{epoch}-{step}-{validation/accuracy:.1f}\",\n",
    "    monitor=\"validation/accuracy\",\n",
    "    mode=\"max\",\n",
    "    save_top_k=1,  \n",
    "    auto_insert_metric_name=False    \n",
    ")\n",
    "latest_checkpoint_callback = pl.callbacks.ModelCheckpoint(\n",
    "    filename=\"latest-{epoch}-{step}\",\n",
    "    monitor=\"step\",\n",
    "    mode=\"max\",\n",
    "    every_n_train_steps=500,\n",
    "    save_top_k=1       # save just the top\n",
    ")\n",
    "\n",
    "# Initialize a trainer\n",
    "trainer = pl.Trainer(max_epochs=NUM_EPOCHS,\n",
    "                     accelerator=system_accelerator, \n",
    "                     devices=1,\n",
    "                     logger=logger,\n",
    "                     callbacks=[ val_checkpoint_callback, latest_checkpoint_callback],\n",
    "                     )\n",
    "\n",
    "# Train the model \n",
    "trainer.fit(model, dm)\n",
    "\n",
    "# resume checkpoints\n",
    "# trainer.fit(model, dm, ckpt_path=os.path.join(os.getcwd(), \"tb_logs\", \"image_to_image_translation\", \"CycleGANResNetModule_0_lr_0.0001\", \"checkpoints\" , \"latest-epoch=7-step=29000.ckpt\"))"
   ]
  },
  {
   "cell_type": "markdown",
   "id": "2c3b3ea8",
   "metadata": {},
   "source": [
    "##### 2.4.1.3 Testing on synthetic dataset"
   ]
  },
  {
   "cell_type": "code",
   "execution_count": 11,
   "id": "e49bec1d",
   "metadata": {},
   "outputs": [
    {
     "name": "stdout",
     "output_type": "stream",
     "text": [
      "Dataset setup\n",
      "Dataset applying filter\n"
     ]
    }
   ],
   "source": [
    "print(\"Dataset setup\")\n",
    "dm = CulturalSiteDataModule(\n",
    "    batch_size=8, \n",
    "    dataset_type=CulturalSiteDataModule.SYNTHETIC_DATASET, \n",
    "    num_classes=16, \n",
    "    num_workers=6)\n",
    "dm.setup(CulturalSiteDataModule.TEST_STAGE)\n",
    "\n",
    "print(\"Dataset applying filter\")\n",
    "pixel_threshold = 30\n",
    "dm.filter_test(pixel_threshold)"
   ]
  },
  {
   "cell_type": "code",
   "execution_count": 12,
   "id": "706a60e1",
   "metadata": {},
   "outputs": [],
   "source": [
    "# Coming from baseline case 3 oracle\n",
    "mean=(0.28954191, 0.29725961, 0.31696455)\n",
    "std=(0.18010984, 0.18290568, 0.18407021)\n",
    "test_transform = transforms.Compose([\n",
    "    transforms.Resize(256, transforms.InterpolationMode.BICUBIC),\n",
    "    transforms.CenterCrop(224),            \n",
    "    transforms.RandomHorizontalFlip(),\n",
    "    transforms.ToTensor(),\n",
    "    transforms.Normalize(mean=mean, std=std)\n",
    "])\n",
    "dm.set_test_trasform(test_transform)"
   ]
  },
  {
   "cell_type": "code",
   "execution_count": 15,
   "id": "7e736f23",
   "metadata": {},
   "outputs": [
    {
     "name": "stderr",
     "output_type": "stream",
     "text": [
      "GPU available: True (cuda), used: True\n",
      "TPU available: False, using: 0 TPU cores\n",
      "IPU available: False, using: 0 IPUs\n",
      "HPU available: False, using: 0 HPUs\n",
      "Restoring states from the checkpoint path at e:\\github\\deep-learning-project\\tb_logs\\cycleGAN_feature_level\\CycleGANGRLTask_0_0.0001\\checkpoints\\latest-epoch=0-step=1500.ckpt\n",
      "LOCAL_RANK: 0 - CUDA_VISIBLE_DEVICES: [0]\n",
      "Loaded model weights from checkpoint at e:\\github\\deep-learning-project\\tb_logs\\cycleGAN_feature_level\\CycleGANGRLTask_0_0.0001\\checkpoints\\latest-epoch=0-step=1500.ckpt\n"
     ]
    },
    {
     "data": {
      "application/vnd.jupyter.widget-view+json": {
       "model_id": "51ae7a70535445c4b21bfaef94939d95",
       "version_major": 2,
       "version_minor": 0
      },
      "text/plain": [
       "Testing: 0it [00:00, ?it/s]"
      ]
     },
     "metadata": {},
     "output_type": "display_data"
    },
    {
     "name": "stdout",
     "output_type": "stream",
     "text": [
      "────────────────────────────────────────────────────────────────────────────────────────────────────────────────────────\n",
      "       Test metric             DataLoader 0\n",
      "────────────────────────────────────────────────────────────────────────────────────────────────────────────────────────\n",
      "      test/accuracy         0.1976507306098938\n",
      "────────────────────────────────────────────────────────────────────────────────────────────────────────────────────────\n"
     ]
    },
    {
     "data": {
      "text/plain": [
       "[{'test/accuracy': 0.1976507306098938}]"
      ]
     },
     "execution_count": 15,
     "metadata": {},
     "output_type": "execute_result"
    }
   ],
   "source": [
    "# Evaluate the model on the held-out test set \n",
    "trainer = pl.Trainer(accelerator=system_accelerator)\n",
    "model = CycleGANGRLTask(\n",
    "        model=CustomResNetModule(\n",
    "            resnet_model=global_resnet_model,\n",
    "            num_classes=16\n",
    "        ),\n",
    "        cycle_GAN_ckpt_path=os.path.join(os.getcwd(), \"tb_logs\", \"image_to_image_translation\", \"CycleGAN_2_lr_0.0004\", \"checkpoints\" , \"latest-epoch=8-step=400500.ckpt\"))\n",
    "        \n",
    "trainer.test(\n",
    "    model=model,\n",
    "    dataloaders=dm.test_dataloader(), \n",
    "    ckpt_path=os.path.join(os.getcwd(), \"tb_logs\", \"cycleGAN_feature_level\", \"CycleGANGRLTask_0_0.0001\", \"checkpoints\" , \"latest-epoch=0-step=1500.ckpt\"))"
   ]
  },
  {
   "cell_type": "markdown",
   "id": "2c3b3ea8",
   "metadata": {},
   "source": [
    "##### 2.4.1.4 Testing on real dataset"
   ]
  },
  {
   "cell_type": "code",
   "execution_count": 16,
   "id": "e49bec1d",
   "metadata": {},
   "outputs": [
    {
     "name": "stdout",
     "output_type": "stream",
     "text": [
      "Dataset setup\n",
      "Dataset applying filter\n"
     ]
    }
   ],
   "source": [
    "print(\"Dataset setup\")\n",
    "dm = CulturalSiteDataModule(\n",
    "    batch_size=8, \n",
    "    dataset_type=CulturalSiteDataModule.REAL_DATASET, \n",
    "    num_classes=16, \n",
    "    num_workers=6)\n",
    "dm.setup(CulturalSiteDataModule.TEST_STAGE)\n",
    "\n",
    "print(\"Dataset applying filter\")\n",
    "pixel_threshold = 30\n",
    "dm.filter_test(pixel_threshold)"
   ]
  },
  {
   "cell_type": "code",
   "execution_count": 17,
   "id": "706a60e1",
   "metadata": {},
   "outputs": [],
   "source": [
    "# Coming from baseline case 3 oracle\n",
    "mean=(0.28954191, 0.29725961, 0.31696455)\n",
    "std=(0.18010984, 0.18290568, 0.18407021)\n",
    "test_transform = transforms.Compose([\n",
    "    transforms.Resize(256, transforms.InterpolationMode.BICUBIC),\n",
    "    transforms.CenterCrop(224),            \n",
    "    transforms.RandomHorizontalFlip(),\n",
    "    transforms.ToTensor(),\n",
    "    transforms.Normalize(mean=mean, std=std)\n",
    "])\n",
    "dm.set_test_trasform(test_transform)"
   ]
  },
  {
   "cell_type": "code",
   "execution_count": 18,
   "id": "7e736f23",
   "metadata": {},
   "outputs": [
    {
     "name": "stderr",
     "output_type": "stream",
     "text": [
      "GPU available: True (cuda), used: True\n",
      "TPU available: False, using: 0 TPU cores\n",
      "IPU available: False, using: 0 IPUs\n",
      "HPU available: False, using: 0 HPUs\n",
      "Restoring states from the checkpoint path at e:\\github\\deep-learning-project\\tb_logs\\cycleGAN_feature_level\\CycleGANGRLTask_0_0.0001\\checkpoints\\latest-epoch=0-step=1500.ckpt\n",
      "LOCAL_RANK: 0 - CUDA_VISIBLE_DEVICES: [0]\n",
      "Loaded model weights from checkpoint at e:\\github\\deep-learning-project\\tb_logs\\cycleGAN_feature_level\\CycleGANGRLTask_0_0.0001\\checkpoints\\latest-epoch=0-step=1500.ckpt\n"
     ]
    },
    {
     "data": {
      "application/vnd.jupyter.widget-view+json": {
       "model_id": "36e1464ae65c42bdbeaa0f84618443b4",
       "version_major": 2,
       "version_minor": 0
      },
      "text/plain": [
       "Testing: 0it [00:00, ?it/s]"
      ]
     },
     "metadata": {},
     "output_type": "display_data"
    },
    {
     "name": "stdout",
     "output_type": "stream",
     "text": [
      "────────────────────────────────────────────────────────────────────────────────────────────────────────────────────────\n",
      "       Test metric             DataLoader 0\n",
      "────────────────────────────────────────────────────────────────────────────────────────────────────────────────────────\n",
      "      test/accuracy         0.19086021184921265\n",
      "────────────────────────────────────────────────────────────────────────────────────────────────────────────────────────\n"
     ]
    },
    {
     "data": {
      "text/plain": [
       "[{'test/accuracy': 0.19086021184921265}]"
      ]
     },
     "execution_count": 18,
     "metadata": {},
     "output_type": "execute_result"
    }
   ],
   "source": [
    "# Evaluate the model on the held-out test set \n",
    "trainer = pl.Trainer(accelerator=system_accelerator)\n",
    "model = CycleGANGRLTask(\n",
    "        model=CustomResNetModule(\n",
    "            resnet_model=global_resnet_model,\n",
    "            num_classes=16\n",
    "        ),\n",
    "        cycle_GAN_ckpt_path=os.path.join(os.getcwd(), \"tb_logs\", \"image_to_image_translation\", \"CycleGAN_2_lr_0.0004\", \"checkpoints\" , \"latest-epoch=8-step=400500.ckpt\"))\n",
    "       \n",
    "        \n",
    "trainer.test(\n",
    "    model=model,\n",
    "    dataloaders=dm.test_dataloader(), \n",
    "    ckpt_path=os.path.join(os.getcwd(), \"tb_logs\", \"cycleGAN_feature_level\", \"CycleGANGRLTask_0_0.0001\", \"checkpoints\" , \"latest-epoch=0-step=1500.ckpt\"))"
   ]
  },
  {
   "cell_type": "markdown",
   "id": "e9d0d185",
   "metadata": {},
   "source": [
    "##### 2.4.1.5 Result"
   ]
  },
  {
   "cell_type": "markdown",
   "id": "43608a88",
   "metadata": {},
   "source": [
    "TODO: add result"
   ]
  },
  {
   "cell_type": "markdown",
   "id": "5514368d",
   "metadata": {},
   "source": [
    "#### 2.4.2 Training ResNet (CycleGAN -> ADDA -> ResNet)"
   ]
  },
  {
   "cell_type": "markdown",
   "id": "0343c3fa",
   "metadata": {},
   "source": [
    "Approccio simile a quanto visto sopra ma implementa ADDA."
   ]
  },
  {
   "cell_type": "markdown",
   "id": "7e2289d6",
   "metadata": {},
   "source": [
    "##### 2.4.2.1 Model"
   ]
  },
  {
   "cell_type": "code",
   "execution_count": 8,
   "id": "d9960d50",
   "metadata": {},
   "outputs": [],
   "source": [
    "from scripts.models.custom_resnet_model import CustomResNetModule\n",
    "from scripts.ADDA.discriminator import Discriminator\n",
    "from scripts.CycleGAN.model import CycleGAN\n",
    "\n",
    "class CycleGANADDATask(pl.LightningModule):\n",
    "\n",
    "    def __init__(self, source_model, resnet_model, cycle_GAN_ckpt_path, num_classes, lr=1e-3): # ResNetModule loaded from ckpy\n",
    "        super(CycleGANADDATask, self).__init__() \n",
    "        self.lr = lr\n",
    "\n",
    "        self.cycleGAN_model = CycleGAN.load_from_checkpoint(cycle_GAN_ckpt_path)\n",
    "        self.cycleGAN_model.eval()\n",
    "\n",
    "        self.source_model = source_model\n",
    "        self.target_model = CustomResNetModule(resnet_model=resnet_model, num_classes=num_classes)\n",
    "        self.target_model.load_state_dict(self.source_model.state_dict())\n",
    "        self.target_model = self.target_model.feature_extractor\n",
    "\n",
    "        self.discriminator = Discriminator(self.source_model.classifier[0].in_features)\n",
    "        self.criterion = nn.BCEWithLogitsLoss()\n",
    "\n",
    "        self.accuracy = torchmetrics.Accuracy()\n",
    "\n",
    "    def forward(self,x):\n",
    "        features = self.target_model(x).view(x.shape[0],-1)\n",
    "        return self.source_model.classifier(features)\n",
    "\n",
    "    def configure_optimizers(self):\n",
    "        return torch.optim.Adam(self.discriminator.parameters(), lr=self.lr), torch.optim.Adam(self.target_model.parameters(), lr=self.lr)\n",
    "\n",
    "    def training_step(self, train_batch, batch_idx, optimizer_idx):\n",
    "        source, target, _ = train_batch\n",
    "\n",
    "        if optimizer_idx==0: #train discriminator\n",
    "            fake_B_source = self.cycleGAN_model(source, CycleGAN.A2B)\n",
    "            source_features = self.source_model.feature_extractor(fake_B_source).view(fake_B_source.shape[0], -1)\n",
    "            target_features = self.target_model(target).view(target.shape[0], -1)\n",
    "\n",
    "            discriminator_x = torch.cat([source_features, target_features])\n",
    "            discriminator_y = torch.cat([torch.ones(source.shape[0]).type_as(source), torch.zeros(target.shape[0]).type_as(source)])\n",
    "\n",
    "            preds = self.discriminator(discriminator_x).squeeze()\n",
    "            loss = self.criterion(preds, discriminator_y)\n",
    "\n",
    "            self.log('train/d_loss', loss)\n",
    "\n",
    "            return loss\n",
    "\n",
    "        else: #train generator\n",
    "            target_features = self.target_model(target).view(target.shape[0], -1)\n",
    "\n",
    "            # flipped labels\n",
    "            discriminator_y = torch.ones(target.shape[0]).type_as(source)\n",
    "\n",
    "            preds = self.discriminator(target_features).squeeze()\n",
    "            loss = self.criterion(preds, discriminator_y)\n",
    "\n",
    "            self.log('train/g_loss', loss)\n",
    "\n",
    "            return loss\n",
    "\n",
    "    def validation_step(self, batch, batch_idx):        \n",
    "        x,y = batch        \n",
    "        preds = self.forward(x)        \n",
    "        self.accuracy(torch.argmax(preds, dim=1), y)\n",
    "        self.log('validation/accuracy', self.accuracy, on_epoch=True)\n",
    "        \n",
    "    def test_step(self, batch, batch_idx):        \n",
    "        x,y = batch\n",
    "        preds = self.forward(x)\n",
    "        self.accuracy(torch.argmax(preds, dim=1), y)\n",
    "        self.log('test/accuracy', self.accuracy, on_epoch=True)\n"
   ]
  },
  {
   "cell_type": "markdown",
   "id": "def444d2",
   "metadata": {},
   "source": [
    "##### 2.4.2.2 Training"
   ]
  },
  {
   "cell_type": "code",
   "execution_count": 9,
   "id": "02dbd526",
   "metadata": {},
   "outputs": [
    {
     "name": "stdout",
     "output_type": "stream",
     "text": [
      "Dataset setup\n",
      "Dataset applying filter\n"
     ]
    }
   ],
   "source": [
    "from scripts.dataset.GRL.data_module_GRL import CulturalSiteDataModuleGRL\n",
    "\n",
    "print(\"Dataset setup\")\n",
    "dm = CulturalSiteDataModuleGRL(\n",
    "    batch_size=8, \n",
    "    num_workers=6)\n",
    "dm.setup(CulturalSiteDataModuleGRL.FIT_STAGE) #TODO: check why ALL_STAGE or TEST_STAGE are broken\n",
    "\n",
    "print(\"Dataset applying filter\")\n",
    "pixel_threshold = 30\n",
    "dm.filter_train(pixel_threshold)\n",
    "dm.filter_val(pixel_threshold)"
   ]
  },
  {
   "cell_type": "markdown",
   "id": "9032da4d",
   "metadata": {},
   "source": [
    "Normalization"
   ]
  },
  {
   "cell_type": "markdown",
   "id": "9ddeebe4",
   "metadata": {},
   "source": [
    "Using zero-mean-nomalization, the cells below calculate mean and std for individual or merged datasets to implement a case of study where:\n",
    "1. normalization using individual mean and std\n",
    "2. normalization using global mean and std"
   ]
  },
  {
   "cell_type": "code",
   "execution_count": null,
   "id": "44112d2a",
   "metadata": {},
   "outputs": [],
   "source": [
    "syn_dataset = np.array(dm.cultural_site_train.get_syn_image_dataset())[:,1] #TODO: rename\n",
    "real_img_dataset = np.array(dm.cultural_site_train.get_real_image_dataset())[:,1]\n",
    "merged_dataset = np.concatenate((syn_dataset, real_img_dataset))"
   ]
  },
  {
   "cell_type": "markdown",
   "id": "0a5247ad",
   "metadata": {},
   "source": [
    "Getting mean and std for synthetic dataset"
   ]
  },
  {
   "cell_type": "code",
   "execution_count": null,
   "id": "d22437c7",
   "metadata": {},
   "outputs": [
    {
     "name": "stdout",
     "output_type": "stream",
     "text": [
      "Mean: [0.28162546 0.29239721 0.31711673]\n",
      "Std: [0.17125229 0.17715992 0.18002949]\n"
     ]
    }
   ],
   "source": [
    "# OPTIONAL: does not need to be executed\n",
    "mean, std = dm.calculate_train_mean_and_std(resize_min_size=256, img_dataset=syn_dataset)\n",
    "print(\"Mean: \" + str(mean))\n",
    "print(\"Std: \" + str(std))"
   ]
  },
  {
   "cell_type": "markdown",
   "id": "138f0478",
   "metadata": {},
   "source": [
    "Getting mean and std for real dataset"
   ]
  },
  {
   "cell_type": "code",
   "execution_count": null,
   "id": "1ba952e8",
   "metadata": {},
   "outputs": [
    {
     "name": "stdout",
     "output_type": "stream",
     "text": [
      "Mean: [0.45215473 0.39806145 0.31654662]\n",
      "Std: [0.26077601 0.25441129 0.25139287]\n"
     ]
    }
   ],
   "source": [
    "# OPTIONAL: does not need to be executed\n",
    "mean, std = dm.calculate_train_mean_and_std(resize_min_size=256, img_dataset=real_img_dataset)\n",
    "print(\"Mean: \" + str(mean))\n",
    "print(\"Std: \" + str(std))"
   ]
  },
  {
   "cell_type": "markdown",
   "id": "f01fcd0d",
   "metadata": {},
   "source": [
    "Getting mean and std for merged dataset"
   ]
  },
  {
   "cell_type": "code",
   "execution_count": null,
   "id": "f00ad4eb",
   "metadata": {},
   "outputs": [
    {
     "name": "stdout",
     "output_type": "stream",
     "text": [
      "Mean: [0.28954191 0.29725961 0.31696455]\n",
      "Std: [0.18010984 0.18290568 0.18407021]\n"
     ]
    }
   ],
   "source": [
    "# OPTIONAL: does not need to be executed\n",
    "mean, std = dm.calculate_train_mean_and_std(resize_min_size=256, img_dataset=merged_dataset)\n",
    "print(\"Mean: \" + str(mean))\n",
    "print(\"Std: \" + str(std))"
   ]
  },
  {
   "cell_type": "markdown",
   "id": "143a1cdb",
   "metadata": {},
   "source": [
    "Global transform pipeline"
   ]
  },
  {
   "cell_type": "code",
   "execution_count": 10,
   "id": "ed4873b1",
   "metadata": {},
   "outputs": [],
   "source": [
    "# Coming from baseline cell above\n",
    "mean=(0.28954191, 0.29725961, 0.31696455)\n",
    "std=(0.18010984, 0.18290568, 0.18407021)\n",
    "train_transform = transforms.Compose([\n",
    "    transforms.Resize(256, transforms.InterpolationMode.BICUBIC),\n",
    "    transforms.RandomCrop(224),\n",
    "    transforms.RandomHorizontalFlip(),\n",
    "    transforms.ToTensor(),\n",
    "    transforms.Normalize(mean=mean, std=std)\n",
    "])\n",
    "\n",
    "val_and_test_transform = transforms.Compose([\n",
    "    transforms.Resize(256, transforms.InterpolationMode.BICUBIC),\n",
    "    transforms.CenterCrop(224),            \n",
    "    transforms.RandomHorizontalFlip(),\n",
    "    transforms.ToTensor(),\n",
    "    transforms.Normalize(mean=mean, std=std)\n",
    "])\n",
    "\n",
    "dm.set_train_trasform(train_transform)\n",
    "dm.set_val_trasform(val_and_test_transform)\n",
    "\n",
    "#TODO: add optional to Other case (Single syn, single real, both ecc....)"
   ]
  },
  {
   "cell_type": "code",
   "execution_count": 11,
   "id": "dacbcd92",
   "metadata": {},
   "outputs": [
    {
     "name": "stderr",
     "output_type": "stream",
     "text": [
      "c:\\Users\\danil\\anaconda3\\lib\\site-packages\\pytorch_lightning\\utilities\\parsing.py:268: UserWarning: Attribute 'source_model' is an instance of `nn.Module` and is already saved during checkpointing. It is recommended to ignore them using `self.save_hyperparameters(ignore=['source_model'])`.\n",
      "  rank_zero_warn(\n",
      "GPU available: True (cuda), used: True\n",
      "TPU available: False, using: 0 TPU cores\n",
      "IPU available: False, using: 0 IPUs\n",
      "HPU available: False, using: 0 HPUs\n",
      "LOCAL_RANK: 0 - CUDA_VISIBLE_DEVICES: [0]\n",
      "\n",
      "  | Name           | Type               | Params\n",
      "------------------------------------------------------\n",
      "0 | cycleGAN_model | CycleGAN           | 28.3 M\n",
      "1 | source_model   | CustomResNetModule | 24.6 M\n",
      "2 | target_model   | Sequential         | 23.5 M\n",
      "3 | discriminator  | Discriminator      | 103 K \n",
      "4 | criterion      | BCEWithLogitsLoss  | 0     \n",
      "5 | accuracy       | Accuracy           | 0     \n",
      "------------------------------------------------------\n",
      "76.5 M    Trainable params\n",
      "0         Non-trainable params\n",
      "76.5 M    Total params\n",
      "305.851   Total estimated model params size (MB)\n"
     ]
    },
    {
     "data": {
      "application/vnd.jupyter.widget-view+json": {
       "model_id": "4fc4a845cdc34c539c52b3e5c26efde1",
       "version_major": 2,
       "version_minor": 0
      },
      "text/plain": [
       "Sanity Checking: 0it [00:00, ?it/s]"
      ]
     },
     "metadata": {},
     "output_type": "display_data"
    },
    {
     "data": {
      "application/vnd.jupyter.widget-view+json": {
       "model_id": "82fa288c43714c459cdc3cef8707ea8b",
       "version_major": 2,
       "version_minor": 0
      },
      "text/plain": [
       "Training: 0it [00:00, ?it/s]"
      ]
     },
     "metadata": {},
     "output_type": "display_data"
    },
    {
     "name": "stderr",
     "output_type": "stream",
     "text": [
      "c:\\Users\\danil\\anaconda3\\lib\\site-packages\\pytorch_lightning\\trainer\\trainer.py:653: UserWarning: Detected KeyboardInterrupt, attempting graceful shutdown...\n",
      "  rank_zero_warn(\"Detected KeyboardInterrupt, attempting graceful shutdown...\")\n"
     ]
    }
   ],
   "source": [
    "source_model = CustomResNetModule.load_from_checkpoint(\n",
    "    os.path.join(os.getcwd(), \"tb_logs\", \"filtered_train\", \"CustomResNet_0_lr_0.0001\", \"checkpoints\" , \"latest-epoch=0-step=500.ckpt\"),\n",
    "    resnet_model=global_resnet_model)\n",
    "model = CycleGANADDATask(\n",
    "    source_model=source_model, \n",
    "    resnet_model=global_resnet_model, \n",
    "    cycle_GAN_ckpt_path=os.path.join(os.getcwd(), \"tb_logs\", \"image_to_image_translation\", \"CycleGAN_2_lr_0.0004\", \"checkpoints\" , \"latest-epoch=8-step=400500.ckpt\"),\n",
    "    num_classes=16)\n",
    "\n",
    "# Initialize logger\n",
    "logger = TensorBoardLogger(\n",
    "    save_dir=os.path.join(\"tb_logs\", global_log_dir, \"combined_iti_fl\"), \n",
    "    name=\"CycleGAN_ADDATask\", \n",
    "    version=global_resnet_model_name + \"_lr_\" + str(lr))\n",
    "\n",
    "val_checkpoint_callback = pl.callbacks.ModelCheckpoint(\n",
    "    filename=\"{epoch}-{step}-{validation/accuracy:.1f}\",\n",
    "    monitor=\"validation/accuracy\",\n",
    "    mode=\"max\",\n",
    "    save_top_k=1,\n",
    "    auto_insert_metric_name=False      \n",
    ")\n",
    "latest_checkpoint_callback = pl.callbacks.ModelCheckpoint(\n",
    "    filename=\"latest-{epoch}-{step}\",\n",
    "    monitor=\"step\",\n",
    "    mode=\"max\",\n",
    "    every_n_train_steps=500,\n",
    "    save_top_k=1      \n",
    ")\n",
    "\n",
    "# Initialize a trainer\n",
    "trainer = pl.Trainer(max_epochs=-1,\n",
    "                     accelerator=system_accelerator, \n",
    "                     devices=1,\n",
    "                     logger=logger,\n",
    "                     callbacks=[ val_checkpoint_callback, latest_checkpoint_callback],\n",
    "                     )\n",
    "\n",
    "# Train the model \n",
    "trainer.fit(model, dm)\n",
    "\n",
    "# resume checkpoints\n",
    "# trainer.fit(model, dm, ckpt_path=os.path.join(os.getcwd(), \"tb_logs\", \"image_to_image_translation\", \"CycleGANResNetModule_0_lr_0.0001\", \"checkpoints\" , \"latest-epoch=7-step=29000.ckpt\"))"
   ]
  },
  {
   "cell_type": "markdown",
   "id": "b1678fef",
   "metadata": {},
   "source": [
    "##### 2.4.2.3 Testing on synthetic domain"
   ]
  },
  {
   "cell_type": "code",
   "execution_count": 14,
   "id": "2b068520",
   "metadata": {},
   "outputs": [
    {
     "name": "stdout",
     "output_type": "stream",
     "text": [
      "Dataset applying filter\n"
     ]
    }
   ],
   "source": [
    "dm = CulturalSiteDataModule(\n",
    "    batch_size=8, \n",
    "    dataset_type=CulturalSiteDataModule.SYNTHETIC_DATASET, \n",
    "    num_classes=16, \n",
    "    num_workers=6)\n",
    "dm.setup(CulturalSiteDataModule.TEST_STAGE)\n",
    "\n",
    "print(\"Dataset applying filter\")\n",
    "pixel_threshold = 30\n",
    "dm.filter_test(pixel_threshold)"
   ]
  },
  {
   "cell_type": "code",
   "execution_count": 15,
   "id": "a5810afb",
   "metadata": {},
   "outputs": [],
   "source": [
    "# Coming from baseline case 3 oracle\n",
    "mean=(0.28954191, 0.29725961, 0.31696455)\n",
    "std=(0.18010984, 0.18290568, 0.18407021)\n",
    "test_transform = transforms.Compose([\n",
    "    transforms.Resize(256, transforms.InterpolationMode.BICUBIC),\n",
    "    transforms.CenterCrop(224),            \n",
    "    transforms.RandomHorizontalFlip(),\n",
    "    transforms.ToTensor(),\n",
    "    transforms.Normalize(mean=mean, std=std)\n",
    "])\n",
    "dm.set_test_trasform(test_transform)"
   ]
  },
  {
   "cell_type": "code",
   "execution_count": 17,
   "id": "a1fc2829",
   "metadata": {},
   "outputs": [
    {
     "name": "stderr",
     "output_type": "stream",
     "text": [
      "GPU available: True (cuda), used: True\n",
      "TPU available: False, using: 0 TPU cores\n",
      "IPU available: False, using: 0 IPUs\n",
      "HPU available: False, using: 0 HPUs\n",
      "Restoring states from the checkpoint path at e:\\github\\deep-learning-project\\tb_logs\\cycleGAN_feature_level\\CycleGANADDATask_0\\checkpoints\\latest-epoch=0-step=500.ckpt\n",
      "LOCAL_RANK: 0 - CUDA_VISIBLE_DEVICES: [0]\n",
      "Loaded model weights from checkpoint at e:\\github\\deep-learning-project\\tb_logs\\cycleGAN_feature_level\\CycleGANADDATask_0\\checkpoints\\latest-epoch=0-step=500.ckpt\n"
     ]
    },
    {
     "data": {
      "application/vnd.jupyter.widget-view+json": {
       "model_id": "f40411c0c7494450aeb429a52a04766e",
       "version_major": 2,
       "version_minor": 0
      },
      "text/plain": [
       "Testing: 0it [00:00, ?it/s]"
      ]
     },
     "metadata": {},
     "output_type": "display_data"
    }
   ],
   "source": [
    "# Evaluate the model on the held-out test set \n",
    "source_model = CustomResNetModule.load_from_checkpoint(\n",
    "    os.path.join(os.getcwd(), \"tb_logs\", \"filtered_train\", \"CustomResNet_0_lr_0.0001\", \"checkpoints\" , \"latest-epoch=0-step=500.ckpt\"),\n",
    "    resnet_model=global_resnet_model)\n",
    "model = CycleGANADDATask(\n",
    "    source_model=source_model, \n",
    "    resnet_model=global_resnet_model, \n",
    "    cycle_GAN_ckpt_path=os.path.join(os.getcwd(), \"tb_logs\", \"image_to_image_translation\", \"CycleGAN_2_lr_0.0004\", \"checkpoints\" , \"latest-epoch=8-step=400500.ckpt\"),\n",
    "    num_classes=16)\n",
    "\n",
    "trainer = pl.Trainer(accelerator=system_accelerator)\n",
    "        \n",
    "trainer.test(\n",
    "    model=model,\n",
    "    dataloaders=dm.test_dataloader(), \n",
    "    ckpt_path=os.path.join(os.getcwd(), \"tb_logs\", \"cycleGAN_feature_level\", \"CycleGANADDATask_0\", \"checkpoints\" , \"latest-epoch=0-step=500.ckpt\"))"
   ]
  },
  {
   "cell_type": "markdown",
   "id": "b1678fef",
   "metadata": {},
   "source": [
    "##### 2.4.2.4 Testing on real domain"
   ]
  },
  {
   "cell_type": "code",
   "execution_count": null,
   "id": "2b068520",
   "metadata": {},
   "outputs": [],
   "source": [
    "dm = CulturalSiteDataModule(\n",
    "    batch_size=8, \n",
    "    dataset_type=CulturalSiteDataModule.REAL_DATASET, \n",
    "    num_classes=16, \n",
    "    num_workers=6)\n",
    "dm.setup(CulturalSiteDataModule.TEST_STAGE)\n",
    "\n",
    "print(\"Dataset applying filter\")\n",
    "pixel_threshold = 30\n",
    "dm.filter_test(pixel_threshold)"
   ]
  },
  {
   "cell_type": "code",
   "execution_count": null,
   "id": "a5810afb",
   "metadata": {},
   "outputs": [],
   "source": [
    "# Coming from baseline case 3 oracle\n",
    "mean=(0.28954191, 0.29725961, 0.31696455)\n",
    "std=(0.18010984, 0.18290568, 0.18407021)\n",
    "test_transform = transforms.Compose([\n",
    "    transforms.Resize(256, transforms.InterpolationMode.BICUBIC),\n",
    "    transforms.CenterCrop(224),            \n",
    "    transforms.RandomHorizontalFlip(),\n",
    "    transforms.ToTensor(),\n",
    "    transforms.Normalize(mean=mean, std=std)\n",
    "])\n",
    "dm.set_test_trasform(test_transform)"
   ]
  },
  {
   "cell_type": "code",
   "execution_count": null,
   "id": "a1fc2829",
   "metadata": {},
   "outputs": [],
   "source": [
    "# Evaluate the model on the held-out test set \n",
    "source_model = CustomResNetModule.load_from_checkpoint(\n",
    "    os.path.join(os.getcwd(), \"tb_logs\", \"filtered_train\", \"CustomResNet_0_lr_0.0001\", \"checkpoints\" , \"latest-epoch=0-step=500.ckpt\"),\n",
    "    resnet_model=global_resnet_model)\n",
    "model = CycleGANADDATask(\n",
    "    source_model=source_model, \n",
    "    resnet_model=global_resnet_model, \n",
    "    cycle_GAN_ckpt_path=os.path.join(os.getcwd(), \"tb_logs\", \"image_to_image_translation\", \"CycleGAN_2_lr_0.0004\", \"checkpoints\" , \"latest-epoch=8-step=400500.ckpt\"),\n",
    "    num_classes=16)\n",
    "    \n",
    "trainer = pl.Trainer(accelerator=system_accelerator)\n",
    "        \n",
    "trainer.test(\n",
    "    model=model,\n",
    "    dataloaders=dm.test_dataloader(), \n",
    "    ckpt_path=os.path.join(os.getcwd(), \"tb_logs\", \"cycleGAN_feature_level\", \"CycleGANADDATask_0\", \"checkpoints\" , \"latest-epoch=0-step=500.ckpt\"))"
   ]
  },
  {
   "cell_type": "markdown",
   "id": "6f72ab95",
   "metadata": {},
   "source": [
    "##### 2.4.2.5 Result"
   ]
  },
  {
   "cell_type": "markdown",
   "id": "66c66131",
   "metadata": {},
   "source": [
    "TODO: add result"
   ]
  },
  {
   "cell_type": "markdown",
   "id": "6702765e",
   "metadata": {},
   "source": [
    "## 3. Overall Result"
   ]
  },
  {
   "cell_type": "markdown",
   "id": "806b7938",
   "metadata": {},
   "source": [
    "TODO: ADD considerazioni finali sui risultati"
   ]
  }
 ],
 "metadata": {
  "kernelspec": {
   "display_name": "Python 3.9.12 ('base')",
   "language": "python",
   "name": "python3"
  },
  "language_info": {
   "codemirror_mode": {
    "name": "ipython",
    "version": 3
   },
   "file_extension": ".py",
   "mimetype": "text/x-python",
   "name": "python",
   "nbconvert_exporter": "python",
   "pygments_lexer": "ipython3",
   "version": "3.9.12"
  },
  "vscode": {
   "interpreter": {
    "hash": "bf6e68f63c5332c5a5c0afd729fba59b86b097c63a7331fcdf5575bcde342b88"
   }
  }
 },
 "nbformat": 4,
 "nbformat_minor": 5
}

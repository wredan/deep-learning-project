{
 "cells": [
  {
   "cell_type": "markdown",
   "id": "094ab084",
   "metadata": {},
   "source": [
    "# Domain adaptation analysis"
   ]
  },
  {
   "cell_type": "markdown",
   "id": "5e8c487c",
   "metadata": {},
   "source": [
    "### Initial settings"
   ]
  },
  {
   "cell_type": "markdown",
   "id": "61b79da6",
   "metadata": {},
   "source": [
    "#### Dependencies"
   ]
  },
  {
   "cell_type": "code",
   "execution_count": 3,
   "id": "36870725",
   "metadata": {},
   "outputs": [
    {
     "name": "stdout",
     "output_type": "stream",
     "text": [
      "Note: you may need to restart the kernel to use updated packages.\n"
     ]
    }
   ],
   "source": [
    "%pip install --user -qr ./requirements.txt "
   ]
  },
  {
   "cell_type": "markdown",
   "id": "0e92c0f3",
   "metadata": {},
   "source": [
    "#### Import and Utilities"
   ]
  },
  {
   "cell_type": "code",
   "execution_count": 24,
   "id": "fe092eee",
   "metadata": {},
   "outputs": [],
   "source": [
    "import pytorch_lightning as pl\n",
    "# your favorite machine learning tracking tool\n",
    "# from pytorch_lightning.loggers import WandbLogger\n",
    "\n",
    "import torch\n",
    "from torch import nn\n",
    "from torch.nn import functional as F\n",
    "from torch.utils.data import random_split, DataLoader\n",
    "\n",
    "from torchmetrics import Accuracy\n",
    "\n",
    "from torchvision import transforms\n",
    "\n",
    "import wget \n",
    "import numpy as np\n",
    "from matplotlib import pyplot as plt\n",
    "# import wandb"
   ]
  },
  {
   "cell_type": "markdown",
   "id": "5134e9fb",
   "metadata": {},
   "source": [
    "### Import Dataset"
   ]
  },
  {
   "cell_type": "code",
   "execution_count": 25,
   "id": "2d669ace",
   "metadata": {},
   "outputs": [],
   "source": [
    "# TODO: spostare questa implementazione in un file a parte\n",
    "import os\n",
    "import sys\n",
    "import zipfile\n",
    "from scripts.extract_patches import *\n",
    "import shutil\n",
    "import progressbar\n",
    "\n",
    "bar = progressbar.ProgressBar(maxval=7240124142, widgets=[progressbar.Bar('=', '[', ']'), ' ', progressbar.Percentage()])\n",
    "\n",
    "def bar_progress(current, total, width=80):\n",
    "  bar.update(current)\n",
    "\n",
    "class CulturalSiteDatasetsLoader():\n",
    "\n",
    "    def __init__(self, download_path):    \n",
    "        self._class_path_datasets = './CLASS-EGO-CH-OBJ-ADAPT/' # TODO: non è detto che si chiami così, configurarlo in modo che sia così\n",
    "        if not self._classification_datasets_exists():\n",
    "            print(\"Classification dataset not found. Checking main dataset...\")\n",
    "            self._main_path_datasets = './EGO-CH-OBJ-ADAPT/'\n",
    "            if not self._main_datasets_exists():\n",
    "                print(\"Main dataset not found. Checking zip file dataset...\")\n",
    "                self._get_main_datasets(download_path) \n",
    "            else: print(\"Main dataset found.\")\n",
    "            print(\"Start extracting patches...\")\n",
    "            self._extract_patches(self._main_path_datasets, self._class_path_datasets)  \n",
    "            print(\"Patches extracted successfully!\")  \n",
    "        else: print(\"Classification dataset found.\")\n",
    "\n",
    "    def _get_main_datasets(self, download_path): # download and extract dataset\n",
    "        zip_file_path = './EGO-CH-OBJ-ADAPT.zip'\n",
    "        if not self._main_datasets_zip_exists(zip_file_path):\n",
    "            print(\"Zip file dataset not found. Pulling from resource(\", download_path, \")...\")\n",
    "            bar.start()\n",
    "            wget.download(download_path, \"./\", bar=bar_progress)\n",
    "            bar.finish()\n",
    "        self.extract_file(zip_file_path)\n",
    "        \n",
    "    def extract_file(self, zip_file_path):  \n",
    "        print(\"Zip file found, start unzipping...\")\n",
    "        save_path = \"./EGO-CH-OBJ-ADAPT/\"\n",
    "        with zipfile.ZipFile(zip_file_path) as zf:\n",
    "            zf.extractall(save_path)     \n",
    "        print(\"File unzipped successfully!\")\n",
    "\n",
    "    def _extract_patches(self, main_path, save_path):\n",
    "        print(main_path, save_path)\n",
    "        ExtractPatches(main_path, save_path).extract()\n",
    "\n",
    "    def _main_datasets_exists(self):\n",
    "        return os.path.isdir(self._main_path_datasets)\n",
    "\n",
    "    def _main_datasets_zip_exists(self, zip_file_path):\n",
    "        return os.path.isfile(zip_file_path)\n",
    "\n",
    "    def _classification_datasets_exists(self):\n",
    "        return os.path.isdir(self._class_path_datasets)"
   ]
  },
  {
   "cell_type": "code",
   "execution_count": 47,
   "id": "dd46f94c",
   "metadata": {},
   "outputs": [],
   "source": [
    "from typing import Callable, Optional\n",
    "import json\n",
    "from PIL import Image\n",
    "from torchvision.datasets.utils import check_integrity, download_and_extract_archive\n",
    "from torchvision.datasets.vision import VisionDataset\n",
    "\n",
    "class CulturalSiteDataset(VisionDataset):\n",
    "\n",
    "    TRAIN = 0\n",
    "    VALIDATION = 1\n",
    "    TEST = 2\n",
    "\n",
    "    REAL_DATASET = 0\n",
    "    SYNTHETIC_DATASET = 1    \n",
    "\n",
    "    REAL = \"real\"\n",
    "    SYNTHETIC = \"syntehtic\"\n",
    "\n",
    "    RESIZE_HEIGHT = 32\n",
    "    RESIZE_WIDTH = 32\n",
    "\n",
    "    def __init__(self, dataset_stage=TRAIN, dataset_type=SYNTHETIC_DATASET, transform: Optional[Callable] = None) -> None:\n",
    "        data_domain = CulturalSiteDataset.REAL if dataset_type == CulturalSiteDataset.REAL_DATASET else CulturalSiteDataset.SYNTHETIC\n",
    "        if dataset_stage == CulturalSiteDataset.TRAIN:\n",
    "            dataset_folder = './CLASS-EGO-CH-OBJ-ADAPT/' + data_domain + '/training/data/'\n",
    "            labels_file = './CLASS-EGO-CH-OBJ-ADAPT/' + data_domain + '/training/labels.json'\n",
    "        elif dataset_stage == CulturalSiteDataset.VALIDATION and dataset_type != CulturalSiteDataset.REAL_DATASET:\n",
    "            dataset_folder = './CLASS-EGO-CH-OBJ-ADAPT/' + data_domain + '/validation/data/'\n",
    "            labels_file = './CLASS-EGO-CH-OBJ-ADAPT/' + data_domain + '/validation/labels.json'\n",
    "        elif dataset_stage == CulturalSiteDataset.TEST or dataset_type == CulturalSiteDataset.REAL_DATASET:\n",
    "            dataset_folder = './CLASS-EGO-CH-OBJ-ADAPT/' + data_domain + '/test/data/'      \n",
    "            labels_file = './CLASS-EGO-CH-OBJ-ADAPT/' + data_domain + '/test/labels.json'  \n",
    "        super().__init__(root = dataset_folder, transform = transform, target_transform=None)\n",
    "\n",
    "        self.image_dataset = [] # [filename, img, id_class]\n",
    "        self._load_images(dataset_folder)\n",
    "        self._load_image_classes(labels_file) # todo: remove hardcode (add config file)\n",
    "        self._load_class_ids(\"./utils/image_classes.json\")     # todo: remove hardcode o salvare \n",
    "        self.image_dataset = np.array(self.image_dataset, dtype=object)\n",
    "        # todo: spostare in gpu se disponile\n",
    "\n",
    "    def get_image_dataset(self):\n",
    "        return self.image_dataset\n",
    "\n",
    "    def set_image_dataset(self):\n",
    "        return self.image_dataset\n",
    "\n",
    "    def filter_dataset(self):\n",
    "        filtered_dataset = []\n",
    "        soglia_pixel = 30\n",
    "        for el in self.image_dataset:\n",
    "            h = el[1].shape[0]\n",
    "            w = el[1].shape[1]\n",
    "            if h > soglia_pixel and w > soglia_pixel:\n",
    "                filtered_dataset.append(el)\n",
    "        self.image_dataset = np.array(filtered_dataset)\n",
    "\n",
    "    def normalize_dataset(self):  \n",
    "        normalized_dataset = []     \n",
    "        for el in self.image_dataset:\n",
    "            el[1] = np.asarray(Image.fromarray(el[1]).resize((CulturalSiteDataset.RESIZE_WIDTH, CulturalSiteDataset.RESIZE_HEIGHT)))\n",
    "            normalized_dataset.append(el)\n",
    "        self.image_dataset = np.array(normalized_dataset)\n",
    "\n",
    "    def _load_images(self, path):\n",
    "        suffix = \".jpg\"\n",
    "        for filename in os.listdir(path):\n",
    "            im = Image.open(os.path.join(path, filename))\n",
    "            self.image_dataset.append([filename.removesuffix(suffix), np.asarray(im), None ])\n",
    "\n",
    "    def _load_image_classes(self, path):\n",
    "        file = open(path)\n",
    "        content = json.load(file)\n",
    "        for el in self.image_dataset:\n",
    "            el[2] = content[\"labels\"][el[0]]\n",
    "\n",
    "    def _load_class_ids(self, path):  # TODO: è possibile fare tutto in un unico passaggio nella funzione sopra, da sistemare\n",
    "        file = open(path)\n",
    "        content = json.load(file)\n",
    "        for i in range(len(self.image_dataset)):\n",
    "            for el in content[\"categories\"]:\n",
    "                if el[\"name\"] == self.image_dataset[i][2]:\n",
    "                    self.image_dataset[i][2] = el[\"id\"]\n",
    "\n",
    "    def __getitem__(self, index: int):\n",
    "        img = self.image_dataset[index][1]\n",
    "        image_class = self.image_dataset[index][2]\n",
    "        img = Image.fromarray(img)\n",
    "        if self.transform is not None:\n",
    "            img = self.transform(img)\n",
    "        return img, image_class\n",
    "\n",
    "\n",
    "    def __len__(self) -> int:\n",
    "        return len(self.image_dataset)"
   ]
  },
  {
   "cell_type": "code",
   "execution_count": 4,
   "id": "28bb905c",
   "metadata": {},
   "outputs": [],
   "source": [
    "import os.path\n",
    "import pickle\n",
    "from typing import Any, Callable, Optional, Tuple\n",
    "\n",
    "import numpy as np\n",
    "from PIL import Image\n",
    "\n",
    "from torchvision.datasets.utils import check_integrity, download_and_extract_archive\n",
    "from torchvision.datasets.vision import VisionDataset\n",
    "\n",
    "class CIFAR10(VisionDataset):\n",
    "    \"\"\"`CIFAR10 <https://www.cs.toronto.edu/~kriz/cifar.html>`_ Dataset.\n",
    "\n",
    "    Args:\n",
    "        root (string): Root directory of dataset where directory\n",
    "            ``cifar-10-batches-py`` exists or will be saved to if download is set to True.\n",
    "        train (bool, optional): If True, creates dataset from training set, otherwise\n",
    "            creates from test set.\n",
    "        transform (callable, optional): A function/transform that takes in an PIL image\n",
    "            and returns a transformed version. E.g, ``transforms.RandomCrop``\n",
    "        target_transform (callable, optional): A function/transform that takes in the\n",
    "            target and transforms it.\n",
    "        download (bool, optional): If true, downloads the dataset from the internet and\n",
    "            puts it in root directory. If dataset is already downloaded, it is not\n",
    "            downloaded again.\n",
    "\n",
    "    \"\"\"\n",
    "\n",
    "    base_folder = \"cifar-10-batches-py\"\n",
    "    url = \"https://www.cs.toronto.edu/~kriz/cifar-10-python.tar.gz\"\n",
    "    filename = \"cifar-10-python.tar.gz\"\n",
    "    tgz_md5 = \"c58f30108f718f92721af3b95e74349a\"\n",
    "    train_list = [\n",
    "        [\"data_batch_1\", \"c99cafc152244af753f735de768cd75f\"],\n",
    "        [\"data_batch_2\", \"d4bba439e000b95fd0a9bffe97cbabec\"],\n",
    "        [\"data_batch_3\", \"54ebc095f3ab1f0389bbae665268c751\"],\n",
    "        [\"data_batch_4\", \"634d18415352ddfa80567beed471001a\"],\n",
    "        [\"data_batch_5\", \"482c414d41f54cd18b22e5b47cb7c3cb\"],\n",
    "    ]\n",
    "\n",
    "    test_list = [\n",
    "        [\"test_batch\", \"40351d587109b95175f43aff81a1287e\"],\n",
    "    ]\n",
    "    meta = {\n",
    "        \"filename\": \"batches.meta\",\n",
    "        \"key\": \"label_names\",\n",
    "        \"md5\": \"5ff9c542aee3614f3951f8cda6e48888\",\n",
    "    }\n",
    "\n",
    "    def __init__(\n",
    "        self,\n",
    "        root: str,\n",
    "        train: bool = True,\n",
    "        transform: Optional[Callable] = None,\n",
    "        target_transform: Optional[Callable] = None,\n",
    "        download: bool = False,\n",
    "    ) -> None:\n",
    "\n",
    "        super().__init__(root, transform=transform, target_transform=target_transform)\n",
    "\n",
    "        self.train = train  # training set or test set\n",
    "\n",
    "        if download:\n",
    "            self.download()\n",
    "\n",
    "        if not self._check_integrity():\n",
    "            raise RuntimeError(\"Dataset not found or corrupted. You can use download=True to download it\")\n",
    "\n",
    "        if self.train:\n",
    "            downloaded_list = self.train_list\n",
    "        else:\n",
    "            downloaded_list = self.test_list\n",
    "\n",
    "        self.data: Any = []\n",
    "        self.targets = []\n",
    "\n",
    "        # now load the picked numpy arrays\n",
    "        for file_name, checksum in downloaded_list:\n",
    "            file_path = os.path.join(self.root, self.base_folder, file_name)\n",
    "            with open(file_path, \"rb\") as f:\n",
    "                entry = pickle.load(f, encoding=\"latin1\")\n",
    "                self.data.append(entry[\"data\"])\n",
    "                if \"labels\" in entry:\n",
    "                    self.targets.extend(entry[\"labels\"])\n",
    "                else:\n",
    "                    self.targets.extend(entry[\"fine_labels\"])\n",
    "\n",
    "        self.data = np.vstack(self.data).reshape(-1, 3, 32, 32)\n",
    "        self.data = self.data.transpose((0, 2, 3, 1))  # convert to HWC\n",
    "\n",
    "        self._load_meta()\n",
    "\n",
    "    def _load_meta(self) -> None:\n",
    "        path = os.path.join(self.root, self.base_folder, self.meta[\"filename\"])\n",
    "        if not check_integrity(path, self.meta[\"md5\"]):\n",
    "            raise RuntimeError(\"Dataset metadata file not found or corrupted. You can use download=True to download it\")\n",
    "        with open(path, \"rb\") as infile:\n",
    "            data = pickle.load(infile, encoding=\"latin1\")\n",
    "            self.classes = data[self.meta[\"key\"]]\n",
    "        self.class_to_idx = {_class: i for i, _class in enumerate(self.classes)}\n",
    "\n",
    "    def __getitem__(self, index: int) -> Tuple[Any, Any]:\n",
    "        \"\"\"\n",
    "        Args:\n",
    "            index (int): Index\n",
    "\n",
    "        Returns:\n",
    "            tuple: (image, target) where target is index of the target class.\n",
    "        \"\"\"\n",
    "        img, target = self.data[index], self.targets[index]\n",
    "\n",
    "        # doing this so that it is consistent with all other datasets\n",
    "        # to return a PIL Image\n",
    "        img = Image.fromarray(img)\n",
    "\n",
    "        if self.transform is not None:\n",
    "            img = self.transform(img)\n",
    "\n",
    "        if self.target_transform is not None:\n",
    "            target = self.target_transform(target)\n",
    "\n",
    "        return img, target\n",
    "\n",
    "\n",
    "    def __len__(self) -> int:\n",
    "        return len(self.data)\n",
    "\n",
    "    def _check_integrity(self) -> bool:\n",
    "        root = self.root\n",
    "        for fentry in self.train_list + self.test_list:\n",
    "            filename, md5 = fentry[0], fentry[1]\n",
    "            fpath = os.path.join(root, self.base_folder, filename)\n",
    "            if not check_integrity(fpath, md5):\n",
    "                return False\n",
    "        return True\n",
    "\n",
    "    def download(self) -> None:\n",
    "        if self._check_integrity():\n",
    "            print(\"Files already downloaded and verified\")\n",
    "            return\n",
    "        download_and_extract_archive(self.url, self.root, filename=self.filename, md5=self.tgz_md5)\n",
    "\n",
    "    def extra_repr(self) -> str:\n",
    "        split = \"Train\" if self.train is True else \"Test\"\n",
    "        return f\"Split: {split}\""
   ]
  },
  {
   "cell_type": "code",
   "execution_count": 77,
   "id": "e1674bba",
   "metadata": {},
   "outputs": [],
   "source": [
    "class CulturalSiteDataModule(pl.LightningDataModule):\n",
    "\n",
    "    FIT_STAGE = 0\n",
    "    TEST_STAGE = 1\n",
    "    ALL_STAGE = 2\n",
    "\n",
    "    REAL_DATASET = 0\n",
    "    SYNTHETIC_DATASET = 1\n",
    "\n",
    "    def __init__(self, batch_size, dataset_type, num_classes):\n",
    "        super().__init__()\n",
    "        self.batch_size = batch_size\n",
    "        self.dataset_type = dataset_type\n",
    "        self.transform = transforms.Compose([\n",
    "            transforms.ToTensor(),\n",
    "            transforms.Normalize((0.5, 0.5, 0.5), (0.5, 0.5, 0.5))\n",
    "        ])\n",
    "        self.num_classes = num_classes\n",
    "        self.cultural_site_train = None\n",
    "        self.cultural_site_val = None\n",
    "        self.cultural_site_test = None\n",
    "    \n",
    "    def prepare_data(self):\n",
    "        CulturalSiteDatasetsLoader(\"https://iplab.dmi.unict.it/EGO-CH-OBJ-ADAPT/EGO-CH-OBJ-ADAPT.zip\") # todo: rimuovere hardcode\n",
    "        #CulturalSiteDataset() #dovremmo usare questa classe anziché il loader. O comunque l'importante qui è preparare i dati per averli pronti dopo\n",
    "\n",
    "    def setup(self, stage=ALL_STAGE):\n",
    "        # TODO: qui istanziare CulturalSiteDataset, creare i dataset da passare ai dataloader sotto\n",
    "        # Assign train/val datasets for use in dataloaders\n",
    "        if stage == CulturalSiteDataModule.FIT_STAGE or stage == CulturalSiteDataModule.ALL_STAGE:\n",
    "            self.cultural_site_train = CulturalSiteDataset(dataset_stage=CulturalSiteDataset.TRAIN, dataset_type=self.dataset_type, transform=self.transform)\n",
    "            self.cultural_site_val = CulturalSiteDataset(dataset_stage=CulturalSiteDataset.VALIDATION, dataset_type=self.dataset_type, transform=self.transform)\n",
    "\n",
    "        # Assign test dataset for use in dataloader(s)\n",
    "        if stage == CulturalSiteDataModule.TEST_STAGE or stage == CulturalSiteDataModule.ALL_STAGE:\n",
    "            self.cultural_site_test = CulturalSiteDataset(dataset_stage=CulturalSiteDataset.TEST, dataset_type=self.dataset_type, transform=self.transform)\n",
    "    \n",
    "    def train_preanalysis(self):\n",
    "        self.__ds_preanalysis(self.cultural_site_train)\n",
    "\n",
    "    def val_preanalysis(self):\n",
    "        self.__ds_preanalysis(self.cultural_site_val)\n",
    "\n",
    "    def test_preanalysis(self):\n",
    "        self.__ds_preanalysis(self.cultural_site_test)\n",
    "\n",
    "    def __ds_preanalysis(self, dataset: CulturalSiteDataset):\n",
    "        image_dataset = dataset.get_image_dataset()\n",
    "        unique, counts = np.unique(image_dataset[:, 2], return_counts=True)\n",
    "        plt.bar(unique, counts)\n",
    "        plt.xticks(unique.astype(np.float32))\n",
    "        plt.show()\n",
    "        print(np.column_stack((unique,counts)))\n",
    "        print(\"len: \", len(image_dataset))\n",
    "\n",
    "    def filter_train(self):\n",
    "        self.cultural_site_train.filter_dataset()\n",
    "\n",
    "    def filter_val(self):\n",
    "        self.cultural_site_val.filter_dataset()\n",
    "\n",
    "    def filter_test(self):\n",
    "        self.cultural_site_test.filter_dataset()\n",
    "\n",
    "    def normalize_train(self):\n",
    "        prev_image = self.cultural_site_train.get_image_dataset()[0][1]\n",
    "        self.cultural_site_train.normalize_dataset()\n",
    "        dataset = self.cultural_site_train.get_image_dataset()\n",
    "        fig, (prev_subplot, post_subplot) = plt.subplots(1, 2)\n",
    "        prev_subplot.set_title(\"Immagine originale \" + str(prev_image.shape[0]) + \"x\" + str(prev_image.shape[1]) + \":\")\n",
    "        post_subplot.set_title(\"Immagine normalizzata \" + str(CulturalSiteDataset.RESIZE_HEIGHT) + \"x\" + str(CulturalSiteDataset.RESIZE_WIDTH) + \":\")\n",
    "        prev_subplot.imshow(prev_image)\n",
    "        post_subplot.imshow(dataset[0][1])      \n",
    "        print(dataset[0][0], dataset[0][2])      \n",
    "\n",
    "    def normalize_val(self):\n",
    "        self.cultural_site_val.normalize_dataset()\n",
    "\n",
    "    def normalize_test(self):\n",
    "        self.cultural_site_test.normalize_dataset()\n",
    "\n",
    "    def train_dataloader(self):\n",
    "        return DataLoader(self.cultural_site_train, batch_size=self.batch_size, shuffle=True)\n",
    "\n",
    "    def val_dataloader(self):\n",
    "        return DataLoader(self.cultural_site_val, batch_size=self.batch_size)\n",
    "\n",
    "    def test_dataloader(self):\n",
    "        return DataLoader(self.cultural_site_test, batch_size=self.batch_size)"
   ]
  },
  {
   "cell_type": "markdown",
   "id": "badb5eff",
   "metadata": {},
   "source": [
    "### Dataset Pre Analysis"
   ]
  },
  {
   "cell_type": "code",
   "execution_count": 78,
   "id": "6092cdfb",
   "metadata": {},
   "outputs": [
    {
     "name": "stdout",
     "output_type": "stream",
     "text": [
      "Classification dataset found.\n"
     ]
    }
   ],
   "source": [
    "dm = CulturalSiteDataModule(batch_size=16, dataset_type=CulturalSiteDataModule.SYNTHETIC_DATASET, num_classes=16) # todo: istanziare CulturalSiteDataset, preparare i dati\n",
    "# To access the x_dataloader we need to call prepare_data and setup.\n",
    "dm.prepare_data()\n",
    "dm.setup(CulturalSiteDataModule.FIT_STAGE)"
   ]
  },
  {
   "cell_type": "code",
   "execution_count": 74,
   "id": "174eb847",
   "metadata": {},
   "outputs": [
    {
     "data": {
      "image/png": "[encoded data removed]",
      "text/plain": [
       "<Figure size 640x480 with 1 Axes>"
      ]
     },
     "metadata": {},
     "output_type": "display_data"
    },
    {
     "name": "stdout",
     "output_type": "stream",
     "text": [
      "[[0 1301]\n",
      " [1 1628]\n",
      " [2 2313]\n",
      " [3 2345]\n",
      " [4 2202]\n",
      " [5 1904]\n",
      " [6 2135]\n",
      " [7 2557]\n",
      " [8 1517]\n",
      " [9 3285]\n",
      " [10 1617]\n",
      " [11 3567]\n",
      " [12 990]\n",
      " [13 2721]\n",
      " [14 3824]\n",
      " [15 927]]\n",
      "len:  34833\n"
     ]
    },
    {
     "data": {
      "image/png": "[encoded data removed]",
      "text/plain": [
       "<Figure size 640x480 with 1 Axes>"
      ]
     },
     "metadata": {},
     "output_type": "display_data"
    },
    {
     "name": "stdout",
     "output_type": "stream",
     "text": [
      "[[0 668]\n",
      " [1 797]\n",
      " [2 1205]\n",
      " [3 1244]\n",
      " [4 1064]\n",
      " [5 896]\n",
      " [6 1054]\n",
      " [7 1140]\n",
      " [8 577]\n",
      " [9 1085]\n",
      " [10 633]\n",
      " [11 2110]\n",
      " [12 682]\n",
      " [13 1323]\n",
      " [14 1948]\n",
      " [15 344]]\n",
      "len:  16770\n"
     ]
    }
   ],
   "source": [
    "dm.train_preanalysis()\n",
    "dm.val_preanalysis()"
   ]
  },
  {
   "cell_type": "markdown",
   "id": "9bccdb89",
   "metadata": {},
   "source": [
    "Si è notato che alcune immagini non rapresetavano pienamente le caratteristiche dell'oggetto da classificare, per cui si è optato di scartare le immaggini con meno di 30px"
   ]
  },
  {
   "cell_type": "code",
   "execution_count": 79,
   "id": "959a5c8d",
   "metadata": {},
   "outputs": [
    {
     "data": {
      "image/png": "[encoded data removed]",
      "text/plain": [
       "<Figure size 640x480 with 1 Axes>"
      ]
     },
     "metadata": {},
     "output_type": "display_data"
    },
    {
     "name": "stdout",
     "output_type": "stream",
     "text": [
      "[[0 1173]\n",
      " [1 1316]\n",
      " [2 2219]\n",
      " [3 2264]\n",
      " [4 2107]\n",
      " [5 1692]\n",
      " [6 1964]\n",
      " [7 2165]\n",
      " [8 1401]\n",
      " [9 3120]\n",
      " [10 1333]\n",
      " [11 1539]\n",
      " [12 866]\n",
      " [13 2235]\n",
      " [14 3756]\n",
      " [15 884]]\n",
      "len:  30034\n"
     ]
    },
    {
     "data": {
      "image/png": "[encoded data removed]",
      "text/plain": [
       "<Figure size 640x480 with 1 Axes>"
      ]
     },
     "metadata": {},
     "output_type": "display_data"
    },
    {
     "name": "stdout",
     "output_type": "stream",
     "text": [
      "[[0 592]\n",
      " [1 625]\n",
      " [2 1146]\n",
      " [3 1178]\n",
      " [4 1026]\n",
      " [5 785]\n",
      " [6 943]\n",
      " [7 996]\n",
      " [8 526]\n",
      " [9 999]\n",
      " [10 491]\n",
      " [11 1097]\n",
      " [12 626]\n",
      " [13 1072]\n",
      " [14 1906]\n",
      " [15 334]]\n",
      "len:  14342\n"
     ]
    }
   ],
   "source": [
    "dm.filter_train()\n",
    "dm.filter_val()\n",
    "\n",
    "dm.train_preanalysis()\n",
    "dm.val_preanalysis()"
   ]
  },
  {
   "cell_type": "markdown",
   "id": "88bcf0bc",
   "metadata": {},
   "source": [
    "### Normalize input features"
   ]
  },
  {
   "cell_type": "markdown",
   "id": "80282f07",
   "metadata": {},
   "source": []
  },
  {
   "cell_type": "code",
   "execution_count": 80,
   "id": "6b4493de",
   "metadata": {},
   "outputs": [
    {
     "ename": "TypeError",
     "evalue": "can only concatenate str (not \"int\") to str",
     "output_type": "error",
     "traceback": [
      "\u001b[1;31m---------------------------------------------------------------------------\u001b[0m",
      "\u001b[1;31mTypeError\u001b[0m                                 Traceback (most recent call last)",
      "Cell \u001b[1;32mIn [80], line 1\u001b[0m\n\u001b[1;32m----> 1\u001b[0m \u001b[43mdm\u001b[49m\u001b[38;5;241;43m.\u001b[39;49m\u001b[43mnormalize_train\u001b[49m\u001b[43m(\u001b[49m\u001b[43m)\u001b[49m\n\u001b[0;32m      2\u001b[0m dm\u001b[38;5;241m.\u001b[39mnormalize_val()\n",
      "Cell \u001b[1;32mIn [77], line 70\u001b[0m, in \u001b[0;36mCulturalSiteDataModule.normalize_train\u001b[1;34m(self)\u001b[0m\n\u001b[0;32m     68\u001b[0m dataset \u001b[38;5;241m=\u001b[39m \u001b[38;5;28mself\u001b[39m\u001b[38;5;241m.\u001b[39mcultural_site_train\u001b[38;5;241m.\u001b[39mget_image_dataset()\n\u001b[0;32m     69\u001b[0m fig, (prev_subplot, post_subplot) \u001b[38;5;241m=\u001b[39m plt\u001b[38;5;241m.\u001b[39msubplots(\u001b[38;5;241m1\u001b[39m, \u001b[38;5;241m2\u001b[39m)\n\u001b[1;32m---> 70\u001b[0m prev_subplot\u001b[38;5;241m.\u001b[39mset_title(\u001b[38;5;124;43m\"\u001b[39;49m\u001b[38;5;124;43mImmagine originale \u001b[39;49m\u001b[38;5;124;43m\"\u001b[39;49m\u001b[43m \u001b[49m\u001b[38;5;241;43m+\u001b[39;49m\u001b[43m \u001b[49m\u001b[43mprev_image\u001b[49m\u001b[38;5;241;43m.\u001b[39;49m\u001b[43mshape\u001b[49m\u001b[43m[\u001b[49m\u001b[38;5;241;43m0\u001b[39;49m\u001b[43m]\u001b[49m \u001b[38;5;241m+\u001b[39m \u001b[38;5;124m\"\u001b[39m\u001b[38;5;124mx\u001b[39m\u001b[38;5;124m\"\u001b[39m \u001b[38;5;241m+\u001b[39m prev_image\u001b[38;5;241m.\u001b[39mshape[\u001b[38;5;241m1\u001b[39m] \u001b[38;5;241m+\u001b[39m \u001b[38;5;124m\"\u001b[39m\u001b[38;5;124m:\u001b[39m\u001b[38;5;124m\"\u001b[39m)\n\u001b[0;32m     71\u001b[0m post_subplot\u001b[38;5;241m.\u001b[39mset_title(\u001b[38;5;124m\"\u001b[39m\u001b[38;5;124mImmagine normalizzata \u001b[39m\u001b[38;5;124m\"\u001b[39m \u001b[38;5;241m+\u001b[39m \u001b[38;5;28mstr\u001b[39m(CulturalSiteDataset\u001b[38;5;241m.\u001b[39mRESIZE_HEIGHT) \u001b[38;5;241m+\u001b[39m \u001b[38;5;124m\"\u001b[39m\u001b[38;5;124mx\u001b[39m\u001b[38;5;124m\"\u001b[39m \u001b[38;5;241m+\u001b[39m \u001b[38;5;28mstr\u001b[39m(CulturalSiteDataset\u001b[38;5;241m.\u001b[39mRESIZE_WIDTH) \u001b[38;5;241m+\u001b[39m \u001b[38;5;124m\"\u001b[39m\u001b[38;5;124m:\u001b[39m\u001b[38;5;124m\"\u001b[39m)\n\u001b[0;32m     72\u001b[0m prev_subplot\u001b[38;5;241m.\u001b[39mimshow(prev_image)\n",
      "\u001b[1;31mTypeError\u001b[0m: can only concatenate str (not \"int\") to str"
     ]
    },
    {
     "data": {
      "image/png": "[encoded data removed]",
      "text/plain": [
       "<Figure size 640x480 with 2 Axes>"
      ]
     },
     "metadata": {},
     "output_type": "display_data"
    }
   ],
   "source": [
    "dm.normalize_train()\n",
    "dm.normalize_val()"
   ]
  },
  {
   "cell_type": "markdown",
   "id": "7c7f500a",
   "metadata": {},
   "source": [
    "## Domain adaptation study cases"
   ]
  },
  {
   "cell_type": "markdown",
   "id": "c2dfb075",
   "metadata": {},
   "source": [
    "### 1. Baseline approaches without adaption\n",
    "Il primo caso di studio è quello di allenare il classificatore sul sintetico e poi testarlo nudo e crudo sul reale, valutare le performance"
   ]
  },
  {
   "cell_type": "markdown",
   "id": "c2dc1d39",
   "metadata": {},
   "source": [
    "#### Init Logger"
   ]
  },
  {
   "cell_type": "code",
   "execution_count": null,
   "id": "50aaefd8",
   "metadata": {},
   "outputs": [],
   "source": [
    "# per ora non utilizzato\n",
    "class ImagePredictionLogger(pl.callbacks.Callback):\n",
    "    def __init__(self, val_samples, num_samples=32):\n",
    "        super().__init__()\n",
    "        self.num_samples = num_samples\n",
    "        self.val_imgs, self.val_labels = val_samples\n",
    "    \n",
    "    def on_validation_epoch_end(self, trainer, pl_module):\n",
    "        # Bring the tensors to CPU\n",
    "        val_imgs = self.val_imgs.to(device=pl_module.device)\n",
    "        val_labels = self.val_labels.to(device=pl_module.device)\n",
    "        # Get model prediction\n",
    "        logits = pl_module(val_imgs)\n",
    "        preds = torch.argmax(logits, -1)\n",
    "        # Log the images as wandb Image\n",
    "        ''' trainer.logger.experiment.log({\n",
    "            \"examples\":[wandb.Image(x, caption=f\"Pred:{pred}, Label:{y}\") \n",
    "                           for x, pred, y in zip(val_imgs[:self.num_samples], \n",
    "                                                 preds[:self.num_samples], \n",
    "                                                 val_labels[:self.num_samples])]\n",
    "            }) '''\n",
    "        "
   ]
  },
  {
   "cell_type": "markdown",
   "id": "dbd53f0a",
   "metadata": {},
   "source": [
    "### Classification Module"
   ]
  },
  {
   "cell_type": "code",
   "execution_count": null,
   "id": "6d19868f",
   "metadata": {},
   "outputs": [],
   "source": [
    "class LitModel(pl.LightningModule):\n",
    "    def __init__(self, input_shape, num_classes, learning_rate=2e-4):\n",
    "        super().__init__()\n",
    "        \n",
    "        # log hyperparameters\n",
    "        self.save_hyperparameters()\n",
    "        self.learning_rate = learning_rate\n",
    "        \n",
    "        self.conv1 = nn.Conv2d(3, 32, 3, 1)\n",
    "        self.conv2 = nn.Conv2d(32, 32, 3, 1)\n",
    "        self.conv3 = nn.Conv2d(32, 64, 3, 1)\n",
    "        self.conv4 = nn.Conv2d(64, 64, 3, 1)\n",
    "\n",
    "        self.pool1 = torch.nn.MaxPool2d(2)\n",
    "        self.pool2 = torch.nn.MaxPool2d(2)\n",
    "        \n",
    "        n_sizes = self._get_conv_output(input_shape)\n",
    "\n",
    "        self.fc1 = nn.Linear(n_sizes, 512)\n",
    "        self.fc2 = nn.Linear(512, 128)\n",
    "        self.fc3 = nn.Linear(128, num_classes)\n",
    "\n",
    "        self.accuracy = Accuracy()\n",
    "\n",
    "    # returns the size of the output tensor going into Linear layer from the conv block.\n",
    "    def _get_conv_output(self, shape):\n",
    "        batch_size = 1\n",
    "        input = torch.autograd.Variable(torch.rand(batch_size, *shape))\n",
    "\n",
    "        output_feat = self._forward_features(input) \n",
    "        n_size = output_feat.data.view(batch_size, -1).size(1)\n",
    "        return n_size\n",
    "        \n",
    "    # returns the feature tensor from the conv block\n",
    "    def _forward_features(self, x):\n",
    "        x = F.relu(self.conv1(x))\n",
    "        x = self.pool1(F.relu(self.conv2(x)))\n",
    "        x = F.relu(self.conv3(x))\n",
    "        x = self.pool2(F.relu(self.conv4(x)))\n",
    "        return x\n",
    "    \n",
    "    # will be used during inference\n",
    "    def forward(self, x):\n",
    "       x = self._forward_features(x)\n",
    "       x = x.view(x.size(0), -1)\n",
    "       x = F.relu(self.fc1(x))\n",
    "       x = F.relu(self.fc2(x))\n",
    "       x = F.log_softmax(self.fc3(x), dim=1)\n",
    "       \n",
    "       return x\n",
    "    \n",
    "    def training_step(self, batch, batch_idx):\n",
    "        x, y = batch\n",
    "        logits = self(x)\n",
    "        loss = F.nll_loss(logits, y)\n",
    "        \n",
    "        # training metrics\n",
    "        preds = torch.argmax(logits, dim=1)\n",
    "        acc = self.accuracy(preds, y)\n",
    "        self.log('train_loss', loss, on_step=True, on_epoch=True, logger=True)\n",
    "        self.log('train_acc', acc, on_step=True, on_epoch=True, logger=True)\n",
    "        \n",
    "        return loss\n",
    "    \n",
    "    def validation_step(self, batch, batch_idx):\n",
    "        x, y = batch\n",
    "        logits = self(x)\n",
    "        loss = F.nll_loss(logits, y)\n",
    "\n",
    "        # validation metrics\n",
    "        preds = torch.argmax(logits, dim=1)\n",
    "        acc = self.accuracy(preds, y)\n",
    "        self.log('val_loss', loss, prog_bar=True)\n",
    "        self.log('val_acc', acc, prog_bar=True)\n",
    "        return loss\n",
    "    \n",
    "    def test_step(self, batch, batch_idx):\n",
    "        x, y = batch\n",
    "        logits = self(x)\n",
    "        loss = F.nll_loss(logits, y)\n",
    "        \n",
    "        # validation metrics\n",
    "        preds = torch.argmax(logits, dim=1)\n",
    "        acc = self.accuracy(preds, y)\n",
    "        self.log('test_loss', loss, prog_bar=True)\n",
    "        self.log('test_acc', acc, prog_bar=True)\n",
    "        return loss\n",
    "    \n",
    "    def configure_optimizers(self):\n",
    "        optimizer = torch.optim.Adam(self.parameters(), lr=self.learning_rate)\n",
    "        return optimizer\n"
   ]
  },
  {
   "cell_type": "markdown",
   "id": "2ddec19c",
   "metadata": {},
   "source": [
    "### Preparing DataModule"
   ]
  },
  {
   "cell_type": "code",
   "execution_count": 9,
   "id": "529545bd",
   "metadata": {},
   "outputs": [
    {
     "ename": "TypeError",
     "evalue": "__init__() missing 1 required positional argument: 'dataset_folder'",
     "output_type": "error",
     "traceback": [
      "\u001b[0;31m---------------------------------------------------------------------------\u001b[0m",
      "\u001b[0;31mTypeError\u001b[0m                                 Traceback (most recent call last)",
      "\u001b[1;32m/Users/danilosantitto/develop/deep-learning-project/domain_adapt_notebook.ipynb Cella 24\u001b[0m in \u001b[0;36m<cell line: 3>\u001b[0;34m()\u001b[0m\n\u001b[1;32m      <a href='vscode-notebook-cell:/Users/danilosantitto/develop/deep-learning-project/domain_adapt_notebook.ipynb#X32sZmlsZQ%3D%3D?line=0'>1</a>\u001b[0m dm \u001b[39m=\u001b[39m CulturalSiteDataModule(batch_size\u001b[39m=\u001b[39m\u001b[39m32\u001b[39m, num_classes\u001b[39m=\u001b[39m\u001b[39m16\u001b[39m) \u001b[39m# todo: istanziare CulturalSiteDataset, preparare i dati\u001b[39;00m\n\u001b[1;32m      <a href='vscode-notebook-cell:/Users/danilosantitto/develop/deep-learning-project/domain_adapt_notebook.ipynb#X32sZmlsZQ%3D%3D?line=1'>2</a>\u001b[0m \u001b[39m# To access the x_dataloader we need to call prepare_data and setup.\u001b[39;00m\n\u001b[0;32m----> <a href='vscode-notebook-cell:/Users/danilosantitto/develop/deep-learning-project/domain_adapt_notebook.ipynb#X32sZmlsZQ%3D%3D?line=2'>3</a>\u001b[0m dm\u001b[39m.\u001b[39;49mprepare_data()\n\u001b[1;32m      <a href='vscode-notebook-cell:/Users/danilosantitto/develop/deep-learning-project/domain_adapt_notebook.ipynb#X32sZmlsZQ%3D%3D?line=3'>4</a>\u001b[0m dm\u001b[39m.\u001b[39msetup()\n",
      "\u001b[1;32m/Users/danilosantitto/develop/deep-learning-project/domain_adapt_notebook.ipynb Cella 24\u001b[0m in \u001b[0;36mCulturalSiteDataModule.prepare_data\u001b[0;34m(self)\u001b[0m\n\u001b[1;32m     <a href='vscode-notebook-cell:/Users/danilosantitto/develop/deep-learning-project/domain_adapt_notebook.ipynb#X32sZmlsZQ%3D%3D?line=11'>12</a>\u001b[0m \u001b[39mdef\u001b[39;00m \u001b[39mprepare_data\u001b[39m(\u001b[39mself\u001b[39m):\n\u001b[1;32m     <a href='vscode-notebook-cell:/Users/danilosantitto/develop/deep-learning-project/domain_adapt_notebook.ipynb#X32sZmlsZQ%3D%3D?line=12'>13</a>\u001b[0m     CulturalSiteDatasetsLoader(\u001b[39m\"\u001b[39m\u001b[39mhttps://iplab.dmi.unict.it/EGO-CH-OBJ-ADAPT/EGO-CH-OBJ-ADAPT.zip\u001b[39m\u001b[39m\"\u001b[39m) \u001b[39m# todo: rimuovere hardcode\u001b[39;00m\n\u001b[0;32m---> <a href='vscode-notebook-cell:/Users/danilosantitto/develop/deep-learning-project/domain_adapt_notebook.ipynb#X32sZmlsZQ%3D%3D?line=13'>14</a>\u001b[0m     CulturalSiteDataset()\n",
      "\u001b[0;31mTypeError\u001b[0m: __init__() missing 1 required positional argument: 'dataset_folder'"
     ]
    }
   ],
   "source": [
    "dm = CulturalSiteDataModule(batch_size=32, dataset_type=CulturalSiteDataModule.SYNTHETIC_DATASET, num_classes=16) # todo: istanziare CulturalSiteDataset, preparare i dati\n",
    "# To access the x_dataloader we need to call prepare_data and setup.\n",
    "dm.prepare_data()\n",
    "dm.setup(CulturalSiteDataModule.FIT_STAGE)\n",
    "\n",
    "# # Samples required by the custom ImagePredictionLogger callback to log image predictions.\n",
    "# val_samples = next(iter(dm.val_dataloader()))\n",
    "# val_imgs, val_labels = val_samples[0], val_samples[1]\n",
    "# print(val_imgs, val_labels)"
   ]
  },
  {
   "cell_type": "markdown",
   "id": "b9faef35",
   "metadata": {},
   "source": [
    "### Model Training"
   ]
  },
  {
   "cell_type": "code",
   "execution_count": null,
   "id": "6b8dd919",
   "metadata": {},
   "outputs": [],
   "source": [
    "model = LitModel((3, 32, 32), dm.num_classes)\n",
    "\n",
    "# todo: inizializzare il logger, utilizzeremo tensorboard come anno scorso\n",
    "# Initialize wandb logger\n",
    "# wandb_logger = WandbLogger(project='wandb-lightning', job_type='train')\n",
    "\n",
    "# Initialize Callbacks\n",
    "early_stop_callback = pl.callbacks.EarlyStopping(monitor=\"val_loss\")\n",
    "checkpoint_callback = pl.callbacks.ModelCheckpoint()\n",
    "\n",
    "# Initialize a trainer\n",
    "# todo: vedere se possibile riconoscere automaticamente il device\n",
    "trainer = pl.Trainer(max_epochs=10,\n",
    "                     accelerator=\"gpu\", #'mps' to use apple silicon graphics unit, 'gpu' for nvidia or amd \n",
    "                     devices=1,\n",
    "                     # logger=wandb_logger,\n",
    "                     callbacks=[early_stop_callback,\n",
    "                                #ImagePredictionLogger(val_samples),\n",
    "                                checkpoint_callback],\n",
    "                     )\n",
    "\n",
    "# Train the model ⚡🚅⚡\n",
    "trainer.fit(model, dm)\n",
    "\n",
    "# Evaluate the model on the held-out test set ⚡⚡\n",
    "trainer.test(dataloaders=dm.test_dataloader())\n",
    "\n",
    "# Close wandb run\n",
    "# wandb.finish()"
   ]
  },
  {
   "cell_type": "code",
   "execution_count": null,
   "id": "ca146b19",
   "metadata": {},
   "outputs": [],
   "source": [
    "%reload_ext tensorboard\n",
    "%tensorboard --logdir=lightning_logs/"
   ]
  }
 ],
 "metadata": {
  "kernelspec": {
   "display_name": "Python 3.10.6 64-bit (windows store)",
   "language": "python",
   "name": "python3"
  },
  "language_info": {
   "codemirror_mode": {
    "name": "ipython",
    "version": 3
   },
   "file_extension": ".py",
   "mimetype": "text/x-python",
   "name": "python",
   "nbconvert_exporter": "python",
   "pygments_lexer": "ipython3",
   "version": "3.10.7"
  },
  "vscode": {
   "interpreter": {
    "hash": "64f5837e16e2c9074d8bf8acfd45df7ca64748c9ff033f1607453426c7868d4d"
   }
  }
 },
 "nbformat": 4,
 "nbformat_minor": 5
}

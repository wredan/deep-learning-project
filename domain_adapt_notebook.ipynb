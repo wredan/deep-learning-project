{
 "cells": [
  {
   "cell_type": "markdown",
   "id": "094ab084",
   "metadata": {},
   "source": [
    "# Domain adaptation analysis"
   ]
  },
  {
   "cell_type": "markdown",
   "id": "cbacee94",
   "metadata": {},
   "source": [
    "The following notebook shows a study of the classification problem of images belonging to different domains, known as domain adaptation, and the different cases with respect to the problem shown at the following link: [EGO-CH-OBJ-ADAPT](https://iplab.dmi.unict.it/EGO-CH-OBJ-ADAPT/). The proposed problem considers the case of object detection while this notebook aims to study the same problem from the point of view of image classification."
   ]
  },
  {
   "cell_type": "markdown",
   "id": "5e8c487c",
   "metadata": {},
   "source": [
    "## Initial settings"
   ]
  },
  {
   "cell_type": "markdown",
   "id": "61b79da6",
   "metadata": {},
   "source": [
    "#### Dependencies"
   ]
  },
  {
   "cell_type": "code",
   "execution_count": null,
   "id": "36870725",
   "metadata": {},
   "outputs": [],
   "source": [
    "%pip install --user -qr ./requirements.txt"
   ]
  },
  {
   "cell_type": "markdown",
   "id": "0e92c0f3",
   "metadata": {},
   "source": [
    "#### Imports"
   ]
  },
  {
   "cell_type": "code",
   "execution_count": 1,
   "id": "fe092eee",
   "metadata": {},
   "outputs": [],
   "source": [
    "import torch\n",
    "from torch import nn\n",
    "import pytorch_lightning as pl\n",
    "from pytorch_lightning.loggers import TensorBoardLogger\n",
    "\n",
    "import torchmetrics\n",
    "import torchvision\n",
    "from torchvision import transforms\n",
    "import torchvision.models as models\n",
    "\n",
    "from matplotlib import pyplot as plt\n",
    "\n",
    "import os\n",
    "import numpy as np\n",
    "\n",
    "from scripts.dataset.data_module import CulturalSiteDataModule\n",
    "from scripts.models.custom_resnet_model import CustomResNetModule"
   ]
  },
  {
   "cell_type": "markdown",
   "id": "56235794",
   "metadata": {},
   "source": [
    "#### Globals"
   ]
  },
  {
   "cell_type": "code",
   "execution_count": null,
   "id": "369217fa",
   "metadata": {},
   "outputs": [],
   "source": [
    "system_accelerator='gpu' #'mps' to use apple silicon graphics unit, 'gpu' for nvidia or amd\n",
    "global_resnet_model=models.resnet18(pretrained=False)\n",
    "global_resnet_model_name='resnet18'\n",
    "global_log_dir='Official_Training'\n",
    "logger=\"\""
   ]
  },
  {
   "attachments": {},
   "cell_type": "markdown",
   "id": "a9d89545",
   "metadata": {},
   "source": [
    "#### Utils"
   ]
  },
  {
   "cell_type": "code",
   "execution_count": null,
   "id": "2a7a81a5",
   "metadata": {},
   "outputs": [],
   "source": [
    "#IMPORTANT: used just to notify when the training is over\n",
    "from scripts.utils.telegram_notifier import TelegramNotifier\n",
    "\n",
    "TelegramNotifier().sendMessage(logger) # logger from training cell"
   ]
  },
  {
   "cell_type": "markdown",
   "id": "bb320483",
   "metadata": {},
   "source": [
    "## Models and Tasks examined"
   ]
  },
  {
   "attachments": {},
   "cell_type": "markdown",
   "id": "6261f114",
   "metadata": {},
   "source": [
    "To begin with, we chose to analyse the ResNet model, of which the most popular model is considered to be ResNet50. \n",
    "It was chosen to consider the analysis of Resnet50 and ResNet18 in order to compare their results to the proposed task.\n",
    "\n",
    "A LightningModule called ResNetModule was constructed, which allows the two models to be used via Pytorch Lightning. \n",
    "To perform analysis with different ResNet models, you should set the variable `global_resnet_model` in the cell above."
   ]
  },
  {
   "cell_type": "code",
   "execution_count": null,
   "id": "6d2f962c",
   "metadata": {},
   "outputs": [],
   "source": [
    "from torch import nn\n",
    "import torchmetrics\n",
    "import torch\n",
    "import pytorch_lightning as pl\n",
    "import numpy as np\n",
    "class CustomResNetModule(pl.LightningModule):\n",
    "    def __init__(self, resnet_model, num_classes, lr=1e-3):\n",
    "        super(CustomResNetModule, self).__init__()\n",
    "        self.save_hyperparameters(ignore=['resnet_model'])\n",
    "\n",
    "        self.in_features = resnet_model.fc.in_features\n",
    "\n",
    "        # pop fully connected layer\n",
    "        resnet_model._modules.pop(list(resnet_model._modules.keys())[-1])\n",
    "\n",
    "        # feature extractor from resnet\n",
    "        self.feature_extractor = nn.Sequential(resnet_model._modules)\n",
    "\n",
    "        # classifier from resnet\n",
    "        self.classifier = nn.Sequential(\n",
    "            nn.Linear(self.in_features, 512),\n",
    "            nn.Dropout(0.5),\n",
    "            nn.Linear(512, self.hparams.num_classes)\n",
    "        )\n",
    "        \n",
    "        self.loss_fn = nn.CrossEntropyLoss()\n",
    "        \n",
    "        self.train_acc = torchmetrics.Accuracy()\n",
    "        self.val_acc = torchmetrics.Accuracy()\n",
    "        self.test_acc = torchmetrics.Accuracy()\n",
    "\n",
    "    def forward(self, x):\n",
    "        # features extraction and reshaping to 1-dim array\n",
    "        features = self.feature_extractor(x).view(x.shape[0], -1)\n",
    "        return self.classifier(features)\n",
    "\n",
    "    def configure_optimizers(self):\n",
    "        optimizer = torch.optim.Adam(self.parameters(), lr=self.hparams.lr)\n",
    "        scheduler = torch.optim.lr_scheduler.StepLR(optimizer, step_size=2)\n",
    "        return [optimizer], [scheduler]\n",
    "\n",
    "    def training_step(self, batch, batch_idx):        \n",
    "        x, y = batch        \n",
    "        preds = self.forward(x)        \n",
    "        loss = self.loss_fn(preds, y)\n",
    "        self.train_acc(torch.argmax(preds, dim=1), y)\n",
    "        \n",
    "        self.log('training/loss', loss.item(), on_epoch=True)\n",
    "        self.log('training/accuracy', self.train_acc, on_epoch=True)\n",
    "        \n",
    "        return loss\n",
    "    \n",
    "    def validation_step(self, batch, batch_idx):        \n",
    "        x,y = batch        \n",
    "        preds = self.forward(x)        \n",
    "        loss = self.loss_fn(preds, y)\n",
    "        self.val_acc(torch.argmax(preds, dim=1), y)\n",
    "        \n",
    "        self.log('validation/loss', loss.item(), on_epoch=True)\n",
    "        self.log('validation/accuracy', self.val_acc, on_epoch=True)\n",
    "        \n",
    "    def test_step(self, batch, batch_idx):        \n",
    "        x,y = batch\n",
    "        preds = self.forward(x)\n",
    "\n",
    "        self.test_acc(torch.argmax(preds, dim=1), y)        \n",
    "        self.log('test/accuracy', self.test_acc, on_epoch=True)"
   ]
  },
  {
   "cell_type": "markdown",
   "id": "badb5eff",
   "metadata": {},
   "source": [
    "## Dataset preanalysis"
   ]
  },
  {
   "cell_type": "markdown",
   "id": "b7742fd8",
   "metadata": {},
   "source": [
    "The cell below setup the dataset. It downloads, unpacks, and extracts patches from the original dataset. It may take a while on the first execution, then it will recognize the datasets and loads them taking a relatively short time."
   ]
  },
  {
   "cell_type": "code",
   "execution_count": null,
   "id": "6092cdfb",
   "metadata": {},
   "outputs": [],
   "source": [
    "# REQUIRED the first execution\n",
    "dm = CulturalSiteDataModule(\n",
    "    batch_size=32, \n",
    "    dataset_type=CulturalSiteDataModule.SYNTHETIC_DATASET, \n",
    "    num_classes=16, \n",
    "    num_workers=6)\n",
    "\n",
    "dm.prepare_data()\n",
    "dm.setup(CulturalSiteDataModule.ALL_STAGE)"
   ]
  },
  {
   "cell_type": "code",
   "execution_count": 9,
   "id": "174eb847",
   "metadata": {},
   "outputs": [
    {
     "data": {
      "image/png": "[encoded data removed]",
      "text/plain": [
       "<Figure size 1584x432 with 3 Axes>"
      ]
     },
     "metadata": {
      "needs_background": "light"
     },
     "output_type": "display_data"
    }
   ],
   "source": [
    "fig, (train_subplot, val_subplot, test_subplot) = plt.subplots(1, 3)\n",
    "dm.train_preanalysis(train_subplot, 'Train')\n",
    "dm.val_preanalysis(val_subplot, 'Validation')\n",
    "dm.test_preanalysis(test_subplot, 'Test')\n",
    "fig.set_size_inches(22, 6)\n",
    "plt.show()"
   ]
  },
  {
   "cell_type": "markdown",
   "id": "fbf6535e",
   "metadata": {},
   "source": [
    "## 1. Filtering study case"
   ]
  },
  {
   "cell_type": "markdown",
   "id": "f80f4c03",
   "metadata": {},
   "source": [
    "Some patches extracted from the original dataset consist of a set of pixels that do not reflect the represented image. So we decided to analyze:\n",
    "\n",
    "1) Training performed on the unfiltered dataset\n",
    "2) Training performed on the filtered dataset (patches with less than a theshold of pixels per side are removed)"
   ]
  },
  {
   "cell_type": "markdown",
   "id": "beb4122f",
   "metadata": {},
   "source": [
    "### Case 1.1: Training performed on the unfiltered dataset"
   ]
  },
  {
   "cell_type": "markdown",
   "id": "70777506",
   "metadata": {},
   "source": [
    "#### 1.1.1 Import Dataset"
   ]
  },
  {
   "cell_type": "code",
   "execution_count": null,
   "id": "1d56b788",
   "metadata": {},
   "outputs": [],
   "source": [
    "dm = CulturalSiteDataModule(\n",
    "    batch_size=32, \n",
    "    dataset_type=CulturalSiteDataModule.SYNTHETIC_DATASET, \n",
    "    num_classes=16, \n",
    "    num_workers=6)\n",
    "\n",
    "dm.prepare_data()\n",
    "dm.setup(CulturalSiteDataModule.ALL_STAGE)"
   ]
  },
  {
   "cell_type": "markdown",
   "id": "838cdb70",
   "metadata": {},
   "source": [
    "#### 1.1.2 Transform pipeline"
   ]
  },
  {
   "cell_type": "markdown",
   "id": "37b2ab7f",
   "metadata": {},
   "source": [
    "Mean and standard deviation for normalization:"
   ]
  },
  {
   "cell_type": "code",
   "execution_count": 6,
   "id": "7ab20462",
   "metadata": {},
   "outputs": [
    {
     "name": "stdout",
     "output_type": "stream",
     "text": [
      "Mean: [0.27882981 0.28949824 0.31447853]\n",
      "Std: [0.16738273 0.1728493  0.17549583]\n"
     ]
    }
   ],
   "source": [
    "# OPTIONAL: does not need to be executed\n",
    "mean, std = dm.calculate_train_mean_and_std(resize_min_size=256)\n",
    "print(\"Mean: \" + str(mean))\n",
    "print(\"Std: \" + str(std))"
   ]
  },
  {
   "cell_type": "code",
   "execution_count": 7,
   "id": "86405015",
   "metadata": {},
   "outputs": [],
   "source": [
    "mean=(0.27882981, 0.28949824, 0.31447853)\n",
    "std=(0.16738273, 0.1728493, 0.17549583)\n",
    "train_transform = transforms.Compose([\n",
    "    transforms.Resize(256, transforms.InterpolationMode.BICUBIC),\n",
    "    transforms.RandomCrop(224),\n",
    "    transforms.RandomHorizontalFlip(),\n",
    "    transforms.ToTensor(),\n",
    "    transforms.Normalize(mean=mean, std=std)\n",
    "])\n",
    "\n",
    "val_and_test_transform = transforms.Compose([\n",
    "    transforms.Resize(256, transforms.InterpolationMode.BICUBIC),\n",
    "    transforms.CenterCrop(224),             # CenterCrop instead of RandomCrop to make the test deterministic\n",
    "    transforms.RandomHorizontalFlip(),\n",
    "    transforms.ToTensor(),\n",
    "    transforms.Normalize(mean=mean, std=std)\n",
    "])\n",
    "\n",
    "dm.set_train_trasform(train_transform)\n",
    "dm.set_val_trasform(val_and_test_transform)\n",
    "dm.set_test_trasform(val_and_test_transform)"
   ]
  },
  {
   "cell_type": "markdown",
   "id": "bc37f40c",
   "metadata": {},
   "source": [
    "#### 1.1.3 Training (no filter)"
   ]
  },
  {
   "cell_type": "code",
   "execution_count": null,
   "id": "bcb07981",
   "metadata": {},
   "outputs": [],
   "source": [
    "lr=1e-4\n",
    "model = CustomResNetModule(resnet_model=global_resnet_model, num_classes=16, lr=lr)\n",
    "\n",
    "# Initialize logger\n",
    "logger = TensorBoardLogger(\n",
    "    save_dir=os.path.join(\"tb_logs\", global_log_dir), \n",
    "    name=\"no_filter_train\", \n",
    "    version=global_resnet_model_name + \"_lr_\" + str(lr))\n",
    "\n",
    "# Initialize Callbacks\n",
    "val_checkpoint_callback = pl.callbacks.ModelCheckpoint(\n",
    "    filename=\"{epoch}-{step}-{validation/loss:.1f}\",\n",
    "    monitor=\"validation/loss\",\n",
    "    mode=\"min\",\n",
    "    save_top_k=1,\n",
    "    auto_insert_metric_name=False \n",
    ")\n",
    "latest_checkpoint_callback = pl.callbacks.ModelCheckpoint(\n",
    "    filename=\"latest-{epoch}-{step}\",\n",
    "    monitor=\"step\",\n",
    "    mode=\"max\",\n",
    "    every_n_train_steps=500,\n",
    "    save_top_k=1       # save just the top\n",
    ")\n",
    "\n",
    "# Initialize a trainer\n",
    "trainer = pl.Trainer(max_epochs=-1,     # -1 manually stop\n",
    "                     accelerator=system_accelerator,\n",
    "                     devices=1,\n",
    "                     logger=logger,\n",
    "                     callbacks=[val_checkpoint_callback,\n",
    "                                latest_checkpoint_callback],\n",
    "                     )\n",
    "\n",
    "# Train the model \n",
    "trainer.fit(model, dm)\n",
    "\n",
    "# resume checkpoints\n",
    "# trainer.fit(model, dm, ckpt_path=os.path.join(os.getcwd(), \"tb_logs\", \"no_filter_train\", \"ResNet_0_lr_1e-3_m_0\", \"checkpoints\" , \"epoch=9-step=9390.ckpt\"))"
   ]
  },
  {
   "cell_type": "code",
   "execution_count": null,
   "id": "81acafc8",
   "metadata": {},
   "outputs": [],
   "source": [
    "# Evaluate the model on the held-out test set \n",
    "trainer = pl.Trainer(accelerator=system_accelerator)\n",
    "model = CustomResNetModule(resnet_model=global_resnet_model, num_classes=16)\n",
    "trainer.test(\n",
    "    model=model,\n",
    "    dataloaders=dm.test_dataloader(), \n",
    "    ckpt_path=os.path.join(os.getcwd(), \"tb_logs\", \"no_filter_train\", \"ResNet_1_lr_1e-3_m_0\", \"checkpoints\" , \"epoch=14-step=16335-val_loss=0.2.ckpt\"))"
   ]
  },
  {
   "attachments": {},
   "cell_type": "markdown",
   "id": "2b77a108",
   "metadata": {},
   "source": [
    "#### 1.1.4 Result"
   ]
  },
  {
   "attachments": {},
   "cell_type": "markdown",
   "id": "e5a013bf",
   "metadata": {},
   "source": [
    "![ResNet Not Filtered Case](./docs/resnet_not_filtered_case.jpg)"
   ]
  },
  {
   "attachments": {},
   "cell_type": "markdown",
   "id": "cb962fae",
   "metadata": {},
   "source": [
    "|   Model  | Learning Rate | Accuracy   | Epochs |\n",
    "|:--------:|:-------------:|:----------:|:------:|\n",
    "| ResNet18 |   1e-3        |   94.46%   |   30   |\n",
    "| ResNet18 |   1e-4        |   95.03%   |   50   |\n",
    "| ResNet18 |   1e-5        |   91.78%   |   30   |\n",
    "| ResNet50 |   1e-3        |   93.40%   |   30   |\n",
    "| ResNet50 |   1e-4        |   94.95%   |   50   |\n",
    "| ResNet50 |   1e-5        |   89.77%   |   30   |"
   ]
  },
  {
   "cell_type": "markdown",
   "id": "56f40825",
   "metadata": {},
   "source": [
    "### Case 1.2: Training performed on the filtered dataset\n",
    "<a id='filter_case_2'></a>"
   ]
  },
  {
   "cell_type": "markdown",
   "id": "9bccdb89",
   "metadata": {},
   "source": [
    "Some patches extracted from the original dataset consist of a set of pixels that do not reflect the represented image. So we decided to analyze and apply a filter to cut them out."
   ]
  },
  {
   "cell_type": "markdown",
   "id": "70777506",
   "metadata": {},
   "source": [
    "#### 1.2.1 Import Dataset"
   ]
  },
  {
   "cell_type": "code",
   "execution_count": null,
   "id": "1d56b788",
   "metadata": {},
   "outputs": [],
   "source": [
    "dm = CulturalSiteDataModule(\n",
    "    batch_size=32, \n",
    "    dataset_type=CulturalSiteDataModule.SYNTHETIC_DATASET, \n",
    "    num_classes=16, \n",
    "    num_workers=6)\n",
    "\n",
    "dm.prepare_data()\n",
    "dm.setup(CulturalSiteDataModule.ALL_STAGE)"
   ]
  },
  {
   "cell_type": "markdown",
   "id": "70777506",
   "metadata": {},
   "source": [
    "#### 1.2.2 Applying filter"
   ]
  },
  {
   "cell_type": "code",
   "execution_count": 4,
   "id": "959a5c8d",
   "metadata": {},
   "outputs": [
    {
     "data": {
      "image/png": "[encoded data removed]",
      "text/plain": [
       "<Figure size 864x360 with 2 Axes>"
      ]
     },
     "metadata": {
      "needs_background": "light"
     },
     "output_type": "display_data"
    },
    {
     "data": {
      "image/png": "[encoded data removed]",
      "text/plain": [
       "<Figure size 864x360 with 2 Axes>"
      ]
     },
     "metadata": {
      "needs_background": "light"
     },
     "output_type": "display_data"
    },
    {
     "data": {
      "image/png": "[encoded data removed]",
      "text/plain": [
       "<Figure size 864x360 with 2 Axes>"
      ]
     },
     "metadata": {
      "needs_background": "light"
     },
     "output_type": "display_data"
    }
   ],
   "source": [
    "pixel_threshold = 30\n",
    "train_fig, (train_prev_subplot, train_post_subplot) = plt.subplots(1, 2)\n",
    "dm.train_preanalysis(train_prev_subplot, 'Before Filtering')\n",
    "dm.filter_train(pixel_threshold)\n",
    "dm.train_preanalysis(train_post_subplot, 'After Filtering')\n",
    "train_fig.set_size_inches(12, 5)\n",
    "train_fig.suptitle('Train')\n",
    "\n",
    "val_fig, (val_prev_subplot, val_post_subplot) = plt.subplots(1, 2)\n",
    "dm.val_preanalysis(val_prev_subplot, 'Before Filtering')\n",
    "dm.filter_val(pixel_threshold)\n",
    "dm.val_preanalysis(val_post_subplot, 'After Filtering')\n",
    "val_fig.set_size_inches(12, 5)\n",
    "val_fig.suptitle('Validation')\n",
    "\n",
    "test_fig, (test_prev_subplot, test_post_subplot) = plt.subplots(1, 2)\n",
    "dm.test_preanalysis(test_prev_subplot, 'Before Filtering')\n",
    "dm.filter_test(pixel_threshold)\n",
    "dm.test_preanalysis(test_post_subplot, 'After Filtering')\n",
    "test_fig.set_size_inches(12, 5)\n",
    "test_fig.suptitle('Test')\n",
    "plt.show()"
   ]
  },
  {
   "cell_type": "markdown",
   "id": "838cdb70",
   "metadata": {},
   "source": [
    "#### 1.2.3 Transform pipeline"
   ]
  },
  {
   "cell_type": "markdown",
   "id": "2088a584",
   "metadata": {},
   "source": [
    "Mean and standard deviation for normalization:"
   ]
  },
  {
   "cell_type": "code",
   "execution_count": 7,
   "id": "86405015",
   "metadata": {},
   "outputs": [
    {
     "name": "stdout",
     "output_type": "stream",
     "text": [
      "Mean: [0.28162546 0.29239721 0.31711673]\n",
      "Std: [0.17125229 0.17715992 0.18002949]\n"
     ]
    }
   ],
   "source": [
    "# OPTIONAL: does not need to be executed\n",
    "mean, std = dm.calculate_train_mean_and_std(resize_min_size=256)\n",
    "print(\"Mean: \" + str(mean))\n",
    "print(\"Std: \" + str(std))"
   ]
  },
  {
   "cell_type": "code",
   "execution_count": 6,
   "id": "91cb0685",
   "metadata": {},
   "outputs": [],
   "source": [
    "mean=(0.28162546, 0.29239721, 0.31711673)\n",
    "std=(0.17125229, 0.17715992, 0.18002949)\n",
    "train_transform = transforms.Compose([\n",
    "    transforms.Resize(256, transforms.InterpolationMode.BICUBIC),\n",
    "    transforms.RandomCrop(224),\n",
    "    transforms.RandomHorizontalFlip(),\n",
    "    transforms.ToTensor(),\n",
    "    transforms.Normalize(mean=mean, std=std)\n",
    "])\n",
    "\n",
    "val_and_test_transform = transforms.Compose([\n",
    "    transforms.Resize(256, transforms.InterpolationMode.BICUBIC),\n",
    "    transforms.CenterCrop(224),             # CenterCrop instead of RandomCrop to make the test deterministic\n",
    "    transforms.RandomHorizontalFlip(),\n",
    "    transforms.ToTensor(),\n",
    "    transforms.Normalize(mean=mean, std=std)\n",
    "])\n",
    "\n",
    "dm.set_train_trasform(train_transform)\n",
    "dm.set_val_trasform(val_and_test_transform)\n",
    "dm.set_test_trasform(val_and_test_transform)"
   ]
  },
  {
   "cell_type": "markdown",
   "id": "87880967",
   "metadata": {},
   "source": [
    "#### 1.2.4 Training (filtered dataset)"
   ]
  },
  {
   "cell_type": "code",
   "execution_count": null,
   "id": "940c9048",
   "metadata": {},
   "outputs": [],
   "source": [
    "lr=2e-4\n",
    "model = CustomResNetModule(resnet_model=global_resnet_model, num_classes=16, lr=lr)\n",
    "\n",
    "# Initialize logger\n",
    "logger = TensorBoardLogger(\n",
    "    save_dir=os.path.join(\"tb_logs\", global_log_dir), \n",
    "    name=\"filtered_train\", \n",
    "    version=global_resnet_model_name + \"_lr_\" + str(lr))\n",
    "\n",
    "val_checkpoint_callback = pl.callbacks.ModelCheckpoint(\n",
    "    filename=\"{epoch}-{step}-{validation/loss:.1f}\",\n",
    "    monitor=\"validation/loss\",\n",
    "    mode=\"min\",\n",
    "    save_top_k=1,\n",
    "    auto_insert_metric_name=False\n",
    ")\n",
    "latest_checkpoint_callback = pl.callbacks.ModelCheckpoint(\n",
    "    filename=\"latest-{epoch}-{step}\",\n",
    "    monitor=\"step\",\n",
    "    mode=\"max\",\n",
    "    every_n_train_steps=500,\n",
    "    save_top_k=1       # save just the top\n",
    ")\n",
    "\n",
    "# Initialize a trainer\n",
    "trainer = pl.Trainer(max_epochs=50,\n",
    "                     accelerator=system_accelerator,\n",
    "                     devices=1,\n",
    "                     logger=logger,\n",
    "                     callbacks=[val_checkpoint_callback,\n",
    "                                latest_checkpoint_callback],\n",
    "                     )\n",
    "\n",
    "# Train the model \n",
    "trainer.fit(model, dm)\n",
    "\n",
    "# resume checkpoints\n",
    "# trainer.fit(model, dm, ckpt_path=os.path.join(os.getcwd(), \"tb_logs\", \"Official_Training\", \"filtered_train\", \"resnet18_lr_0.0001\", \"checkpoints\" , \"latest-epoch=29-step=28000.ckpt\"))"
   ]
  },
  {
   "cell_type": "code",
   "execution_count": null,
   "id": "2e2da86d",
   "metadata": {},
   "outputs": [],
   "source": [
    "# Evaluate the model on the held-out test set \n",
    "lr=2e-4\n",
    "logger = TensorBoardLogger(\n",
    "    save_dir=os.path.join(\"tb_logs\", global_log_dir), \n",
    "    name=\"filtered_train\", \n",
    "    version=global_resnet_model_name + \"_lr_\" + str(lr) + \"_test\")\n",
    "trainer = pl.Trainer(accelerator=system_accelerator, devices=1, logger=logger)\n",
    "model = CustomResNetModule(resnet_model=global_resnet_model, num_classes=16)\n",
    "trainer.test(\n",
    "    model=model,\n",
    "    dataloaders=dm.test_dataloader(), \n",
    "    ckpt_path=os.path.join(os.getcwd(), \"tb_logs\", \"Official_Training\", \"filtered_train\", \"resnet18_lr_0.0002\", \"checkpoints\" , \"11-11268-0.1.ckpt\"))"
   ]
  },
  {
   "cell_type": "markdown",
   "id": "2b77a108",
   "metadata": {},
   "source": [
    "#### 1.2.5 Result"
   ]
  },
  {
   "attachments": {},
   "cell_type": "markdown",
   "id": "5e02620f",
   "metadata": {},
   "source": [
    "![ResNet Filtered Case](./docs/resnet_filtered_case.jpg)\n",
    "\n",
    "The optimal learning rate with the evaluated models is 1e-4. \n",
    "ResNet18 (purple) performs slightly better during training than ResNet50 (blue) on the given task. The values of the metrics examined for the best case validation/lowest loss are shown in the following table:"
   ]
  },
  {
   "attachments": {},
   "cell_type": "markdown",
   "id": "1e3f7863",
   "metadata": {},
   "source": [
    "So far, we have found that the filter improves both loss and accuracy of validation.\n",
    "\n",
    "\n",
    "|   Model  | Learning Rate | Accuracy   | Epochs |\n",
    "|:--------:|:-------------:|:----------:|:------:|\n",
    "| ResNet18 |   1e-3        |   97.10%   |   30   |\n",
    "| ResNet18 |   1e-4        |   98.00%   |   50   |\n",
    "| ResNet18 |   1e-5        |   95.03%   |   30   |\n",
    "| ResNet50 |   1e-3        |   97.10%   |   30   |\n",
    "| ResNet50 |   1e-4        |   97.70%   |   50   |\n",
    "| ResNet50 |   1e-5        |   93.34%   |   30   |\n",
    "\n",
    "\n",
    "In view of the results obtained, it was decided to use the filtered dataset from here onwards."
   ]
  },
  {
   "cell_type": "markdown",
   "id": "7c7f500a",
   "metadata": {},
   "source": [
    "## 2. Domain adaptation study cases"
   ]
  },
  {
   "cell_type": "markdown",
   "id": "c2dfb075",
   "metadata": {},
   "source": [
    "### 2.1 Baseline approaches without adaption\n",
    "The first case of study is to train the classifier on the synthetic dataset and then test it on the real dataset, then evaluate the performance."
   ]
  },
  {
   "cell_type": "markdown",
   "id": "b9faef35",
   "metadata": {},
   "source": [
    " ### Study Cases"
   ]
  },
  {
   "cell_type": "markdown",
   "id": "8ea3ece0",
   "metadata": {},
   "source": [
    "#### 2.1.1 The model is trained on synthetic images and tested on synthetic images (no domain shift)"
   ]
  },
  {
   "cell_type": "markdown",
   "id": "dc4e07f0",
   "metadata": {},
   "source": [
    "The training is the same as above. [Case 2 filtered](#filter_case_2) is taken as it returns the best results."
   ]
  },
  {
   "cell_type": "code",
   "execution_count": null,
   "id": "caf23cbd",
   "metadata": {},
   "outputs": [],
   "source": [
    "print(\"Dataset setup\")\n",
    "dm = CulturalSiteDataModule(\n",
    "    batch_size=32, \n",
    "    dataset_type=CulturalSiteDataModule.SYNTHETIC_DATASET, \n",
    "    num_classes=16, \n",
    "    num_workers=6)\n",
    "\n",
    "dm.prepare_data()\n",
    "dm.setup(CulturalSiteDataModule.TEST_STAGE)\n",
    "\n",
    "print(\"Dataset applying filter\")\n",
    "pixel_threshold = 30\n",
    "dm.filter_test(pixel_threshold)\n",
    "\n",
    "print(\"Dataset set transform\")\n",
    "val_and_test_transform = transforms.Compose([\n",
    "    transforms.Resize(256),\n",
    "    transforms.CenterCrop(224),\n",
    "    transforms.RandomHorizontalFlip(),\n",
    "    transforms.ToTensor(),\n",
    "    transforms.Normalize(mean=(0.28162546, 0.29239721, 0.31711673), std=(0.17125229, 0.17715992, 0.18002949))\n",
    "])\n",
    "dm.set_test_trasform(val_and_test_transform)\n"
   ]
  },
  {
   "cell_type": "code",
   "execution_count": null,
   "id": "6b8dd919",
   "metadata": {},
   "outputs": [],
   "source": [
    "trainer = pl.Trainer(accelerator=system_accelerator)\n",
    "model = CustomResNetModule(model=global_resnet_model, num_classes=16, lr=1e-4)\n",
    "trainer.test(\n",
    "    model=model,\n",
    "    dataloaders=dm.test_dataloader(), \n",
    "    ckpt_path=os.path.join(os.getcwd(), \"tb_logs\", \"filtered_train\", \"ResNet_0_lr_1e-4_m_0\", \"checkpoints\" , \"epoch=17-step=16902-val_loss=0.1.ckpt\"))"
   ]
  },
  {
   "cell_type": "markdown",
   "id": "2b77a108",
   "metadata": {},
   "source": [
    " #### 2.1.1.1 Result"
   ]
  },
  {
   "cell_type": "markdown",
   "id": "7b695b5c",
   "metadata": {},
   "source": [
    "Perfomance analysis are the same as above in [Case 2 filtered](#filter_case_2)."
   ]
  },
  {
   "cell_type": "markdown",
   "id": "83b0bec8",
   "metadata": {},
   "source": [
    "#### 2.1.2 The model is trained on synthetic images and tested on real images (no adaptation)"
   ]
  },
  {
   "cell_type": "code",
   "execution_count": null,
   "id": "9005ed7b",
   "metadata": {},
   "outputs": [],
   "source": [
    "print(\"Dataset setup\")\n",
    "dm = CulturalSiteDataModule(\n",
    "    batch_size=32, \n",
    "    dataset_type=CulturalSiteDataModule.REAL_DATASET, \n",
    "    num_classes=16, \n",
    "    num_workers=6)\n",
    "\n",
    "dm.prepare_data()\n",
    "dm.setup(CulturalSiteDataModule.TEST_STAGE)\n",
    "\n",
    "print(\"Dataset applying filter\")\n",
    "test_fig, (test_prev_subplot, test_post_subplot) = plt.subplots(1, 2)\n",
    "dm.test_preanalysis(test_prev_subplot, 'Before Filtering')\n",
    "dm.filter_test(pixel_threshold=30)\n",
    "dm.test_preanalysis(test_post_subplot, 'After Filtering')\n",
    "test_fig.set_size_inches(12, 5)\n",
    "test_fig.suptitle('Test')\n",
    "\n",
    "print(\"Dataset set transform\")\n",
    "val_and_test_transform = transforms.Compose([\n",
    "    transforms.Resize(256),\n",
    "    transforms.CenterCrop(224),\n",
    "    transforms.RandomHorizontalFlip(),\n",
    "    transforms.ToTensor(),\n",
    "    transforms.Normalize(mean=(0.28162546, 0.29239721, 0.31711673), std=(0.17125229, 0.17715992, 0.18002949))\n",
    "])\n",
    "\n",
    "dm.set_test_trasform(val_and_test_transform)\n",
    "plt.show()"
   ]
  },
  {
   "cell_type": "code",
   "execution_count": null,
   "id": "40e171db",
   "metadata": {},
   "outputs": [],
   "source": [
    "trainer = pl.Trainer(accelerator=system_accelerator)\n",
    "model = CustomResNetModule(model=global_resnet_model, num_classes=16, lr=1e-4)\n",
    "trainer.test(\n",
    "    model=model,\n",
    "    dataloaders=dm.test_dataloader(), \n",
    "    ckpt_path=os.path.join(os.getcwd(), \"tb_logs\", \"filtered_train\", \"ResNet_0_lr_1e-4_m_0\", \"checkpoints\" , \"epoch=17-step=16902-val_loss=0.1.ckpt\"))"
   ]
  },
  {
   "cell_type": "markdown",
   "id": "2b77a108",
   "metadata": {},
   "source": [
    " #### 2.1.2.1 Result"
   ]
  },
  {
   "attachments": {},
   "cell_type": "markdown",
   "id": "3ede4494",
   "metadata": {},
   "source": [
    "|   Model  | Learning Rate | Accuracy   | Epochs   |\n",
    "|:--------:|:-------------:|:----------:|:--------:|\n",
    "| ResNet18 |   1e-4        |   2.96%    |   50     |\n",
    "| ResNet50 |   1e-4        |   2.55%    |   50     |"
   ]
  },
  {
   "cell_type": "markdown",
   "id": "7ff01e58",
   "metadata": {},
   "source": [
    "#### 2.1.3 The model is trained on real images and tested on real images (Oracle)"
   ]
  },
  {
   "cell_type": "code",
   "execution_count": null,
   "id": "aa0f69cc",
   "metadata": {},
   "outputs": [],
   "source": [
    "dm = CulturalSiteDataModule(\n",
    "    batch_size=32, \n",
    "    dataset_type=CulturalSiteDataModule.REAL_DATASET, \n",
    "    num_classes=16, \n",
    "    num_workers=6)\n",
    "\n",
    "dm.prepare_data()\n",
    "dm.setup(CulturalSiteDataModule.ALL_STAGE)"
   ]
  },
  {
   "cell_type": "code",
   "execution_count": 4,
   "id": "2240c913",
   "metadata": {},
   "outputs": [
    {
     "data": {
      "image/png": "[encoded data removed]",
      "text/plain": [
       "<Figure size 864x360 with 2 Axes>"
      ]
     },
     "metadata": {
      "needs_background": "light"
     },
     "output_type": "display_data"
    },
    {
     "data": {
      "image/png": "[encoded data removed]",
      "text/plain": [
       "<Figure size 864x360 with 2 Axes>"
      ]
     },
     "metadata": {
      "needs_background": "light"
     },
     "output_type": "display_data"
    },
    {
     "data": {
      "image/png": "[encoded data removed]",
      "text/plain": [
       "<Figure size 864x360 with 2 Axes>"
      ]
     },
     "metadata": {
      "needs_background": "light"
     },
     "output_type": "display_data"
    }
   ],
   "source": [
    "pixel_threshold = 30\n",
    "train_fig, (train_prev_subplot, train_post_subplot) = plt.subplots(1, 2)\n",
    "dm.train_preanalysis(train_prev_subplot, 'Before Filtering')\n",
    "dm.filter_train(pixel_threshold)\n",
    "dm.train_preanalysis(train_post_subplot, 'After Filtering')\n",
    "train_fig.set_size_inches(12, 5)\n",
    "train_fig.suptitle('Train')\n",
    "\n",
    "val_fig, (val_prev_subplot, val_post_subplot) = plt.subplots(1, 2)\n",
    "dm.val_preanalysis(val_prev_subplot, 'Before Filtering')\n",
    "dm.filter_val(pixel_threshold)\n",
    "dm.val_preanalysis(val_post_subplot, 'After Filtering')\n",
    "val_fig.set_size_inches(12, 5)\n",
    "val_fig.suptitle('Validation')\n",
    "\n",
    "test_fig, (test_prev_subplot, test_post_subplot) = plt.subplots(1, 2)\n",
    "dm.test_preanalysis(test_prev_subplot, 'Before Filtering')\n",
    "dm.filter_test(pixel_threshold)\n",
    "dm.test_preanalysis(test_post_subplot, 'After Filtering')\n",
    "test_fig.set_size_inches(12, 5)\n",
    "test_fig.suptitle('Test')\n",
    "plt.show()"
   ]
  },
  {
   "cell_type": "code",
   "execution_count": 5,
   "id": "333bec09",
   "metadata": {},
   "outputs": [
    {
     "name": "stdout",
     "output_type": "stream",
     "text": [
      "Mean: [0.45401238 0.39960463 0.31759819]\n",
      "Std: [0.26222476 0.25603036 0.25329951]\n"
     ]
    }
   ],
   "source": [
    "# OPTIONAL: does not need to be executed\n",
    "mean, std = dm.calculate_train_mean_and_std(resize_min_size=256)\n",
    "print(\"Mean: \" + str(mean))\n",
    "print(\"Std: \" + str(std))"
   ]
  },
  {
   "cell_type": "code",
   "execution_count": 5,
   "id": "1b6ca2b6",
   "metadata": {},
   "outputs": [],
   "source": [
    "mean=(0.45401238, 0.39960463, 0.31759819)\n",
    "std=(0.26222476, 0.25603036, 0.25329951)\n",
    "train_transform = transforms.Compose([\n",
    "    transforms.Resize(256, transforms.InterpolationMode.BICUBIC),\n",
    "    transforms.RandomCrop(224),\n",
    "    transforms.RandomHorizontalFlip(),\n",
    "    transforms.ToTensor(),\n",
    "    transforms.Normalize(mean=mean, std=std)\n",
    "])\n",
    "\n",
    "val_and_test_transform = transforms.Compose([\n",
    "    transforms.Resize(256, transforms.InterpolationMode.BICUBIC),\n",
    "    transforms.CenterCrop(224), \n",
    "    transforms.RandomHorizontalFlip(),\n",
    "    transforms.ToTensor(),\n",
    "    transforms.Normalize(mean=mean, std=std)\n",
    "])\n",
    "\n",
    "dm.set_train_trasform(train_transform)\n",
    "dm.set_val_trasform(val_and_test_transform)\n",
    "dm.set_test_trasform(val_and_test_transform)"
   ]
  },
  {
   "cell_type": "code",
   "execution_count": null,
   "id": "c71e53ef",
   "metadata": {},
   "outputs": [],
   "source": [
    "lr=1e-4\n",
    "model = CustomResNetModule(resnet_model=global_resnet_model, num_classes=16, lr=lr)\n",
    "\n",
    "# Initialize logger\n",
    "logger = TensorBoardLogger(\n",
    "    save_dir=os.path.join(\"tb_logs\", global_log_dir), \n",
    "    name=\"baseline_appr_3_real\", \n",
    "    version=global_resnet_model_name + \"_lr_\" + str(lr))\n",
    "\n",
    "val_checkpoint_callback = pl.callbacks.ModelCheckpoint(\n",
    "    filename=\"{epoch}-{step}-{validation/loss:.1f}\",\n",
    "    monitor=\"validation/loss\",\n",
    "    mode=\"min\",\n",
    "    save_top_k=1,\n",
    "    auto_insert_metric_name=False      \n",
    ")\n",
    "latest_checkpoint_callback = pl.callbacks.ModelCheckpoint(\n",
    "    filename=\"latest-{epoch}-{step}\",\n",
    "    monitor=\"step\",\n",
    "    mode=\"max\",\n",
    "    every_n_train_steps=500,\n",
    "    save_top_k=1       # save just the top\n",
    ")\n",
    "\n",
    "# Initialize a trainer\n",
    "trainer = pl.Trainer(max_epochs=500,     \n",
    "                     accelerator=system_accelerator,\n",
    "                     devices=1,\n",
    "                     logger=logger,\n",
    "                     callbacks=[val_checkpoint_callback,\n",
    "                                latest_checkpoint_callback],\n",
    "                     )\n",
    "\n",
    "# Train the model \n",
    "# trainer.fit(model, dm)\n",
    "\n",
    "# Resume checkpoints\n",
    "trainer.fit(model, dm, ckpt_path=os.path.join(os.getcwd(), \"tb_logs\", \"Official_Training\", \"baseline_appr_3_real\", \"resnet18_lr_0.0001\", \"checkpoints\" , \"latest-epoch=42-step=2000.ckpt\"))"
   ]
  },
  {
   "cell_type": "code",
   "execution_count": null,
   "id": "15edbd08",
   "metadata": {},
   "outputs": [],
   "source": [
    "trainer = pl.Trainer(accelerator=system_accelerator)\n",
    "model = CustomResNetModule(resnet_model=global_resnet_model, num_classes=16)\n",
    "trainer.test(\n",
    "    model=model,\n",
    "    dataloaders=dm.test_dataloader(), \n",
    "    ckpt_path=os.path.join(os.getcwd(), \"tb_logs\", \"Official_Training\", \"baseline_appr_3_real\", \"resnet18_lr_0.0001\", \"checkpoints\" , \"405-19082-1.2.ckpt\"))"
   ]
  },
  {
   "cell_type": "markdown",
   "id": "2b77a108",
   "metadata": {},
   "source": [
    " #### 2.1.3.1 Result"
   ]
  },
  {
   "attachments": {},
   "cell_type": "markdown",
   "id": "ade459bb",
   "metadata": {},
   "source": [
    "|   Model  | Learning Rate | Accuracy    | Epochs   |\n",
    "|:--------:|:-------------:|:-----------:|:--------:|\n",
    "| ResNet18 |   1e-4        |   60.75%    |   500    |\n",
    "| ResNet50 |   1e-4        |   48.52%    |   500    |"
   ]
  },
  {
   "cell_type": "markdown",
   "id": "71a3bfa3",
   "metadata": {},
   "source": [
    "### 2.2 Domain adaptation through image-to-image translation (CycleGAN)"
   ]
  },
  {
   "cell_type": "markdown",
   "id": "7d012828",
   "metadata": {},
   "source": [
    "![CycleGAN](./docs/cycle_gan.png)\n",
    "\n",
    "This section aims to apply image-to-image translation through CycleGAN PyTorch lightning implementation, building a pipeline to concatenate CycleGAN translated image between real and synthetic domains with ResNetModule. It is going to show 2 case of study:\n",
    "\n",
    "1) Make the classifier use CycleGAN **real->synthetic** domain images during inference (**trained** using **synthetic domain** images).\n",
    "2) Make the classifier use CycleGAN **synthetic->real** domain images during the training."
   ]
  },
  {
   "cell_type": "markdown",
   "id": "464c36b0",
   "metadata": {},
   "source": [
    "#### 2.2.1 CycleGAN Model"
   ]
  },
  {
   "cell_type": "markdown",
   "id": "6db58e4c",
   "metadata": {},
   "source": [
    "This section shows the CycleGAN PyTorch lightning implementation and how it is trained for pixel-level image-to-image translation."
   ]
  },
  {
   "cell_type": "code",
   "execution_count": 3,
   "id": "e5b34091",
   "metadata": {},
   "outputs": [],
   "source": [
    "import pytorch_lightning as pl\n",
    "import itertools\n",
    "import torchvision\n",
    "from scripts.CycleGAN.generator import Generator\n",
    "from scripts.CycleGAN.discriminator import Discriminator\n",
    "from scripts.CycleGAN.utils import weights_init_normal, LambdaLR\n",
    "\n",
    "class CycleGAN(pl.LightningModule):\n",
    "\n",
    "    A2B = 0\n",
    "    B2A = 1\n",
    "\n",
    "    def __init__(self, \n",
    "                 input_nc = 3, \n",
    "                 output_nc = 3, \n",
    "                 lr=0.0002, \n",
    "                 betas=(0.5, 0.999), \n",
    "                 starting_epoch=0, \n",
    "                 n_epochs=200, \n",
    "                 decay_epoch=100,\n",
    "                 print_images_each_N_batch = 500\n",
    "                  ):\n",
    "        super(CycleGAN, self).__init__()\n",
    "        self.save_hyperparameters()\n",
    "        \n",
    "        # Generators A2B, B2A\n",
    "        self.netG_A2B = Generator(input_nc, output_nc)\n",
    "        self.netG_B2A = Generator(output_nc, input_nc)\n",
    "        \n",
    "        # A and B Discriminator\n",
    "        self.netD_A = Discriminator(input_nc)\n",
    "        self.netD_B = Discriminator(output_nc)\n",
    "        \n",
    "        # Normalization\n",
    "        self.netG_A2B.apply(weights_init_normal)\n",
    "        self.netG_B2A.apply(weights_init_normal)\n",
    "        self.netD_A.apply(weights_init_normal)\n",
    "        self.netD_B.apply(weights_init_normal)\n",
    "        \n",
    "        # Losses\n",
    "        self.criterion_GAN = torch.nn.MSELoss()\n",
    "        self.criterion_cycle = torch.nn.L1Loss()\n",
    "        self.criterion_identity = torch.nn.L1Loss()\n",
    "                    \n",
    "    def forward(self, x, mode=A2B):\n",
    "        if mode== CycleGAN.A2B:\n",
    "            return self.netG_A2B(x)\n",
    "        else:\n",
    "            return self.netG_B2A(x)\n",
    "    \n",
    "    def configure_optimizers(self):\n",
    "        # Generator Optimizer\n",
    "        optimizer_G = torch.optim.Adam(itertools.chain(self.netG_A2B.parameters(), self.netG_B2A.parameters()), lr=self.hparams.lr, betas=self.hparams.betas)\n",
    "        \n",
    "        # Discriminator Optimizers\n",
    "        optimizer_D_A = torch.optim.Adam(self.netD_A.parameters(), lr=self.hparams.lr, betas=self.hparams.betas)\n",
    "        optimizer_D_B = torch.optim.Adam(self.netD_B.parameters(), lr=self.hparams.lr, betas=self.hparams.betas)\n",
    "        \n",
    "        # Scheduler learning rate decay\n",
    "        lr_scheduler_G = torch.optim.lr_scheduler.LambdaLR(optimizer_G, lr_lambda=LambdaLR(self.hparams.n_epochs, self.hparams.starting_epoch, self.hparams.decay_epoch).step)\n",
    "        lr_scheduler_D_A = torch.optim.lr_scheduler.LambdaLR(optimizer_D_A, lr_lambda=LambdaLR(self.hparams.n_epochs, self.hparams.starting_epoch, self.hparams.decay_epoch).step)\n",
    "        lr_scheduler_D_B = torch.optim.lr_scheduler.LambdaLR(optimizer_D_B, lr_lambda=LambdaLR(self.hparams.n_epochs, self.hparams.starting_epoch, self.hparams.decay_epoch).step)\n",
    "        \n",
    "        return [optimizer_G, optimizer_D_A, optimizer_D_B], [lr_scheduler_G, lr_scheduler_D_A, lr_scheduler_D_B]\n",
    "    \n",
    "    \n",
    "    def training_step(self, batch, batch_idx, optimizer_idx):\n",
    "        real_A, real_B = batch\n",
    "        \n",
    "        target_real = torch.ones((real_A.shape[0],1)).type_as(real_A)\n",
    "        target_fake = torch.zeros((real_A.shape[0],1)).type_as(real_A)\n",
    "        \n",
    "        # Generator\n",
    "        if optimizer_idx==0:\n",
    "            # Identity loss\n",
    "            # G_A2B(B) should equal B if real B is fed\n",
    "            same_B = self.netG_A2B(real_B)\n",
    "            loss_identity_B = self.criterion_identity(same_B, real_B)*5.0\n",
    "\n",
    "            # G_B2A(A) should equal A if real A is fed\n",
    "            same_A = self.netG_B2A(real_A)\n",
    "            loss_identity_A = self.criterion_identity(same_A, real_A)*5.0\n",
    "\n",
    "            # GAN loss\n",
    "            fake_B = self.netG_A2B(real_A) \n",
    "            pred_fake = self.netD_B(fake_B) # discriminator B prediction\n",
    "            loss_GAN_A2B = self.criterion_GAN(pred_fake, target_real) # loss GAN A2B\n",
    "\n",
    "            fake_A = self.netG_B2A(real_B)\n",
    "            pred_fake = self.netD_A(fake_A)  # discriminator A prediction\n",
    "            loss_GAN_B2A = self.criterion_GAN(pred_fake, target_real) # loss GAN B2A\n",
    "\n",
    "            # Cycle consistency loss\n",
    "            recovered_A = self.netG_B2A(fake_B) #fake B -> B2A - should be same as real_A\n",
    "            loss_cycle_ABA = self.criterion_cycle(recovered_A, real_A)*10.0 #cycle consistency loss\n",
    "\n",
    "            recovered_B = self.netG_A2B(fake_A) #fake A -> A2B - should be same as real_B\n",
    "            loss_cycle_BAB = self.criterion_cycle(recovered_B, real_B)*10.0 #cycle consistency loss\n",
    "\n",
    "            # Overall loss\n",
    "            loss_G = loss_identity_A + loss_identity_B + loss_GAN_A2B + loss_GAN_B2A + loss_cycle_ABA + loss_cycle_BAB\n",
    "            self.log('loss_G/loss_identity_A', loss_identity_A, on_epoch=True)\n",
    "            self.log('loss_G/loss_identity_B', loss_identity_B, on_epoch=True)\n",
    "            self.log('loss_G/loss_GAN_A2B', loss_GAN_A2B, on_epoch=True)\n",
    "            self.log('loss_G/loss_GAN_B2A', loss_GAN_B2A, on_epoch=True)\n",
    "            self.log('loss_G/loss_cycle_ABA', loss_cycle_ABA, on_epoch=True)\n",
    "            self.log('loss_G/loss_cycle_BAB', loss_cycle_BAB, on_epoch=True)\n",
    "            self.log('loss_G/overall', loss_G, on_epoch=True)\n",
    "            \n",
    "            # Log images to visually check the trainig\n",
    "            if batch_idx % self.hparams.print_images_each_N_batch == 0:\n",
    "                grid_A = torchvision.utils.make_grid(real_A[:50], nrow=10, normalize=True)\n",
    "                grid_A2B = torchvision.utils.make_grid(fake_B[:50], nrow=10, normalize=True)\n",
    "                grid_A2B2A = torchvision.utils.make_grid(recovered_A[:50], nrow=10, normalize=True)\n",
    "                \n",
    "                grid_B = torchvision.utils.make_grid(real_B[:50], nrow=10, normalize=True)\n",
    "                grid_B2A = torchvision.utils.make_grid(fake_A[:50], nrow=10, normalize=True)\n",
    "                grid_B2A2B = torchvision.utils.make_grid(recovered_B[:50], nrow=10, normalize=True)\n",
    "                \n",
    "                self.logger.experiment.add_image('A/A', grid_A, self.global_step)\n",
    "                self.logger.experiment.add_image('A/A2B', grid_A2B, self.global_step)\n",
    "                self.logger.experiment.add_image('A/A2B2A', grid_A2B2A, self.global_step)\n",
    "                \n",
    "                self.logger.experiment.add_image('B/B', grid_B, self.global_step)\n",
    "                self.logger.experiment.add_image('B/B2A', grid_B2A, self.global_step)\n",
    "                self.logger.experiment.add_image('B/B2A2B', grid_B2A2B, self.global_step)\n",
    "                \n",
    "            return loss_G\n",
    "        \n",
    "        # Discriminator A\n",
    "        elif optimizer_idx==1:\n",
    "            # Real loss\n",
    "            pred_real = self.netD_A(real_A)\n",
    "            loss_D_real = self.criterion_GAN(pred_real, target_real)\n",
    "\n",
    "            # Fake loss\n",
    "            fake_A = self.netG_B2A(real_B)\n",
    "            pred_fake = self.netD_A(fake_A.detach())\n",
    "            loss_D_fake = self.criterion_GAN(pred_fake, target_fake)\n",
    "\n",
    "            # loss globale\n",
    "            loss_D_A = (loss_D_real + loss_D_fake)*0.5\n",
    "            self.log('loss_D/loss_D_A',loss_D_A, on_epoch=True)\n",
    "            return loss_D_A\n",
    "        \n",
    "        # Discriminator B\n",
    "        elif optimizer_idx==2:\n",
    "            pred_real = self.netD_B(real_B)\n",
    "            loss_D_real = self.criterion_GAN(pred_real, target_real)\n",
    "\n",
    "            # Fake loss\n",
    "            fake_B = self.netG_A2B(real_A) \n",
    "            pred_fake = self.netD_B(fake_B.detach())\n",
    "            loss_D_fake = self.criterion_GAN(pred_fake, target_fake)\n",
    "\n",
    "            # loss globale\n",
    "            loss_D_B = (loss_D_real + loss_D_fake)*0.5\n",
    "            self.log('loss_D/loss_D_B', loss_D_B, on_epoch=True)\n",
    "            return loss_D_B"
   ]
  },
  {
   "cell_type": "markdown",
   "id": "91a27c83",
   "metadata": {},
   "source": [
    "##### 2.2.1.1 Import Dataset"
   ]
  },
  {
   "cell_type": "code",
   "execution_count": 4,
   "id": "1f42ea18",
   "metadata": {},
   "outputs": [],
   "source": [
    "from scripts.dataset.GAN.data_module_GAN import CulturalSiteDataModuleGAN\n",
    "\n",
    "batch_size = 2\n",
    "dm = CulturalSiteDataModuleGAN(\n",
    "    batch_size=batch_size, \n",
    "    num_workers=6)\n",
    "dm.setup(CulturalSiteDataModuleGAN.ALL_STAGE)\n",
    "pixel_threshold = 30\n",
    "dm.filter_train(pixel_threshold)\n",
    "dm.filter_test(pixel_threshold)"
   ]
  },
  {
   "cell_type": "markdown",
   "id": "61cc30c4",
   "metadata": {},
   "source": [
    "##### 2.2.1.2 Training"
   ]
  },
  {
   "cell_type": "code",
   "execution_count": null,
   "id": "c71e53ef",
   "metadata": {},
   "outputs": [],
   "source": [
    "lr=2e-4\n",
    "model = CycleGAN(batch_size=batch_size, lr=lr)\n",
    "\n",
    "# Initialize logger\n",
    "logger = TensorBoardLogger(\n",
    "    save_dir=os.path.join(\"tb_logs\", global_log_dir), \n",
    "    name=\"image_to_image_translation\", \n",
    "    version=\"CycleGAN_lr_\" + str(lr))\n",
    "\n",
    "overall_checkpoint_callback = pl.callbacks.ModelCheckpoint(\n",
    "    filename=\"{epoch}-{step}-{loss_G/overall:.1f}\",\n",
    "    monitor=\"loss_G/overall\",\n",
    "    mode=\"min\",\n",
    "    save_top_k=1,\n",
    "    auto_insert_metric_name=False      \n",
    ")\n",
    "latest_checkpoint_callback = pl.callbacks.ModelCheckpoint(\n",
    "    filename=\"latest-{epoch}-{step}\",\n",
    "    monitor=\"step\",\n",
    "    mode=\"max\",\n",
    "    every_n_train_steps=500,\n",
    "    save_top_k=1       \n",
    ")\n",
    "\n",
    "# Initialize a trainer\n",
    "trainer = pl.Trainer(max_epochs=-1, \n",
    "                     accelerator=system_accelerator,\n",
    "                     devices=1,\n",
    "                     logger=logger,\n",
    "                     callbacks=[ overall_checkpoint_callback, latest_checkpoint_callback],\n",
    "                     )\n",
    "\n",
    "# Train the model \n",
    "trainer.fit(model, dm)\n",
    "\n",
    "# resume checkpoints\n",
    "# trainer.fit(model, dm, ckpt_path=os.path.join(os.getcwd(), \"tb_logs\", \"no_filter_train\", \"ResNet_0_lr_1e-3_m_0\", \"checkpoints\" , \"epoch=9-step=9390.ckpt\"))"
   ]
  },
  {
   "attachments": {},
   "cell_type": "markdown",
   "id": "783e78de",
   "metadata": {},
   "source": [
    "### Discriminator\n",
    "\n",
    "![CycleGAN Discriminator](docs/DiscriminatorCycleGAN.jpg)\n"
   ]
  },
  {
   "attachments": {},
   "cell_type": "markdown",
   "id": "683a0daa",
   "metadata": {},
   "source": [
    "### Generator\n",
    "\n",
    "![GeneratorCycleGAN_1](docs/GeneratorCycleGAN_1.jpg) \n",
    "\n",
    "![GeneratorCycleGAN_2](docs/GeneratorCycleGAN_2.jpg) "
   ]
  },
  {
   "cell_type": "markdown",
   "id": "f09c0563",
   "metadata": {},
   "source": [
    "#### 2.2.2 Case 1: Testing CycleGAN and ResNet (real->synthetic->inference)"
   ]
  },
  {
   "cell_type": "markdown",
   "id": "c667b1af",
   "metadata": {},
   "source": [
    "Il modulo sotto implementa l'unione dei due modelli CycleGAN e ResNet, effettuando una traduzione dell'immagine reale -> synthetic e poi facendo inferenza con ResNet."
   ]
  },
  {
   "cell_type": "code",
   "execution_count": 8,
   "id": "15dd5c26",
   "metadata": {},
   "outputs": [],
   "source": [
    "from scripts.CycleGAN.model import CycleGAN\n",
    "\n",
    "class CycleGANResNetPretrainedModule(pl.LightningModule):\n",
    "    \n",
    "    def __init__(self, cycle_GAN_ckpt_path, res_net_ckpt_path):\n",
    "        super(CycleGANResNetPretrainedModule, self).__init__()\n",
    "        self.CycleGAN_model = CycleGAN.load_from_checkpoint(cycle_GAN_ckpt_path)\n",
    "        self.CycleGAN_model.eval()\n",
    "        self.ResNet_model = CustomResNetModule.load_from_checkpoint(res_net_ckpt_path)\n",
    "\n",
    "        self.test_acc = torchmetrics.Accuracy()\n",
    "\n",
    "    def forward(self, x): # x = real_B\n",
    "        fake_A = self.CycleGAN_model(x, CycleGAN.B2A)\n",
    "        self.print_images(x, fake_A)\n",
    "        return self.ResNet_model(fake_A)\n",
    "\n",
    "    def print_images(self, x, fake_A):\n",
    "        grid_A = torchvision.utils.make_grid(x[:50], nrow=10, normalize=True)\n",
    "        grid_A2B = torchvision.utils.make_grid(fake_A[:50], nrow=10, normalize=True)\n",
    "\n",
    "        self.logger.experiment.add_image('A/A', grid_A, self.batch_idx)\n",
    "        self.logger.experiment.add_image('A/A2B', grid_A2B, self.batch_idx)\n",
    "        \n",
    "    def test_step(self, batch, batch_idx):\n",
    "        x,y = batch\n",
    "        self.batch_idx = batch_idx\n",
    "        preds = self.forward(x)\n",
    "        self.test_acc(torch.argmax(preds, dim=1), y)\n",
    "        \n",
    "        self.log('test/accuracy', self.test_acc)       "
   ]
  },
  {
   "cell_type": "markdown",
   "id": "65cfd40e",
   "metadata": {},
   "source": [
    " ##### 2.2.2.1 Dataset Setup"
   ]
  },
  {
   "cell_type": "code",
   "execution_count": null,
   "id": "18cbcab4",
   "metadata": {},
   "outputs": [],
   "source": [
    "print(\"Dataset setup\")\n",
    "dm = CulturalSiteDataModule(\n",
    "    batch_size=2, \n",
    "    dataset_type=CulturalSiteDataModule.REAL_DATASET, \n",
    "    num_classes=16, \n",
    "    num_workers=6)\n",
    "    \n",
    "dm.setup(CulturalSiteDataModule.TEST_STAGE)\n",
    "\n",
    "print(\"Dataset applying filter\")\n",
    "dm.filter_test(pixel_threshold=30)\n",
    "\n",
    "print(\"Dataset set transform\")\n",
    "val_and_test_transform = transforms.Compose([\n",
    "    transforms.Resize(256),\n",
    "    transforms.CenterCrop(224),\n",
    "    transforms.RandomHorizontalFlip(),\n",
    "    transforms.ToTensor(),\n",
    "    transforms.Normalize(mean=(0.28162546, 0.29239721, 0.31711673), std=(0.17125229, 0.17715992, 0.18002949))\n",
    "])\n",
    "\n",
    "dm.set_test_trasform(val_and_test_transform)"
   ]
  },
  {
   "cell_type": "markdown",
   "id": "2cfd9d38",
   "metadata": {},
   "source": [
    " ##### 2.2.2.2 Testing"
   ]
  },
  {
   "cell_type": "code",
   "execution_count": null,
   "id": "c694f74c",
   "metadata": {},
   "outputs": [],
   "source": [
    "logger = TensorBoardLogger(\n",
    "    save_dir=os.path.join(\"tb_logs\", global_log_dir, \"image_to_image_translation\"), \n",
    "    name=\"case_1_real_syn_inference\", \n",
    "    version=global_resnet_model_name + \"_lr_\" + str(lr))\n",
    "\n",
    "trainer = pl.Trainer(accelerator=system_accelerator, logger=logger)\n",
    "model = CycleGANResNetPretrainedModule(\n",
    "    cycle_GAN_ckpt_path=os.path.join(os.getcwd(), \"tb_logs\", \"image_to_image_translation\", \"CycleGAN_0_lr_0.0002\", \"checkpoints\" , \"epoch=0-step=45051-val_loss=0.0.ckpt\"),\n",
    "    res_net_ckpt_path=os.path.join(os.getcwd(), \"tb_logs\", \"filtered_train\", \"ResNet_0_lr_1e-4_m_0\", \"checkpoints\" , \"epoch=17-step=16902-val_loss=0.1.ckpt\"))\n",
    "    \n",
    "trainer.test(\n",
    "    model=model,\n",
    "    dataloaders=dm.test_dataloader())"
   ]
  },
  {
   "cell_type": "markdown",
   "id": "2b77a108",
   "metadata": {},
   "source": [
    "##### 2.2.2.3 Result"
   ]
  },
  {
   "attachments": {},
   "cell_type": "markdown",
   "id": "12063e82",
   "metadata": {},
   "source": [
    "|   Model             | Accuracy   |\n",
    "|:-------------------:|:----------:|\n",
    "| CycleGAN + ResNet18 |   10.22%   |\n",
    "| CycleGAN + ResNet50 |   9.81%    |"
   ]
  },
  {
   "cell_type": "markdown",
   "id": "2f3c36ca",
   "metadata": {},
   "source": [
    "#### 2.2.3 Case 2: Training ResNet with CycleGAN translated images (synthetic->real->training)"
   ]
  },
  {
   "cell_type": "markdown",
   "id": "98139831",
   "metadata": {},
   "source": [
    "In this section, we combine CycleGAN translated image dataset (synthetic->real) with ResNet, which is being trained using the real domain."
   ]
  },
  {
   "cell_type": "markdown",
   "id": "3b595e97",
   "metadata": {},
   "source": [
    "##### 2.2.3.1 Model"
   ]
  },
  {
   "cell_type": "code",
   "execution_count": 4,
   "id": "8e95702a",
   "metadata": {},
   "outputs": [],
   "source": [
    "from scripts.CycleGAN.model import CycleGAN\n",
    "\n",
    "class CycleGANResNetModule(pl.LightningModule):\n",
    "    \n",
    "    def __init__(self, cycle_GAN_ckpt_path, resnet_model, num_classes = 16, lr=1e-4):\n",
    "        super(CycleGANResNetModule, self).__init__()\n",
    "        self.num_classes = num_classes\n",
    "        self.lr = lr\n",
    "        \n",
    "        self.CycleGAN_model = CycleGAN.load_from_checkpoint(cycle_GAN_ckpt_path)\n",
    "        self.CycleGAN_model.eval()\n",
    "\n",
    "        self.ResNet_model = CustomResNetModule(resnet_model=resnet_model, num_classes=num_classes, lr=lr)\n",
    "        \n",
    "        self.loss_fn = nn.CrossEntropyLoss()\n",
    "        \n",
    "        self.train_acc = torchmetrics.Accuracy()\n",
    "        self.val_acc = torchmetrics.Accuracy()\n",
    "        self.test_acc = torchmetrics.Accuracy()\n",
    "        \n",
    "    def forward_cycleGAN(self, x): # x = real_A\n",
    "        fake_B = self.CycleGAN_model(x, CycleGAN.A2B)\n",
    "        # self.print_images(x, fake_B)\n",
    "        return self.ResNet_model(fake_B)\n",
    "\n",
    "    def forward(self, x): # x = real_A\n",
    "        return self.ResNet_model(x)\n",
    "            \n",
    "    def print_images(self, x, fake_A):\n",
    "        grid_A = torchvision.utils.make_grid(x[:50], nrow=10, normalize=True)\n",
    "        grid_A2B = torchvision.utils.make_grid(fake_A[:50], nrow=10, normalize=True)\n",
    "\n",
    "        self.logger.experiment.add_image('A/A', grid_A, self.batch_idx)\n",
    "        self.logger.experiment.add_image('A/A2B', grid_A2B, self.batch_idx)\n",
    "    \n",
    "    def configure_optimizers(self):\n",
    "        optimizer = torch.optim.Adam(self.parameters(), lr=self.lr)\n",
    "        scheduler = torch.optim.lr_scheduler.StepLR(optimizer, step_size=2)\n",
    "        return [optimizer], [scheduler]\n",
    "    \n",
    "    def training_step(self, batch, batch_idx):   \n",
    "        self.batch_idx = batch_idx\n",
    "        x, y = batch        \n",
    "        preds = self.forward_cycleGAN(x)        \n",
    "        loss = self.loss_fn(preds, y)\n",
    "        self.train_acc(torch.argmax(preds, dim=1), y)\n",
    "        \n",
    "        self.log('training/loss', loss.item(), on_epoch=True)\n",
    "        self.log('training/accuracy', self.train_acc, on_epoch=True)\n",
    "        \n",
    "        return loss\n",
    "    \n",
    "    def validation_step(self, batch, batch_idx):        \n",
    "        self.batch_idx = batch_idx\n",
    "        x,y = batch        \n",
    "        preds = self.forward(x)        \n",
    "        loss = self.loss_fn(preds, y)\n",
    "        self.val_acc(torch.argmax(preds, dim=1), y)\n",
    "        \n",
    "        self.log('validation/loss', loss.item(), on_epoch=True)\n",
    "        self.log('validation/accuracy', self.val_acc, on_epoch=True)\n",
    "        \n",
    "    def test_step(self, batch, batch_idx):        \n",
    "        x,y = batch\n",
    "        preds = self.forward(x)\n",
    "        self.test_acc(torch.argmax(preds, dim=1), y)\n",
    "        \n",
    "        self.log('test/accuracy', self.test_acc, on_epoch=True)"
   ]
  },
  {
   "cell_type": "markdown",
   "id": "2c6bb162",
   "metadata": {},
   "source": [
    "##### 2.2.3.2 Synthetic dataset setup"
   ]
  },
  {
   "cell_type": "code",
   "execution_count": null,
   "id": "21da4edc",
   "metadata": {},
   "outputs": [],
   "source": [
    "print(\"Dataset setup\")\n",
    "dm = CulturalSiteDataModule(\n",
    "    batch_size=8, \n",
    "    dataset_type=CulturalSiteDataModule.SYNTHETIC_REAL_DATASET, \n",
    "    num_classes=16, \n",
    "    num_workers=6)\n",
    "dm.setup(CulturalSiteDataModule.ALL_STAGE)\n",
    "\n",
    "print(\"Dataset applying filter\")\n",
    "pixel_threshold = 30\n",
    "dm.filter_train(pixel_threshold)\n",
    "dm.filter_val(pixel_threshold)"
   ]
  },
  {
   "cell_type": "code",
   "execution_count": 6,
   "id": "ee54b72b",
   "metadata": {},
   "outputs": [],
   "source": [
    "# Coming from baseline case 3 oracle\n",
    "mean=(0.45401238, 0.39960463, 0.31759819)\n",
    "std=(0.26222476, 0.25603036, 0.25329951)\n",
    "train_transform = transforms.Compose([\n",
    "    transforms.Resize(256, transforms.InterpolationMode.BICUBIC),\n",
    "    transforms.RandomCrop(224),\n",
    "    transforms.RandomHorizontalFlip(),\n",
    "    transforms.ToTensor(),\n",
    "    transforms.Normalize(mean=mean, std=std)\n",
    "])\n",
    "\n",
    "val_and_test_transform = transforms.Compose([\n",
    "    transforms.Resize(256, transforms.InterpolationMode.BICUBIC),\n",
    "    transforms.CenterCrop(224),            \n",
    "    transforms.RandomHorizontalFlip(),\n",
    "    transforms.ToTensor(),\n",
    "    transforms.Normalize(mean=mean, std=std)\n",
    "])\n",
    "\n",
    "dm.set_train_trasform(train_transform)\n",
    "dm.set_val_trasform(val_and_test_transform)"
   ]
  },
  {
   "cell_type": "markdown",
   "id": "2e52116b",
   "metadata": {},
   "source": [
    "##### 2.2.3.3 Training"
   ]
  },
  {
   "cell_type": "code",
   "execution_count": null,
   "id": "fbcc102b",
   "metadata": {},
   "outputs": [],
   "source": [
    "lr=4e-4\n",
    "model = CycleGANResNetModule(\n",
    "        cycle_GAN_ckpt_path=os.path.join(os.getcwd(), \"tb_logs\", \"image_to_image_translation\", \"CycleGAN_2_lr_0.0004\", \"checkpoints\" , \"latest-epoch=8-step=400500.ckpt\"),\n",
    "        num_classes=16,\n",
    "        resnet_model= global_resnet_model,\n",
    "        lr=lr)\n",
    "\n",
    "# Initialize logger\n",
    "logger = TensorBoardLogger(\n",
    "    save_dir=os.path.join(\"tb_logs\", global_log_dir, \"image_to_image_translation\"), \n",
    "    name=\"case_2_syn_real_training\", \n",
    "    version=global_resnet_model_name + \"_lr_\" + str(lr))\n",
    "\n",
    "val_checkpoint_callback = pl.callbacks.ModelCheckpoint(\n",
    "    filename=\"{epoch}-{step}-{validation/loss:.1f}\",\n",
    "    monitor=\"validation/loss\",\n",
    "    mode=\"min\",\n",
    "    save_top_k=1,\n",
    "    auto_insert_metric_name=False    \n",
    ")\n",
    "latest_checkpoint_callback = pl.callbacks.ModelCheckpoint(\n",
    "    filename=\"latest-{epoch}-{step}\",\n",
    "    monitor=\"step\",\n",
    "    mode=\"max\",\n",
    "    every_n_train_steps=500,\n",
    "    save_top_k=1\n",
    ")\n",
    "\n",
    "# Initialize a trainer\n",
    "trainer = pl.Trainer(max_epochs=-1,    \n",
    "                     accelerator=system_accelerator, \n",
    "                     devices=1,\n",
    "                     logger=logger,\n",
    "                     callbacks=[ val_checkpoint_callback, latest_checkpoint_callback],\n",
    "                     )\n",
    "\n",
    "# Train the model \n",
    "trainer.fit(model, dm)\n",
    "\n",
    "# resume checkpoints\n",
    "# trainer.fit(model, dm, ckpt_path=os.path.join(os.getcwd(), \"tb_logs\", \"image_to_image_translation\", \"CycleGANResNetModule_0_lr_0.0001\", \"checkpoints\" , \"latest-epoch=7-step=29000.ckpt\"))"
   ]
  },
  {
   "cell_type": "markdown",
   "id": "99ae9ae0",
   "metadata": {},
   "source": [
    "##### 2.2.3.3 Testing"
   ]
  },
  {
   "cell_type": "markdown",
   "id": "d4646c10",
   "metadata": {},
   "source": [
    "Real dataset setup"
   ]
  },
  {
   "cell_type": "code",
   "execution_count": null,
   "id": "8c0e5e57",
   "metadata": {},
   "outputs": [],
   "source": [
    "print(\"Dataset setup\")\n",
    "dm = CulturalSiteDataModule(\n",
    "    batch_size=8, \n",
    "    dataset_type=CulturalSiteDataModule.REAL_DATASET, \n",
    "    num_classes=16, \n",
    "    num_workers=6)\n",
    "dm.setup(CulturalSiteDataModule.TEST_STAGE)\n",
    "\n",
    "print(\"Dataset applying filter\")\n",
    "pixel_threshold = 30\n",
    "dm.filter_test(pixel_threshold)"
   ]
  },
  {
   "cell_type": "code",
   "execution_count": 5,
   "id": "8175a10e",
   "metadata": {},
   "outputs": [],
   "source": [
    "# Coming from baseline case 3 oracle\n",
    "mean=(0.45401238, 0.39960463, 0.31759819)\n",
    "std=(0.26222476, 0.25603036, 0.25329951)\n",
    "test_transform = transforms.Compose([\n",
    "    transforms.Resize(256, transforms.InterpolationMode.BICUBIC),\n",
    "    transforms.CenterCrop(224),            \n",
    "    transforms.RandomHorizontalFlip(),\n",
    "    transforms.ToTensor(),\n",
    "    transforms.Normalize(mean=mean, std=std)\n",
    "])\n",
    "dm.set_test_trasform(test_transform)"
   ]
  },
  {
   "cell_type": "code",
   "execution_count": null,
   "id": "d99179a0",
   "metadata": {},
   "outputs": [],
   "source": [
    "# Evaluate the model on the held-out test set \n",
    "trainer = pl.Trainer(accelerator=system_accelerator)\n",
    "model = CycleGANResNetModule(\n",
    "        cycle_GAN_ckpt_path=os.path.join(os.getcwd(), \"tb_logs\", \"image_to_image_translation\", \"CycleGAN_2_lr_0.0004\", \"checkpoints\" , \"latest-epoch=6-step=274500.ckpt\"),\n",
    "        num_classes=16,\n",
    "        ResNet_model= global_resnet_model)\n",
    "trainer.test(\n",
    "    model=model,\n",
    "    dataloaders=dm.test_dataloader(), \n",
    "    ckpt_path=os.path.join(os.getcwd(), \"tb_logs\", \"image_to_image_translation\", \"CycleGANResNetModule_0_lr_0.0001\", \"checkpoints\" , \"latest-epoch=7-step=29000.ckpt\"))"
   ]
  },
  {
   "cell_type": "markdown",
   "id": "76d4c148",
   "metadata": {},
   "source": [
    "##### 2.2.3.3 Result"
   ]
  },
  {
   "attachments": {},
   "cell_type": "markdown",
   "id": "0421bf42",
   "metadata": {},
   "source": [
    "![Synthetic_Real_Training_1](docs/Synthetic_Real_Training_1.jpg)\n",
    "![Synthetic_Real_Training_2](docs/Synthetic_Real_Training_2.jpg)"
   ]
  },
  {
   "attachments": {},
   "cell_type": "markdown",
   "id": "57069aef",
   "metadata": {},
   "source": [
    "|   Model             | Learning Rate    | Accuracy    | Epochs   |\n",
    "|:-------------------:|:----------------:|:-----------:|:--------:|\n",
    "| CycleGAN + ResNet18 |   1e-4           |   18.82%    |   15     |\n",
    "| CycleGAN + ResNet18 |   2.5e-05        |   24.46%    |   15     |\n",
    "| CycleGAN + ResNet18 |   2.5e-06        |   13.17%    |   10     |\n",
    "| CycleGAN + ResNet18 |   1.5e-05        |   15.59%    |   15     |\n",
    "| CycleGAN + ResNet18 |   3.5e-05        |   22.18%    |   15     |"
   ]
  },
  {
   "cell_type": "markdown",
   "id": "2df4c1c3",
   "metadata": {},
   "source": [
    "### 2.3 Feature-level Domain Adaptation"
   ]
  },
  {
   "cell_type": "markdown",
   "id": "08bf22af",
   "metadata": {},
   "source": [
    "#### 2.3.1 Gradient Reversal layer"
   ]
  },
  {
   "attachments": {},
   "cell_type": "markdown",
   "id": "dd4aa00f",
   "metadata": {},
   "source": [
    "![Gradient Reversal Layer](./docs/gradient_reversal_layer.png)\n",
    "\n",
    "The principle is simple:\n",
    "- Feature Extractor (green): Extract features from the two domains\n",
    "- Label predictor (blue): Classifies against the labels of the individual domains\n",
    "- Domain classifier (pink): Classifies and recognises which domain the image belongs to\n",
    "\n",
    "The loss is composed as follows: \n",
    "\n",
    "$$ L = L_y - \\lambda L_d $$\n",
    "\n",
    "$ L_y $ is the loss of the label predictor, $ L_d $ is the loss of the domain classifier. Intuitively one wants to minimise the former, but maximise the latter, so that the domain at the feature level is no longer distinguished.\n",
    "\n",
    "$ \\lambda $ is calculated during training according to the following formula:"
   ]
  },
  {
   "cell_type": "markdown",
   "id": "b0ee0201",
   "metadata": {},
   "source": [
    "$$ \\lambda_p = \\frac{2}{1 + e^{-\\gamma  p}} - 1 $$"
   ]
  },
  {
   "attachments": {},
   "cell_type": "markdown",
   "id": "78d91889",
   "metadata": {},
   "source": [
    "$ \\gamma = 10 $ e $ p \\in [0, 1] $ (calculated as `current_epoch/number_of_epochs`)."
   ]
  },
  {
   "attachments": {},
   "cell_type": "markdown",
   "id": "83cd537d",
   "metadata": {},
   "source": [
    "Definition of the gradient reversal layer task comprising the GRL module and domain discriminator"
   ]
  },
  {
   "cell_type": "markdown",
   "id": "70fc381f",
   "metadata": {},
   "source": [
    "##### 3.1.1 Training"
   ]
  },
  {
   "cell_type": "code",
   "execution_count": 3,
   "id": "d5192c5a",
   "metadata": {},
   "outputs": [],
   "source": [
    "NUM_EPOCHS=50"
   ]
  },
  {
   "cell_type": "markdown",
   "id": "c2640be9",
   "metadata": {},
   "source": [
    "Model"
   ]
  },
  {
   "cell_type": "code",
   "execution_count": 4,
   "id": "3b05884e",
   "metadata": {},
   "outputs": [],
   "source": [
    "from scripts.GRL.domain_discriminator import DomainDiscriminatorGRL\n",
    "import numpy as np\n",
    "import torch.nn.functional as F\n",
    "from torch import nn\n",
    "\n",
    "class DomainAdaptationGRLTask(pl.LightningModule):\n",
    "    def __init__(self, model, lr=1e-3):\n",
    "        super(DomainAdaptationGRLTask, self).__init__() \n",
    "        self.lr = lr\n",
    "        self.model = model\n",
    "        self.discriminator = DomainDiscriminatorGRL(in_features=model.in_features)\n",
    "\n",
    "        self.cross_entropy_loss = nn.CrossEntropyLoss()\n",
    "        self.bce_loss = nn.BCEWithLogitsLoss()\n",
    "\n",
    "        self.val_acc =  torchmetrics.Accuracy()\n",
    "        self.test_acc =  torchmetrics.Accuracy()\n",
    "\n",
    "    def forward(self,x):\n",
    "        return self.model(x)\n",
    "\n",
    "    def configure_optimizers(self):\n",
    "        return torch.optim.Adam(list(self.model.parameters()) + list(self.discriminator.parameters()), lr=self.lr)\n",
    "       \n",
    "    def training_step(self, train_batch, batch_idx):\n",
    "        source, target, labels = train_batch\n",
    "\n",
    "        # grid_source = torchvision.utils.make_grid(source[:50], nrow=10, normalize=True)\n",
    "        # self.logger.experiment.add_image('source', grid_source, batch_idx)\n",
    "\n",
    "        # grid_target = torchvision.utils.make_grid(target[:50], nrow=10, normalize=True)\n",
    "        # self.logger.experiment.add_image('target', grid_target, batch_idx)\n",
    "        \n",
    "        source_features = self.model.feature_extractor(source).view(source.shape[0], -1)\n",
    "        target_features = self.model.feature_extractor(target).view(target.shape[0], -1)\n",
    "        label_preds = self.model.classifier(source_features)\n",
    "\n",
    "        # getting lambda val using original paper, from 0 to 1 following this formula\n",
    "        lamb=2/(1+np.exp(-10*self.current_epoch/NUM_EPOCHS)) - 1\n",
    "\n",
    "        domain_preds_source = self.discriminator(source_features, lamb)\n",
    "        domain_preds_target = self.discriminator(target_features, lamb)\n",
    "        domain_preds = torch.cat([domain_preds_source, domain_preds_target],0)\n",
    "\n",
    "        source_acc = (torch.sigmoid(domain_preds_source)<0.5).float().mean()\n",
    "        target_acc = (torch.sigmoid(domain_preds_target)>=0.5).float().mean()\n",
    "        acc = (source_acc+target_acc)/2\n",
    "\n",
    "        source_targets = torch.zeros(source.shape[0],1)\n",
    "        target_targets = torch.ones(target.shape[0],1)\n",
    "        domain_targets = torch.cat([source_targets, target_targets],0).type_as(source)\n",
    "\n",
    "        label_loss = self.cross_entropy_loss(label_preds, labels)\n",
    "        domain_loss = self.bce_loss(domain_preds, domain_targets)\n",
    "        loss = domain_loss + label_loss\n",
    "\n",
    "        self.log('train/domain_loss', domain_loss)\n",
    "        self.log('train/label_loss', label_loss)\n",
    "        self.log('train/loss', loss)\n",
    "        self.log('train/disc_source_acc',source_acc)\n",
    "        self.log('train/disc_target_acc',target_acc)\n",
    "        self.log('train/disc_acc',acc)\n",
    "        return loss\n",
    "\n",
    "    def validation_step(self, batch, batch_idx):        \n",
    "        x,y = batch        \n",
    "        preds = self.forward(x)        \n",
    "        self.val_acc(torch.argmax(preds, dim=1), y)\n",
    "\n",
    "        self.log('validation/accuracy', self.val_acc, on_epoch=True)\n",
    "        \n",
    "    def test_step(self, batch, batch_idx):        \n",
    "        x,y = batch\n",
    "        preds = self.forward(x)\n",
    "        self.test_acc(torch.argmax(preds, dim=1), y)\n",
    "        \n",
    "        self.log('test/accuracy', self.test_acc, on_epoch=True)"
   ]
  },
  {
   "cell_type": "markdown",
   "id": "62f0a719",
   "metadata": {},
   "source": [
    "Dataset Setup"
   ]
  },
  {
   "cell_type": "code",
   "execution_count": null,
   "id": "fbb6a968",
   "metadata": {},
   "outputs": [],
   "source": [
    "from scripts.dataset.GRL.data_module_GRL import CulturalSiteDataModuleGRL\n",
    "\n",
    "print(\"Dataset setup\")\n",
    "dm = CulturalSiteDataModuleGRL(\n",
    "    batch_size=32, \n",
    "    num_workers=6)\n",
    "dm.setup(CulturalSiteDataModuleGRL.FIT_STAGE)\n",
    "\n",
    "print(\"Dataset applying filter\")\n",
    "pixel_threshold = 30\n",
    "dm.filter_train(pixel_threshold)\n",
    "dm.filter_val(pixel_threshold)"
   ]
  },
  {
   "cell_type": "markdown",
   "id": "9032da4d",
   "metadata": {},
   "source": [
    "Normalization"
   ]
  },
  {
   "cell_type": "markdown",
   "id": "9ddeebe4",
   "metadata": {},
   "source": [
    "Using zero-mean-nomalization, the cells below calculate mean and std for individual or merged datasets to implement a case of study where:\n",
    "1. normalization using individual mean and std\n",
    "2. normalization using global mean and std"
   ]
  },
  {
   "cell_type": "code",
   "execution_count": 6,
   "id": "44112d2a",
   "metadata": {},
   "outputs": [],
   "source": [
    "syn_img_dataset = np.array(dm.cultural_site_train.get_syn_image_dataset())[:,1]\n",
    "real_img_dataset = np.array(dm.cultural_site_train.get_real_image_dataset())[:,1]\n",
    "merged_dataset = np.concatenate((syn_img_dataset, real_img_dataset))"
   ]
  },
  {
   "cell_type": "markdown",
   "id": "0a5247ad",
   "metadata": {},
   "source": [
    "Getting mean and std for synthetic dataset"
   ]
  },
  {
   "cell_type": "code",
   "execution_count": null,
   "id": "d22437c7",
   "metadata": {},
   "outputs": [
    {
     "name": "stdout",
     "output_type": "stream",
     "text": [
      "Mean: [0.28162546 0.29239721 0.31711673]\n",
      "Std: [0.17125229 0.17715992 0.18002949]\n"
     ]
    }
   ],
   "source": [
    "# OPTIONAL: does not need to be executed\n",
    "mean, std = dm.calculate_train_mean_and_std(resize_min_size=256, img_dataset=syn_img_dataset)\n",
    "print(\"Mean: \" + str(mean))\n",
    "print(\"Std: \" + str(std))"
   ]
  },
  {
   "cell_type": "markdown",
   "id": "138f0478",
   "metadata": {},
   "source": [
    "Getting mean and std for real dataset"
   ]
  },
  {
   "cell_type": "code",
   "execution_count": null,
   "id": "1ba952e8",
   "metadata": {},
   "outputs": [
    {
     "name": "stdout",
     "output_type": "stream",
     "text": [
      "Mean: [0.45215473 0.39806145 0.31654662]\n",
      "Std: [0.26077601 0.25441129 0.25139287]\n"
     ]
    }
   ],
   "source": [
    "# OPTIONAL: does not need to be executed\n",
    "mean, std = dm.calculate_train_mean_and_std(resize_min_size=256, img_dataset=real_img_dataset)\n",
    "print(\"Mean: \" + str(mean))\n",
    "print(\"Std: \" + str(std))"
   ]
  },
  {
   "cell_type": "markdown",
   "id": "f01fcd0d",
   "metadata": {},
   "source": [
    "Getting mean and std for merged dataset"
   ]
  },
  {
   "cell_type": "code",
   "execution_count": 7,
   "id": "f00ad4eb",
   "metadata": {},
   "outputs": [
    {
     "name": "stdout",
     "output_type": "stream",
     "text": [
      "Mean: [0.28954191 0.29725961 0.31696455]\n",
      "Std: [0.18010984 0.18290568 0.18407021]\n"
     ]
    }
   ],
   "source": [
    "# OPTIONAL: does not need to be executed\n",
    "mean, std = dm.calculate_train_mean_and_std(resize_min_size=256, img_dataset=merged_dataset)\n",
    "print(\"Mean: \" + str(mean))\n",
    "print(\"Std: \" + str(std))"
   ]
  },
  {
   "cell_type": "markdown",
   "id": "143a1cdb",
   "metadata": {},
   "source": [
    "Global transform pipeline"
   ]
  },
  {
   "cell_type": "code",
   "execution_count": 6,
   "id": "ed4873b1",
   "metadata": {},
   "outputs": [],
   "source": [
    "# Coming from cell above\n",
    "mean=(0.28954191, 0.29725961, 0.31696455)\n",
    "std=(0.18010984, 0.18290568, 0.18407021)\n",
    "train_transform = transforms.Compose([\n",
    "    transforms.Resize(256, transforms.InterpolationMode.BICUBIC),\n",
    "    transforms.RandomCrop(224),\n",
    "    transforms.RandomHorizontalFlip(),\n",
    "    transforms.RandomPerspective(),\n",
    "    transforms.ToTensor(),\n",
    "    transforms.Normalize(mean=mean, std=std)\n",
    "])\n",
    "\n",
    "val_and_test_transform = transforms.Compose([\n",
    "    transforms.Resize(256, transforms.InterpolationMode.BICUBIC),\n",
    "    transforms.CenterCrop(224),            \n",
    "    transforms.RandomHorizontalFlip(),\n",
    "    transforms.ToTensor(),\n",
    "    transforms.Normalize(mean=mean, std=std)\n",
    "])\n",
    "\n",
    "dm.set_train_trasform(train_transform)\n",
    "dm.set_val_trasform(val_and_test_transform)"
   ]
  },
  {
   "cell_type": "markdown",
   "id": "d6885775",
   "metadata": {},
   "source": [
    "Training"
   ]
  },
  {
   "cell_type": "code",
   "execution_count": null,
   "id": "acef2605",
   "metadata": {},
   "outputs": [],
   "source": [
    "from scripts.models.custom_resnet_model import CustomResNetModule\n",
    "\n",
    "lr=1e-4\n",
    "model = DomainAdaptationGRLTask(\n",
    "    model=CustomResNetModule(\n",
    "        resnet_model=global_resnet_model,\n",
    "        num_classes=16\n",
    "    ),\n",
    "    lr=lr\n",
    ")\n",
    "\n",
    "# Initialize logger\n",
    "logger = TensorBoardLogger(\n",
    "    save_dir=os.path.join(\"tb_logs\", global_log_dir, \"feature_level_adapt\"), \n",
    "    name=\"gradient_reversal_layer\", \n",
    "    version=global_resnet_model_name + \"_data_agu_rand_prosp_jitter_lr_\" + str(lr))\n",
    "\n",
    "val_checkpoint_callback = pl.callbacks.ModelCheckpoint(\n",
    "    filename=\"{epoch}-{step}-{validation/accuracy:.1f}\",\n",
    "    monitor=\"validation/accuracy\",\n",
    "    mode=\"max\",\n",
    "    save_top_k=1,\n",
    "    auto_insert_metric_name=False      \n",
    ")\n",
    "latest_checkpoint_callback = pl.callbacks.ModelCheckpoint(\n",
    "    filename=\"latest-{epoch}-{step}\",\n",
    "    monitor=\"step\",\n",
    "    mode=\"max\",\n",
    "    every_n_train_steps=500,\n",
    "    save_top_k=1     \n",
    ")\n",
    "\n",
    "# Initialize a trainer\n",
    "trainer = pl.Trainer(max_epochs=NUM_EPOCHS,\n",
    "                     accelerator=system_accelerator,\n",
    "                     devices=1,\n",
    "                     logger=logger,\n",
    "                     callbacks=[ val_checkpoint_callback, latest_checkpoint_callback],\n",
    "                     )\n",
    "\n",
    "# Train the model \n",
    "trainer.fit(model, dm)\n",
    "\n",
    "# resume checkpoints\n",
    "# trainer.fit(model, dm, ckpt_path=os.path.join(os.getcwd(), \"tb_logs\", \"Official_Training\", \"feature_level_adapt\", \"gradient_reversal_layer\", \"resnet18_lr_0.0001\", \"checkpoints\" , \"latest-epoch=17-step=16500.ckpt\"))"
   ]
  },
  {
   "cell_type": "markdown",
   "id": "e99d706d",
   "metadata": {},
   "source": [
    "##### 3.1.2 Testing"
   ]
  },
  {
   "attachments": {},
   "cell_type": "markdown",
   "id": "bef702ff",
   "metadata": {},
   "source": [
    "Testing on synthetic dataset"
   ]
  },
  {
   "cell_type": "code",
   "execution_count": 6,
   "id": "e49bec1d",
   "metadata": {},
   "outputs": [
    {
     "name": "stdout",
     "output_type": "stream",
     "text": [
      "Dataset setup\n",
      "Dataset applying filter\n"
     ]
    }
   ],
   "source": [
    "print(\"Dataset setup\")\n",
    "dm = CulturalSiteDataModule(\n",
    "    batch_size=8, \n",
    "    dataset_type=CulturalSiteDataModule.SYNTHETIC_DATASET, \n",
    "    num_classes=16, \n",
    "    num_workers=6)\n",
    "dm.setup(CulturalSiteDataModule.TEST_STAGE)\n",
    "\n",
    "print(\"Dataset applying filter\")\n",
    "pixel_threshold = 30\n",
    "dm.filter_test(pixel_threshold)"
   ]
  },
  {
   "cell_type": "code",
   "execution_count": 7,
   "id": "706a60e1",
   "metadata": {},
   "outputs": [],
   "source": [
    "# Coming from merged filtered\n",
    "mean=(0.28954191, 0.29725961, 0.31696455)\n",
    "std=(0.18010984, 0.18290568, 0.18407021)\n",
    "test_transform = transforms.Compose([\n",
    "    transforms.Resize(256, transforms.InterpolationMode.BICUBIC),\n",
    "    transforms.CenterCrop(224),            \n",
    "    transforms.RandomHorizontalFlip(),\n",
    "    transforms.ToTensor(),\n",
    "    transforms.Normalize(mean=mean, std=std)\n",
    "])\n",
    "dm.set_test_trasform(test_transform)"
   ]
  },
  {
   "cell_type": "code",
   "execution_count": null,
   "id": "7e736f23",
   "metadata": {},
   "outputs": [],
   "source": [
    "# Evaluate the model on the held-out test set \n",
    "trainer = pl.Trainer(accelerator=system_accelerator)\n",
    "model = DomainAdaptationGRLTask(\n",
    "    model=CustomResNetModule(\n",
    "        resnet_model=global_resnet_model,\n",
    "        num_classes=16\n",
    "    ))\n",
    "        \n",
    "trainer.test(\n",
    "    model=model,\n",
    "    dataloaders=dm.test_dataloader(), \n",
    "    ckpt_path=os.path.join(os.getcwd(), \"tb_logs\", \"Official_Training\", \"feature_level_adapt\", \"gradient_reversal_layer\", \"resnet18_lr_0.0001\", \"checkpoints\" , \"latest-epoch=49-step=46500.ckpt\"))"
   ]
  },
  {
   "cell_type": "markdown",
   "id": "83cbd187",
   "metadata": {},
   "source": [
    "Testing on real dataset"
   ]
  },
  {
   "cell_type": "code",
   "execution_count": null,
   "id": "e49bec1d",
   "metadata": {},
   "outputs": [],
   "source": [
    "print(\"Dataset setup\")\n",
    "dm = CulturalSiteDataModule(\n",
    "    batch_size=8, \n",
    "    dataset_type=CulturalSiteDataModule.REAL_DATASET, \n",
    "    num_classes=16, \n",
    "    num_workers=6)\n",
    "dm.setup(CulturalSiteDataModule.TEST_STAGE)\n",
    "\n",
    "print(\"Dataset applying filter\")\n",
    "pixel_threshold = 30\n",
    "dm.filter_test(pixel_threshold)"
   ]
  },
  {
   "cell_type": "code",
   "execution_count": 9,
   "id": "706a60e1",
   "metadata": {},
   "outputs": [],
   "source": [
    "# Coming from baseline case 3 oracle\n",
    "mean=(0.28954191, 0.29725961, 0.31696455)\n",
    "std=(0.18010984, 0.18290568, 0.18407021)\n",
    "test_transform = transforms.Compose([\n",
    "    transforms.Resize(256, transforms.InterpolationMode.BICUBIC),\n",
    "    transforms.CenterCrop(224),            \n",
    "    transforms.RandomHorizontalFlip(),\n",
    "    transforms.ToTensor(),\n",
    "    transforms.Normalize(mean=mean, std=std)\n",
    "])\n",
    "dm.set_test_trasform(test_transform)"
   ]
  },
  {
   "cell_type": "code",
   "execution_count": null,
   "id": "7e736f23",
   "metadata": {},
   "outputs": [],
   "source": [
    "# Evaluate the model on the held-out test set \n",
    "trainer = pl.Trainer(accelerator=system_accelerator)\n",
    "model = DomainAdaptationGRLTask(\n",
    "    model=CustomResNetModule(\n",
    "        resnet_model=global_resnet_model,\n",
    "        num_classes=16\n",
    "    ))\n",
    "        \n",
    "trainer.test(\n",
    "    model=model,\n",
    "    dataloaders=dm.test_dataloader(), \n",
    "    ckpt_path=os.path.join(os.getcwd(), \"tb_logs\", \"feature_level\", \"DomainAdaptationGRLTask_0_lr_0.0001\", \"checkpoints\" , \"latest-epoch=0-step=500.ckpt\"))"
   ]
  },
  {
   "cell_type": "markdown",
   "id": "e9d0d185",
   "metadata": {},
   "source": [
    "##### 3.1.3 Result"
   ]
  },
  {
   "attachments": {},
   "cell_type": "markdown",
   "id": "afcc65e0",
   "metadata": {},
   "source": [
    "![GRL](docs/GRL_1.jpg)"
   ]
  },
  {
   "attachments": {},
   "cell_type": "markdown",
   "id": "43608a88",
   "metadata": {},
   "source": [
    "|   Model             | Learning Rate | Accuracy (Synthetic)   | Accuracy (Real)   | Epochs |\n",
    "|:-------------------:|:-------------:|:----------------------:|:-----------------:|:------:|\n",
    "| ResNet18            |   1e-4        |   10.54%               |   12.63%          |   5    |\n",
    "| ResNet50            |   1e-4        |   12.05%               |    9.95%          |   4    |\n",
    "| ResNet18            |   3.5e-05     |   13.89%               |   11.43%          |   50   |\n",
    "| ResNet18 Pretrained |   3.5e-05     |   54.60%               |   64.65%          |   50   |"
   ]
  },
  {
   "cell_type": "markdown",
   "id": "d71a8719",
   "metadata": {},
   "source": [
    "#### 2.3.2 Adversarial Domain Adaptation (ADDA)"
   ]
  },
  {
   "attachments": {},
   "cell_type": "markdown",
   "id": "3f91f5fc",
   "metadata": {},
   "source": [
    "![Adda schema](docs/adda_schema.png)"
   ]
  },
  {
   "cell_type": "markdown",
   "id": "12e72139",
   "metadata": {},
   "source": [
    "Defining ADDA task"
   ]
  },
  {
   "cell_type": "code",
   "execution_count": 3,
   "id": "f0b6e175",
   "metadata": {},
   "outputs": [],
   "source": [
    "from scripts.models.custom_resnet_model import CustomResNetModule\n",
    "from scripts.ADDA.discriminator import Discriminator\n",
    "\n",
    "class ADDATask(pl.LightningModule):\n",
    "\n",
    "    def __init__(self, source_model, resnet_model, num_classes, lr=1e-3): # ResNetModule loaded from ckpy\n",
    "        super(ADDATask, self).__init__() \n",
    "        self.lr = lr\n",
    "        self.source_model = source_model\n",
    "        self.target_model = CustomResNetModule(resnet_model=resnet_model, num_classes=num_classes)\n",
    "        self.target_model.load_state_dict(self.source_model.state_dict())\n",
    "        self.target_model = self.target_model.feature_extractor\n",
    "\n",
    "        self.discriminator = Discriminator(self.source_model.classifier[0].in_features)\n",
    "        self.criterion = nn.BCEWithLogitsLoss()\n",
    "\n",
    "        self.accuracy = torchmetrics.Accuracy()\n",
    "\n",
    "    def forward(self,x):\n",
    "        features = self.target_model(x).view(x.shape[0],-1)\n",
    "        return self.source_model.classifier(features)\n",
    "\n",
    "    def configure_optimizers(self):\n",
    "        return torch.optim.Adam(self.discriminator.parameters(), lr=self.lr), torch.optim.Adam(self.target_model.parameters(), lr=self.lr)\n",
    "\n",
    "    def training_step(self, train_batch, batch_idx, optimizer_idx):\n",
    "        source, target, _ = train_batch\n",
    "\n",
    "        if optimizer_idx==0: #train discriminator\n",
    "            source_features = self.source_model.feature_extractor(source).view(source.shape[0], -1)\n",
    "            target_features = self.target_model(target).view(target.shape[0], -1)\n",
    "\n",
    "            discriminator_x = torch.cat([source_features, target_features])\n",
    "            discriminator_y = torch.cat([torch.ones(source.shape[0]).type_as(source), torch.zeros(target.shape[0]).type_as(source)])\n",
    "\n",
    "            preds = self.discriminator(discriminator_x).squeeze()\n",
    "            loss = self.criterion(preds, discriminator_y)\n",
    "\n",
    "            self.log('training/d_loss', loss)\n",
    "\n",
    "            return loss\n",
    "\n",
    "        else: #train generator\n",
    "            target_features = self.target_model(target).view(target.shape[0], -1)\n",
    "\n",
    "            # flipped labels\n",
    "            discriminator_y = torch.ones(target.shape[0]).type_as(source)\n",
    "\n",
    "            preds = self.discriminator(target_features).squeeze()\n",
    "            loss = self.criterion(preds, discriminator_y)\n",
    "\n",
    "            self.log('training/g_loss', loss)\n",
    "\n",
    "            return loss\n",
    "\n",
    "    def validation_step(self, batch, batch_idx):        \n",
    "        x,y = batch        \n",
    "        preds = self.forward(x)        \n",
    "        self.accuracy(torch.argmax(preds, dim=1), y)\n",
    "        self.log('validation/accuracy', self.accuracy, on_epoch=True)\n",
    "        \n",
    "    def test_step(self, batch, batch_idx):        \n",
    "        x,y = batch\n",
    "        preds = self.forward(x)\n",
    "        self.accuracy(torch.argmax(preds, dim=1), y)\n",
    "        self.log('test/accuracy', self.accuracy, on_epoch=True)\n"
   ]
  },
  {
   "cell_type": "markdown",
   "id": "75a82b0d",
   "metadata": {},
   "source": [
    "##### 2.3.2.1 Training"
   ]
  },
  {
   "cell_type": "markdown",
   "id": "5bbfcfe6",
   "metadata": {},
   "source": [
    "Dataset Setup"
   ]
  },
  {
   "cell_type": "code",
   "execution_count": null,
   "id": "fbb6a968",
   "metadata": {},
   "outputs": [],
   "source": [
    "from scripts.dataset.GRL.data_module_GRL import CulturalSiteDataModuleGRL\n",
    "\n",
    "print(\"Dataset setup\")\n",
    "dm = CulturalSiteDataModuleGRL(\n",
    "    batch_size=32, \n",
    "    num_workers=6)\n",
    "dm.setup(CulturalSiteDataModuleGRL.ALL_STAGE)\n",
    "\n",
    "print(\"Dataset applying filter\")\n",
    "pixel_threshold = 30\n",
    "dm.filter_train(pixel_threshold)\n",
    "dm.filter_val(pixel_threshold)"
   ]
  },
  {
   "cell_type": "markdown",
   "id": "9032da4d",
   "metadata": {},
   "source": [
    "Normalization"
   ]
  },
  {
   "cell_type": "markdown",
   "id": "9ddeebe4",
   "metadata": {},
   "source": [
    " Using zero-mean-nomalization, the cells below calculate mean and std for individual or merged datasets to implement a case of study where:\n",
    "1. normalization using individual mean and std\n",
    "2. normalization using global mean and std"
   ]
  },
  {
   "cell_type": "code",
   "execution_count": null,
   "id": "44112d2a",
   "metadata": {},
   "outputs": [],
   "source": [
    "syn_img_dataset = np.array(dm.cultural_site_train.get_syn_image_dataset())[:,1]\n",
    "real_img_dataset = np.array(dm.cultural_site_train.get_real_image_dataset())[:,1]\n",
    "merged_dataset = np.concatenate((syn_img_dataset, real_img_dataset))"
   ]
  },
  {
   "cell_type": "markdown",
   "id": "0a5247ad",
   "metadata": {},
   "source": [
    "Getting mean and std for synthetic dataset"
   ]
  },
  {
   "cell_type": "code",
   "execution_count": null,
   "id": "d22437c7",
   "metadata": {},
   "outputs": [
    {
     "name": "stdout",
     "output_type": "stream",
     "text": [
      "Mean: [0.28162546 0.29239721 0.31711673]\n",
      "Std: [0.17125229 0.17715992 0.18002949]\n"
     ]
    }
   ],
   "source": [
    "# OPTIONAL: does not need to be executed\n",
    "mean, std = dm.calculate_train_mean_and_std(resize_min_size=256, img_dataset=syn_img_dataset)\n",
    "print(\"Mean: \" + str(mean))\n",
    "print(\"Std: \" + str(std))"
   ]
  },
  {
   "cell_type": "markdown",
   "id": "138f0478",
   "metadata": {},
   "source": [
    "Getting mean and std for real dataset"
   ]
  },
  {
   "cell_type": "code",
   "execution_count": null,
   "id": "1ba952e8",
   "metadata": {},
   "outputs": [
    {
     "name": "stdout",
     "output_type": "stream",
     "text": [
      "Mean: [0.45215473 0.39806145 0.31654662]\n",
      "Std: [0.26077601 0.25441129 0.25139287]\n"
     ]
    }
   ],
   "source": [
    "# OPTIONAL: does not need to be executed\n",
    "mean, std = dm.calculate_train_mean_and_std(resize_min_size=256, img_dataset=real_img_dataset)\n",
    "print(\"Mean: \" + str(mean))\n",
    "print(\"Std: \" + str(std))"
   ]
  },
  {
   "cell_type": "markdown",
   "id": "f01fcd0d",
   "metadata": {},
   "source": [
    "Getting mean and std for merged dataset"
   ]
  },
  {
   "cell_type": "code",
   "execution_count": null,
   "id": "f00ad4eb",
   "metadata": {},
   "outputs": [
    {
     "name": "stdout",
     "output_type": "stream",
     "text": [
      "Mean: [0.28954191 0.29725961 0.31696455]\n",
      "Std: [0.18010984 0.18290568 0.18407021]\n"
     ]
    }
   ],
   "source": [
    "# OPTIONAL: does not need to be executed\n",
    "mean, std = dm.calculate_train_mean_and_std(resize_min_size=256, img_dataset=merged_dataset)\n",
    "print(\"Mean: \" + str(mean))\n",
    "print(\"Std: \" + str(std))"
   ]
  },
  {
   "cell_type": "markdown",
   "id": "143a1cdb",
   "metadata": {},
   "source": [
    "Global transform pipeline"
   ]
  },
  {
   "cell_type": "code",
   "execution_count": 5,
   "id": "ed4873b1",
   "metadata": {},
   "outputs": [],
   "source": [
    "# Coming from cell above\n",
    "mean=(0.28954191, 0.29725961, 0.31696455)\n",
    "std=(0.18010984, 0.18290568, 0.18407021)\n",
    "train_transform = transforms.Compose([\n",
    "    transforms.Resize(256, transforms.InterpolationMode.BICUBIC),\n",
    "    transforms.RandomCrop(224),\n",
    "    transforms.RandomHorizontalFlip(),\n",
    "    transforms.ToTensor(),\n",
    "    transforms.Normalize(mean=mean, std=std)\n",
    "])\n",
    "\n",
    "val_and_test_transform = transforms.Compose([\n",
    "    transforms.Resize(256, transforms.InterpolationMode.BICUBIC),\n",
    "    transforms.CenterCrop(224),            \n",
    "    transforms.RandomHorizontalFlip(),\n",
    "    transforms.ToTensor(),\n",
    "    transforms.Normalize(mean=mean, std=std)\n",
    "])\n",
    "\n",
    "dm.set_train_trasform(train_transform)\n",
    "dm.set_val_trasform(val_and_test_transform)"
   ]
  },
  {
   "cell_type": "markdown",
   "id": "acf05b9c",
   "metadata": {},
   "source": [
    "Training"
   ]
  },
  {
   "cell_type": "code",
   "execution_count": null,
   "id": "464cec89",
   "metadata": {},
   "outputs": [],
   "source": [
    "lr=4e-3\n",
    "source_model = CustomResNetModule.load_from_checkpoint(\n",
    "    os.path.join(os.getcwd(), \"tb_logs\", \"Official_Training\", \"filtered_train\", \"resnet18_lr_0.0001\", \"checkpoints\" , \"34-32866-0.1.ckpt\"),\n",
    "    resnet_model=global_resnet_model)\n",
    "model = ADDATask(source_model=source_model, resnet_model=models.resnet18(pretrained=False), num_classes=16, lr=lr)\n",
    "\n",
    "# Initialize logger\n",
    "logger = TensorBoardLogger(\n",
    "    save_dir=os.path.join(\"tb_logs\", global_log_dir, \"feature_level_adapt\"), \n",
    "    name=\"ADDA\", \n",
    "    version=global_resnet_model_name + \"_lr_\" + str(lr))\n",
    "\n",
    "val_checkpoint_callback = pl.callbacks.ModelCheckpoint(\n",
    "    filename=\"{epoch}-{step}-{validation/accuracy:.1f}\",\n",
    "    monitor=\"validation/accuracy\",\n",
    "    mode=\"max\",\n",
    "    save_top_k=1,\n",
    "    auto_insert_metric_name=False      \n",
    ")\n",
    "latest_checkpoint_callback = pl.callbacks.ModelCheckpoint(\n",
    "    filename=\"latest-{epoch}-{step}\",\n",
    "    monitor=\"step\",\n",
    "    mode=\"max\",\n",
    "    every_n_train_steps=500,\n",
    "    save_top_k=1      \n",
    ")\n",
    "\n",
    "# Initialize a trainer\n",
    "trainer = pl.Trainer(max_epochs=-1,\n",
    "                     accelerator=system_accelerator, \n",
    "                     devices=1,\n",
    "                     logger=logger,\n",
    "                     callbacks=[ val_checkpoint_callback, latest_checkpoint_callback],\n",
    "                     )\n",
    "\n",
    "# Train the model \n",
    "trainer.fit(model, dm)\n",
    "\n",
    "# resume checkpoints\n",
    "# trainer.fit(model, dm, ckpt_path=os.path.join(os.getcwd(), \"tb_logs\", \"image_to_image_translation\", \"CycleGANResNetModule_0_lr_0.0001\", \"checkpoints\" , \"latest-epoch=7-step=29000.ckpt\"))"
   ]
  },
  {
   "attachments": {},
   "cell_type": "markdown",
   "id": "e99d706d",
   "metadata": {},
   "source": [
    "##### 2.3.1.2 Testing"
   ]
  },
  {
   "attachments": {},
   "cell_type": "markdown",
   "id": "bef702ff",
   "metadata": {},
   "source": [
    "Testing on synthetic dataset"
   ]
  },
  {
   "cell_type": "code",
   "execution_count": 3,
   "id": "e49bec1d",
   "metadata": {},
   "outputs": [
    {
     "name": "stdout",
     "output_type": "stream",
     "text": [
      "Dataset setup\n",
      "Dataset applying filter\n"
     ]
    }
   ],
   "source": [
    "print(\"Dataset setup\")\n",
    "dm = CulturalSiteDataModule(\n",
    "    batch_size=32, \n",
    "    dataset_type=CulturalSiteDataModule.SYNTHETIC_DATASET, \n",
    "    num_classes=16, \n",
    "    num_workers=6)\n",
    "dm.setup(CulturalSiteDataModule.TEST_STAGE)\n",
    "\n",
    "print(\"Dataset applying filter\")\n",
    "pixel_threshold = 30\n",
    "dm.filter_test(pixel_threshold)"
   ]
  },
  {
   "cell_type": "code",
   "execution_count": 4,
   "id": "706a60e1",
   "metadata": {},
   "outputs": [],
   "source": [
    "# Coming from cell above\n",
    "mean=(0.28954191, 0.29725961, 0.31696455)\n",
    "std=(0.18010984, 0.18290568, 0.18407021)\n",
    "test_transform = transforms.Compose([\n",
    "    transforms.Resize(256, transforms.InterpolationMode.BICUBIC),\n",
    "    transforms.CenterCrop(224),            \n",
    "    transforms.RandomHorizontalFlip(),\n",
    "    transforms.ToTensor(),\n",
    "    transforms.Normalize(mean=mean, std=std)\n",
    "])\n",
    "dm.set_test_trasform(test_transform)"
   ]
  },
  {
   "cell_type": "code",
   "execution_count": null,
   "id": "7e736f23",
   "metadata": {},
   "outputs": [],
   "source": [
    "# Evaluate the model on the held-out test set \n",
    "source_model = CustomResNetModule.load_from_checkpoint(\n",
    "    os.path.join(os.getcwd(), \"tb_logs\", \"filtered_train\", \"CustomResNet_0_lr_0.0001\", \"checkpoints\" , \"latest-epoch=0-step=500.ckpt\"),\n",
    "    resnet_model=global_resnet_model)\n",
    "model = ADDATask(source_model=source_model, resnet_model=global_resnet_model, num_classes=16)\n",
    "\n",
    "trainer = pl.Trainer(accelerator=system_accelerator)\n",
    "        \n",
    "trainer.test(\n",
    "    model=model,\n",
    "    dataloaders=dm.test_dataloader(), \n",
    "    ckpt_path=os.path.join(os.getcwd(), \"tb_logs\", \"feature_level\", \"ADDATask_0_lr_0.001\", \"checkpoints\" , \"latest-epoch=0-step=500.ckpt\"))"
   ]
  },
  {
   "cell_type": "markdown",
   "id": "0d6cce89",
   "metadata": {},
   "source": [
    "Testing on real dataset"
   ]
  },
  {
   "cell_type": "code",
   "execution_count": null,
   "id": "e49bec1d",
   "metadata": {},
   "outputs": [],
   "source": [
    "print(\"Dataset setup\")\n",
    "dm = CulturalSiteDataModule(\n",
    "    batch_size=8, \n",
    "    dataset_type=CulturalSiteDataModule.REAL_DATASET, \n",
    "    num_classes=16, \n",
    "    num_workers=6)\n",
    "dm.setup(CulturalSiteDataModule.TEST_STAGE)\n",
    "\n",
    "print(\"Dataset applying filter\")\n",
    "pixel_threshold = 30\n",
    "dm.filter_test(pixel_threshold)"
   ]
  },
  {
   "cell_type": "code",
   "execution_count": 9,
   "id": "706a60e1",
   "metadata": {},
   "outputs": [],
   "source": [
    "# Coming from cell above\n",
    "mean=(0.28954191, 0.29725961, 0.31696455)\n",
    "std=(0.18010984, 0.18290568, 0.18407021)\n",
    "test_transform = transforms.Compose([\n",
    "    transforms.Resize(256, transforms.InterpolationMode.BICUBIC),\n",
    "    transforms.CenterCrop(224),            \n",
    "    transforms.RandomHorizontalFlip(),\n",
    "    transforms.ToTensor(),\n",
    "    transforms.Normalize(mean=mean, std=std)\n",
    "])\n",
    "dm.set_test_trasform(test_transform)"
   ]
  },
  {
   "cell_type": "code",
   "execution_count": null,
   "id": "7e736f23",
   "metadata": {},
   "outputs": [],
   "source": [
    "# Evaluate the model on the held-out test set \n",
    "source_model = CustomResNetModule.load_from_checkpoint(\n",
    "    os.path.join(os.getcwd(), \"tb_logs\", \"filtered_train\", \"CustomResNet_0_lr_0.0001\", \"checkpoints\" , \"latest-epoch=0-step=500.ckpt\"),\n",
    "    resnet_model=global_resnet_model)\n",
    "model = ADDATask(source_model=source_model, resnet_model=global_resnet_model, num_classes=16)\n",
    "\n",
    "trainer = pl.Trainer(accelerator=system_accelerator)\n",
    "        \n",
    "trainer.test(\n",
    "    model=model,\n",
    "    dataloaders=dm.test_dataloader(), \n",
    "    ckpt_path=os.path.join(os.getcwd(), \"tb_logs\", \"feature_level\", \"ADDATask_0_lr_0.001\", \"checkpoints\" , \"latest-epoch=0-step=500.ckpt\"))"
   ]
  },
  {
   "cell_type": "markdown",
   "id": "07b88c2b",
   "metadata": {},
   "source": [
    "##### 2.3.2.3 Result"
   ]
  },
  {
   "attachments": {},
   "cell_type": "markdown",
   "id": "adb0c626",
   "metadata": {},
   "source": [
    "![Alt text](docs/ADDA.jpg)"
   ]
  },
  {
   "attachments": {},
   "cell_type": "markdown",
   "id": "bf9891b5",
   "metadata": {},
   "source": [
    "|   Model  | Learning Rate | Accuracy (synthetic)   | Accuracy (Real)   | Epochs    |\n",
    "|:--------:|:-------------:|:----------------------:|:-----------------:|:---------:|\n",
    "| ResNet18 |   1e-4        |   12.26%               |   16.94%          |    40     |\n",
    "| ResNet18 |   3.5e-05     |   11.93%               |   14.25%          |    50     |\n",
    "| ResNet50 |   1e-4        |    9.11%               |   16.53%          |    50     |\n",
    "| ResNet50 |   3.5e-05     |   11.81%               |   18.28%          |    50     |"
   ]
  },
  {
   "cell_type": "markdown",
   "id": "a92dee1c",
   "metadata": {},
   "source": [
    "### 2.4 Combining Image-to-image translation and Feature-level domain adaptation"
   ]
  },
  {
   "attachments": {},
   "cell_type": "markdown",
   "id": "1fe6b98b",
   "metadata": {},
   "source": [
    "In this case, it was decided to combine the two approaches presented in sections 2.2 and 2.3. The goal is to bring the two domains closer together before feature extraction."
   ]
  },
  {
   "cell_type": "markdown",
   "id": "4625fb47",
   "metadata": {},
   "source": [
    "#### 2.4.1 Training ResNet (CycleGAN -> Gradient Reversal Layer -> ResNet)"
   ]
  },
  {
   "attachments": {},
   "cell_type": "markdown",
   "id": "41bcb3fc",
   "metadata": {},
   "source": [
    "Images are translated using CycleGAN while they are given as input to the feature extractor, thus bringing the two source and target domains even closer together."
   ]
  },
  {
   "cell_type": "markdown",
   "id": "bbe4941a",
   "metadata": {},
   "source": [
    "##### 2.4.1.1 Model"
   ]
  },
  {
   "cell_type": "code",
   "execution_count": 1,
   "id": "5983f065",
   "metadata": {},
   "outputs": [],
   "source": [
    "NUM_EPOCHS = 50"
   ]
  },
  {
   "cell_type": "code",
   "execution_count": 8,
   "id": "92e17152",
   "metadata": {},
   "outputs": [],
   "source": [
    "from scripts.GRL.domain_discriminator import DomainDiscriminatorGRL\n",
    "import numpy as np\n",
    "import torch.nn.functional as F\n",
    "from scripts.CycleGAN.model import CycleGAN\n",
    "\n",
    "class CycleGANGRLTask(pl.LightningModule):\n",
    "    def __init__(self, model, cycle_GAN_ckpt_path, lr=1e-3):\n",
    "        super(CycleGANGRLTask, self).__init__() \n",
    "        self.lr = lr\n",
    "        self.cycleGAN_model = CycleGAN.load_from_checkpoint(cycle_GAN_ckpt_path)\n",
    "        self.cycleGAN_model.eval()\n",
    "        \n",
    "        self.model = model\n",
    "        self.discriminator = DomainDiscriminatorGRL(in_features=model.in_features)\n",
    "\n",
    "        self.val_acc =  torchmetrics.Accuracy()\n",
    "        self.test_acc =  torchmetrics.Accuracy()\n",
    "\n",
    "    def forward(self,x):\n",
    "        return self.model(x)\n",
    "\n",
    "    def configure_optimizers(self):\n",
    "        return torch.optim.Adam(list(self.model.parameters()) + list(self.discriminator.parameters()), lr=self.lr)\n",
    "\n",
    "    def training_step(self, train_batch, batch_idx):\n",
    "        source, target, labels = train_batch\n",
    "\n",
    "        fake_B_source = self.cycleGAN_model(source, CycleGAN.A2B)\n",
    "        source_features = self.model.feature_extractor(fake_B_source).view(fake_B_source.shape[0], -1)\n",
    "        target_features = self.model.feature_extractor(target).view(target.shape[0], -1)\n",
    "        label_preds = self.model.classifier(source_features)\n",
    "\n",
    "        # getting lambda val using original paper, from 0 to 1 following this formula\n",
    "        l=2/(1+np.exp(-10*self.current_epoch/NUM_EPOCHS)) - 1\n",
    "\n",
    "        domain_preds_source = self.discriminator(source_features, l)\n",
    "        domain_preds_target = self.discriminator(target_features, l)\n",
    "        domain_preds = torch.cat([domain_preds_source, domain_preds_target],0)\n",
    "\n",
    "        source_acc = (torch.sigmoid(domain_preds_source)<0.5).float().mean()\n",
    "        target_acc = (torch.sigmoid(domain_preds_target)>=0.5).float().mean()\n",
    "        acc = (source_acc+target_acc)/2\n",
    "\n",
    "        source_targets = torch.zeros(source.shape[0],1)\n",
    "        target_targets = torch.ones(target.shape[0],1)\n",
    "        domain_targets = torch.cat([source_targets, target_targets],0).type_as(source)\n",
    "\n",
    "        label_loss = F.cross_entropy(label_preds, labels)\n",
    "        domain_loss = F.binary_cross_entropy_with_logits(domain_preds, domain_targets)\n",
    "        loss = domain_loss + label_loss\n",
    "\n",
    "        self.log('train/domain_loss', domain_loss)\n",
    "        self.log('train/label_loss', label_loss)\n",
    "        self.log('train/loss', loss)\n",
    "        self.log('train/disc_source_acc',source_acc)\n",
    "        self.log('train/disc_target_acc',target_acc)\n",
    "        self.log('train/disc_acc',acc)\n",
    "        return loss\n",
    "\n",
    "    def validation_step(self, batch, batch_idx):        \n",
    "        x,y = batch        \n",
    "        preds = self.forward(x)        \n",
    "        label_loss = F.cross_entropy(preds, y)\n",
    "        self.val_acc(torch.argmax(preds, dim=1), y)\n",
    "\n",
    "        self.log('validation/label_loss', label_loss)\n",
    "        self.log('validation/accuracy', self.val_acc, on_epoch=True)\n",
    "        \n",
    "    def test_step(self, batch, batch_idx):        \n",
    "        x,y = batch\n",
    "        preds = self.forward(x)\n",
    "        self.test_acc(torch.argmax(preds, dim=1), y)\n",
    "        \n",
    "        self.log('test/accuracy', self.test_acc, on_epoch=True)"
   ]
  },
  {
   "cell_type": "markdown",
   "id": "d801c076",
   "metadata": {},
   "source": [
    "##### 2.4.1.2 Training"
   ]
  },
  {
   "cell_type": "code",
   "execution_count": null,
   "id": "fbb6a968",
   "metadata": {},
   "outputs": [],
   "source": [
    "from scripts.dataset.GRL.data_module_GRL import CulturalSiteDataModuleGRL\n",
    "\n",
    "print(\"Dataset setup\")\n",
    "dm = CulturalSiteDataModuleGRL(\n",
    "    batch_size=8, \n",
    "    num_workers=6)\n",
    "dm.setup(CulturalSiteDataModuleGRL.FIT_STAGE)\n",
    "\n",
    "print(\"Dataset applying filter\")\n",
    "pixel_threshold = 30\n",
    "dm.filter_train(pixel_threshold)\n",
    "dm.filter_val(pixel_threshold)"
   ]
  },
  {
   "cell_type": "markdown",
   "id": "9032da4d",
   "metadata": {},
   "source": [
    "Normalization"
   ]
  },
  {
   "cell_type": "markdown",
   "id": "9ddeebe4",
   "metadata": {},
   "source": [
    "Using zero-mean-nomalization, the cells below calculate mean and std for individual or merged datasets to implement a case of study where:\n",
    "1. normalization using individual mean and std\n",
    "2. normalization using global mean and std"
   ]
  },
  {
   "cell_type": "code",
   "execution_count": null,
   "id": "44112d2a",
   "metadata": {},
   "outputs": [],
   "source": [
    "syn_img_dataset = np.array(dm.cultural_site_train.get_syn_image_dataset())[:,1]\n",
    "real_img_dataset = np.array(dm.cultural_site_train.get_real_image_dataset())[:,1]\n",
    "merged_dataset = np.concatenate((syn_img_dataset, real_img_dataset))"
   ]
  },
  {
   "cell_type": "markdown",
   "id": "0a5247ad",
   "metadata": {},
   "source": [
    "Getting mean and std for synthetic dataset"
   ]
  },
  {
   "cell_type": "code",
   "execution_count": null,
   "id": "d22437c7",
   "metadata": {},
   "outputs": [
    {
     "name": "stdout",
     "output_type": "stream",
     "text": [
      "Mean: [0.28162546 0.29239721 0.31711673]\n",
      "Std: [0.17125229 0.17715992 0.18002949]\n"
     ]
    }
   ],
   "source": [
    "# OPTIONAL: does not need to be executed\n",
    "mean, std = dm.calculate_train_mean_and_std(resize_min_size=256, img_dataset=syn_img_dataset)\n",
    "print(\"Mean: \" + str(mean))\n",
    "print(\"Std: \" + str(std))"
   ]
  },
  {
   "cell_type": "markdown",
   "id": "138f0478",
   "metadata": {},
   "source": [
    "Getting mean and std for real dataset"
   ]
  },
  {
   "cell_type": "code",
   "execution_count": null,
   "id": "1ba952e8",
   "metadata": {},
   "outputs": [
    {
     "name": "stdout",
     "output_type": "stream",
     "text": [
      "Mean: [0.45215473 0.39806145 0.31654662]\n",
      "Std: [0.26077601 0.25441129 0.25139287]\n"
     ]
    }
   ],
   "source": [
    "# OPTIONAL: does not need to be executed\n",
    "mean, std = dm.calculate_train_mean_and_std(resize_min_size=256, img_dataset=real_img_dataset)\n",
    "print(\"Mean: \" + str(mean))\n",
    "print(\"Std: \" + str(std))"
   ]
  },
  {
   "cell_type": "markdown",
   "id": "f01fcd0d",
   "metadata": {},
   "source": [
    "Getting mean and std for merged dataset"
   ]
  },
  {
   "cell_type": "code",
   "execution_count": null,
   "id": "f00ad4eb",
   "metadata": {},
   "outputs": [
    {
     "name": "stdout",
     "output_type": "stream",
     "text": [
      "Mean: [0.28954191 0.29725961 0.31696455]\n",
      "Std: [0.18010984 0.18290568 0.18407021]\n"
     ]
    }
   ],
   "source": [
    "# OPTIONAL: does not need to be executed\n",
    "mean, std = dm.calculate_train_mean_and_std(resize_min_size=256, img_dataset=merged_dataset)\n",
    "print(\"Mean: \" + str(mean))\n",
    "print(\"Std: \" + str(std))"
   ]
  },
  {
   "cell_type": "markdown",
   "id": "143a1cdb",
   "metadata": {},
   "source": [
    "Global transform pipeline"
   ]
  },
  {
   "cell_type": "code",
   "execution_count": 6,
   "id": "ed4873b1",
   "metadata": {},
   "outputs": [],
   "source": [
    "# Coming from baseline cell above\n",
    "mean=(0.28954191, 0.29725961, 0.31696455)\n",
    "std=(0.18010984, 0.18290568, 0.18407021)\n",
    "train_transform = transforms.Compose([\n",
    "    transforms.Resize(256, transforms.InterpolationMode.BICUBIC),\n",
    "    transforms.RandomCrop(224),\n",
    "    transforms.RandomHorizontalFlip(),\n",
    "    transforms.ToTensor(),\n",
    "    transforms.Normalize(mean=mean, std=std)\n",
    "])\n",
    "\n",
    "val_and_test_transform = transforms.Compose([\n",
    "    transforms.Resize(256, transforms.InterpolationMode.BICUBIC),\n",
    "    transforms.CenterCrop(224),            \n",
    "    transforms.RandomHorizontalFlip(),\n",
    "    transforms.ToTensor(),\n",
    "    transforms.Normalize(mean=mean, std=std)\n",
    "])\n",
    "\n",
    "dm.set_train_trasform(train_transform)\n",
    "dm.set_val_trasform(val_and_test_transform)"
   ]
  },
  {
   "cell_type": "code",
   "execution_count": null,
   "id": "acef2605",
   "metadata": {},
   "outputs": [],
   "source": [
    "lr=1e-4\n",
    "model = CycleGANGRLTask(\n",
    "        model=CustomResNetModule(\n",
    "            resnet_model=global_resnet_model,\n",
    "            num_classes=16\n",
    "        ),\n",
    "        cycle_GAN_ckpt_path=os.path.join(os.getcwd(), \"tb_logs\", \"image_to_image_translation\", \"CycleGAN_2_lr_0.0004\", \"checkpoints\" , \"latest-epoch=8-step=400500.ckpt\"),\n",
    "        lr=lr)\n",
    "\n",
    "# Initialize logger\n",
    "logger = TensorBoardLogger(\n",
    "    save_dir=os.path.join(\"tb_logs\", global_log_dir, \"combined_iti_fl\"), \n",
    "    name=\"CycleGAN_GRLTask\", \n",
    "    version=global_resnet_model_name + \"_lr_\" + str(lr))\n",
    "\n",
    "val_checkpoint_callback = pl.callbacks.ModelCheckpoint(\n",
    "    filename=\"{epoch}-{step}-{validation/accuracy:.1f}\",\n",
    "    monitor=\"validation/accuracy\",\n",
    "    mode=\"max\",\n",
    "    save_top_k=1,  \n",
    "    auto_insert_metric_name=False    \n",
    ")\n",
    "latest_checkpoint_callback = pl.callbacks.ModelCheckpoint(\n",
    "    filename=\"latest-{epoch}-{step}\",\n",
    "    monitor=\"step\",\n",
    "    mode=\"max\",\n",
    "    every_n_train_steps=500,\n",
    "    save_top_k=1       # save just the top\n",
    ")\n",
    "\n",
    "# Initialize a trainer\n",
    "trainer = pl.Trainer(max_epochs=NUM_EPOCHS,\n",
    "                     accelerator=system_accelerator, \n",
    "                     devices=1,\n",
    "                     logger=logger,\n",
    "                     callbacks=[ val_checkpoint_callback, latest_checkpoint_callback],\n",
    "                     )\n",
    "\n",
    "# Train the model \n",
    "trainer.fit(model, dm)\n",
    "\n",
    "# resume checkpoints\n",
    "# trainer.fit(model, dm, ckpt_path=os.path.join(os.getcwd(), \"tb_logs\", \"image_to_image_translation\", \"CycleGANResNetModule_0_lr_0.0001\", \"checkpoints\" , \"latest-epoch=7-step=29000.ckpt\"))"
   ]
  },
  {
   "cell_type": "markdown",
   "id": "2c3b3ea8",
   "metadata": {},
   "source": [
    "##### 2.4.1.3 Testing on synthetic dataset"
   ]
  },
  {
   "cell_type": "code",
   "execution_count": null,
   "id": "e49bec1d",
   "metadata": {},
   "outputs": [],
   "source": [
    "print(\"Dataset setup\")\n",
    "dm = CulturalSiteDataModule(\n",
    "    batch_size=8, \n",
    "    dataset_type=CulturalSiteDataModule.SYNTHETIC_DATASET, \n",
    "    num_classes=16, \n",
    "    num_workers=6)\n",
    "dm.setup(CulturalSiteDataModule.TEST_STAGE)\n",
    "\n",
    "print(\"Dataset applying filter\")\n",
    "pixel_threshold = 30\n",
    "dm.filter_test(pixel_threshold)"
   ]
  },
  {
   "cell_type": "code",
   "execution_count": 12,
   "id": "706a60e1",
   "metadata": {},
   "outputs": [],
   "source": [
    "# Coming from baseline case 3 oracle\n",
    "mean=(0.28954191, 0.29725961, 0.31696455)\n",
    "std=(0.18010984, 0.18290568, 0.18407021)\n",
    "test_transform = transforms.Compose([\n",
    "    transforms.Resize(256, transforms.InterpolationMode.BICUBIC),\n",
    "    transforms.CenterCrop(224),            \n",
    "    transforms.RandomHorizontalFlip(),\n",
    "    transforms.ToTensor(),\n",
    "    transforms.Normalize(mean=mean, std=std)\n",
    "])\n",
    "dm.set_test_trasform(test_transform)"
   ]
  },
  {
   "cell_type": "code",
   "execution_count": null,
   "id": "7e736f23",
   "metadata": {},
   "outputs": [],
   "source": [
    "# Evaluate the model on the held-out test set \n",
    "trainer = pl.Trainer(accelerator=system_accelerator)\n",
    "model = CycleGANGRLTask(\n",
    "        model=CustomResNetModule(\n",
    "            resnet_model=global_resnet_model,\n",
    "            num_classes=16\n",
    "        ),\n",
    "        cycle_GAN_ckpt_path=os.path.join(os.getcwd(), \"tb_logs\", \"image_to_image_translation\", \"CycleGAN_2_lr_0.0004\", \"checkpoints\" , \"latest-epoch=8-step=400500.ckpt\"))\n",
    "        \n",
    "trainer.test(\n",
    "    model=model,\n",
    "    dataloaders=dm.test_dataloader(), \n",
    "    ckpt_path=os.path.join(os.getcwd(), \"tb_logs\", \"cycleGAN_feature_level\", \"CycleGANGRLTask_0_0.0001\", \"checkpoints\" , \"latest-epoch=0-step=1500.ckpt\"))"
   ]
  },
  {
   "cell_type": "markdown",
   "id": "2c3b3ea8",
   "metadata": {},
   "source": [
    "##### 2.4.1.4 Testing on real dataset"
   ]
  },
  {
   "cell_type": "code",
   "execution_count": null,
   "id": "e49bec1d",
   "metadata": {},
   "outputs": [],
   "source": [
    "print(\"Dataset setup\")\n",
    "dm = CulturalSiteDataModule(\n",
    "    batch_size=8, \n",
    "    dataset_type=CulturalSiteDataModule.REAL_DATASET, \n",
    "    num_classes=16, \n",
    "    num_workers=6)\n",
    "dm.setup(CulturalSiteDataModule.TEST_STAGE)\n",
    "\n",
    "print(\"Dataset applying filter\")\n",
    "pixel_threshold = 30\n",
    "dm.filter_test(pixel_threshold)"
   ]
  },
  {
   "cell_type": "code",
   "execution_count": 17,
   "id": "706a60e1",
   "metadata": {},
   "outputs": [],
   "source": [
    "# Coming from baseline case 3 oracle\n",
    "mean=(0.28954191, 0.29725961, 0.31696455)\n",
    "std=(0.18010984, 0.18290568, 0.18407021)\n",
    "test_transform = transforms.Compose([\n",
    "    transforms.Resize(256, transforms.InterpolationMode.BICUBIC),\n",
    "    transforms.CenterCrop(224),            \n",
    "    transforms.RandomHorizontalFlip(),\n",
    "    transforms.ToTensor(),\n",
    "    transforms.Normalize(mean=mean, std=std)\n",
    "])\n",
    "dm.set_test_trasform(test_transform)"
   ]
  },
  {
   "cell_type": "code",
   "execution_count": null,
   "id": "7e736f23",
   "metadata": {},
   "outputs": [],
   "source": [
    "# Evaluate the model on the held-out test set \n",
    "trainer = pl.Trainer(accelerator=system_accelerator)\n",
    "model = CycleGANGRLTask(\n",
    "        model=CustomResNetModule(\n",
    "            resnet_model=global_resnet_model,\n",
    "            num_classes=16\n",
    "        ),\n",
    "        cycle_GAN_ckpt_path=os.path.join(os.getcwd(), \"tb_logs\", \"image_to_image_translation\", \"CycleGAN_2_lr_0.0004\", \"checkpoints\" , \"latest-epoch=8-step=400500.ckpt\"))\n",
    "       \n",
    "        \n",
    "trainer.test(\n",
    "    model=model,\n",
    "    dataloaders=dm.test_dataloader(), \n",
    "    ckpt_path=os.path.join(os.getcwd(), \"tb_logs\", \"cycleGAN_feature_level\", \"CycleGANGRLTask_0_0.0001\", \"checkpoints\" , \"latest-epoch=0-step=1500.ckpt\"))"
   ]
  },
  {
   "cell_type": "markdown",
   "id": "e9d0d185",
   "metadata": {},
   "source": [
    "##### 2.4.1.5 Result"
   ]
  },
  {
   "attachments": {},
   "cell_type": "markdown",
   "id": "960af9c6",
   "metadata": {},
   "source": [
    "![CycleGAN GRL](docs/CycleGAN_GRL.jpg)"
   ]
  },
  {
   "attachments": {},
   "cell_type": "markdown",
   "id": "43608a88",
   "metadata": {},
   "source": [
    "|   Model             | Learning Rate | Accuracy (synthetic)   | Accuracy (Real)   | Accuracy (Real)   | Epochs   |\n",
    "|:-------------------:|:-------------:|:----------------------:|:-----------------:|:-----------------:|:--------:|\n",
    "| ResNet18            |   3.5e-05     |   28.65%               |   61.02%          |   61.02%          |   15     |\n",
    "| ResNet18 Pretrained |   3.5e-05     |   68.79%               |   73.12%          |   73.12%          |   15     |\n",
    "| ResNet50            |   3.5e-05     |   16.52%               |   55.38%          |   55.38%          |   12     |"
   ]
  },
  {
   "cell_type": "markdown",
   "id": "5514368d",
   "metadata": {},
   "source": [
    "#### 2.4.2 Training ResNet (CycleGAN -> ADDA -> ResNet)"
   ]
  },
  {
   "attachments": {},
   "cell_type": "markdown",
   "id": "0343c3fa",
   "metadata": {},
   "source": [
    "This is a similar approach to the above but implements ADDA instead of GRL."
   ]
  },
  {
   "cell_type": "markdown",
   "id": "7e2289d6",
   "metadata": {},
   "source": [
    "##### 2.4.2.1 Model"
   ]
  },
  {
   "cell_type": "code",
   "execution_count": 8,
   "id": "d9960d50",
   "metadata": {},
   "outputs": [],
   "source": [
    "from scripts.models.custom_resnet_model import CustomResNetModule\n",
    "from scripts.ADDA.discriminator import Discriminator\n",
    "from scripts.CycleGAN.model import CycleGAN\n",
    "\n",
    "class CycleGANADDATask(pl.LightningModule):\n",
    "\n",
    "    def __init__(self, source_model, resnet_model, cycle_GAN_ckpt_path, num_classes, lr=1e-3): # ResNetModule loaded from ckpy\n",
    "        super(CycleGANADDATask, self).__init__() \n",
    "        self.lr = lr\n",
    "\n",
    "        self.cycleGAN_model = CycleGAN.load_from_checkpoint(cycle_GAN_ckpt_path)\n",
    "        self.cycleGAN_model.eval()\n",
    "\n",
    "        self.source_model = source_model\n",
    "        self.target_model = CustomResNetModule(resnet_model=resnet_model, num_classes=num_classes)\n",
    "        self.target_model.load_state_dict(self.source_model.state_dict())\n",
    "        self.target_model = self.target_model.feature_extractor\n",
    "\n",
    "        self.discriminator = Discriminator(self.source_model.classifier[0].in_features)\n",
    "        self.criterion = nn.BCEWithLogitsLoss()\n",
    "\n",
    "        self.accuracy = torchmetrics.Accuracy()\n",
    "\n",
    "    def forward(self,x):\n",
    "        features = self.target_model(x).view(x.shape[0],-1)\n",
    "        return self.source_model.classifier(features)\n",
    "\n",
    "    def configure_optimizers(self):\n",
    "        return torch.optim.Adam(self.discriminator.parameters(), lr=self.lr), torch.optim.Adam(self.target_model.parameters(), lr=self.lr)\n",
    "\n",
    "    def training_step(self, train_batch, batch_idx, optimizer_idx):\n",
    "        source, target, _ = train_batch\n",
    "\n",
    "        if optimizer_idx==0: #train discriminator\n",
    "            fake_B_source = self.cycleGAN_model(source, CycleGAN.A2B)\n",
    "            source_features = self.source_model.feature_extractor(fake_B_source).view(fake_B_source.shape[0], -1)\n",
    "            target_features = self.target_model(target).view(target.shape[0], -1)\n",
    "\n",
    "            discriminator_x = torch.cat([source_features, target_features])\n",
    "            discriminator_y = torch.cat([torch.ones(source.shape[0]).type_as(source), torch.zeros(target.shape[0]).type_as(source)])\n",
    "\n",
    "            preds = self.discriminator(discriminator_x).squeeze()\n",
    "            loss = self.criterion(preds, discriminator_y)\n",
    "\n",
    "            self.log('train/d_loss', loss)\n",
    "\n",
    "            return loss\n",
    "\n",
    "        else: #train generator\n",
    "            target_features = self.target_model(target).view(target.shape[0], -1)\n",
    "\n",
    "            # flipped labels\n",
    "            discriminator_y = torch.ones(target.shape[0]).type_as(source)\n",
    "\n",
    "            preds = self.discriminator(target_features).squeeze()\n",
    "            loss = self.criterion(preds, discriminator_y)\n",
    "\n",
    "            self.log('train/g_loss', loss)\n",
    "\n",
    "            return loss\n",
    "\n",
    "    def validation_step(self, batch, batch_idx):        \n",
    "        x,y = batch        \n",
    "        preds = self.forward(x)        \n",
    "        self.accuracy(torch.argmax(preds, dim=1), y)\n",
    "        self.log('validation/accuracy', self.accuracy, on_epoch=True)\n",
    "        \n",
    "    def test_step(self, batch, batch_idx):        \n",
    "        x,y = batch\n",
    "        preds = self.forward(x)\n",
    "        self.accuracy(torch.argmax(preds, dim=1), y)\n",
    "        self.log('test/accuracy', self.accuracy, on_epoch=True)\n"
   ]
  },
  {
   "cell_type": "markdown",
   "id": "def444d2",
   "metadata": {},
   "source": [
    "##### 2.4.2.2 Training"
   ]
  },
  {
   "cell_type": "code",
   "execution_count": null,
   "id": "02dbd526",
   "metadata": {},
   "outputs": [],
   "source": [
    "from scripts.dataset.GRL.data_module_GRL import CulturalSiteDataModuleGRL\n",
    "\n",
    "print(\"Dataset setup\")\n",
    "dm = CulturalSiteDataModuleGRL(\n",
    "    batch_size=8, \n",
    "    num_workers=6)\n",
    "dm.setup(CulturalSiteDataModuleGRL.FIT_STAGE)\n",
    "\n",
    "print(\"Dataset applying filter\")\n",
    "pixel_threshold = 30\n",
    "dm.filter_train(pixel_threshold)\n",
    "dm.filter_val(pixel_threshold)"
   ]
  },
  {
   "cell_type": "markdown",
   "id": "9032da4d",
   "metadata": {},
   "source": [
    "Normalization"
   ]
  },
  {
   "cell_type": "markdown",
   "id": "9ddeebe4",
   "metadata": {},
   "source": [
    "Using zero-mean-nomalization, the cells below calculate mean and std for individual or merged datasets to implement a case of study where:\n",
    "1. normalization using individual mean and std\n",
    "2. normalization using global mean and std"
   ]
  },
  {
   "cell_type": "code",
   "execution_count": null,
   "id": "44112d2a",
   "metadata": {},
   "outputs": [],
   "source": [
    "syn_img_dataset = np.array(dm.cultural_site_train.get_syn_image_dataset())[:,1]\n",
    "real_img_dataset = np.array(dm.cultural_site_train.get_real_image_dataset())[:,1]\n",
    "merged_dataset = np.concatenate((syn_img_dataset, real_img_dataset))"
   ]
  },
  {
   "cell_type": "markdown",
   "id": "0a5247ad",
   "metadata": {},
   "source": [
    "Getting mean and std for synthetic dataset"
   ]
  },
  {
   "cell_type": "code",
   "execution_count": null,
   "id": "d22437c7",
   "metadata": {},
   "outputs": [
    {
     "name": "stdout",
     "output_type": "stream",
     "text": [
      "Mean: [0.28162546 0.29239721 0.31711673]\n",
      "Std: [0.17125229 0.17715992 0.18002949]\n"
     ]
    }
   ],
   "source": [
    "# OPTIONAL: does not need to be executed\n",
    "mean, std = dm.calculate_train_mean_and_std(resize_min_size=256, img_dataset=syn_img_dataset)\n",
    "print(\"Mean: \" + str(mean))\n",
    "print(\"Std: \" + str(std))"
   ]
  },
  {
   "cell_type": "markdown",
   "id": "138f0478",
   "metadata": {},
   "source": [
    "Getting mean and std for real dataset"
   ]
  },
  {
   "cell_type": "code",
   "execution_count": null,
   "id": "1ba952e8",
   "metadata": {},
   "outputs": [
    {
     "name": "stdout",
     "output_type": "stream",
     "text": [
      "Mean: [0.45215473 0.39806145 0.31654662]\n",
      "Std: [0.26077601 0.25441129 0.25139287]\n"
     ]
    }
   ],
   "source": [
    "# OPTIONAL: does not need to be executed\n",
    "mean, std = dm.calculate_train_mean_and_std(resize_min_size=256, img_dataset=real_img_dataset)\n",
    "print(\"Mean: \" + str(mean))\n",
    "print(\"Std: \" + str(std))"
   ]
  },
  {
   "cell_type": "markdown",
   "id": "f01fcd0d",
   "metadata": {},
   "source": [
    "Getting mean and std for merged dataset"
   ]
  },
  {
   "cell_type": "code",
   "execution_count": null,
   "id": "f00ad4eb",
   "metadata": {},
   "outputs": [
    {
     "name": "stdout",
     "output_type": "stream",
     "text": [
      "Mean: [0.28954191 0.29725961 0.31696455]\n",
      "Std: [0.18010984 0.18290568 0.18407021]\n"
     ]
    }
   ],
   "source": [
    "# OPTIONAL: does not need to be executed\n",
    "mean, std = dm.calculate_train_mean_and_std(resize_min_size=256, img_dataset=merged_dataset)\n",
    "print(\"Mean: \" + str(mean))\n",
    "print(\"Std: \" + str(std))"
   ]
  },
  {
   "cell_type": "markdown",
   "id": "143a1cdb",
   "metadata": {},
   "source": [
    "Global transform pipeline"
   ]
  },
  {
   "cell_type": "code",
   "execution_count": 10,
   "id": "ed4873b1",
   "metadata": {},
   "outputs": [],
   "source": [
    "# Coming from baseline cell above\n",
    "mean=(0.28954191, 0.29725961, 0.31696455)\n",
    "std=(0.18010984, 0.18290568, 0.18407021)\n",
    "train_transform = transforms.Compose([\n",
    "    transforms.Resize(256, transforms.InterpolationMode.BICUBIC),\n",
    "    transforms.RandomCrop(224),\n",
    "    transforms.RandomHorizontalFlip(),\n",
    "    transforms.ToTensor(),\n",
    "    transforms.Normalize(mean=mean, std=std)\n",
    "])\n",
    "\n",
    "val_and_test_transform = transforms.Compose([\n",
    "    transforms.Resize(256, transforms.InterpolationMode.BICUBIC),\n",
    "    transforms.CenterCrop(224),            \n",
    "    transforms.RandomHorizontalFlip(),\n",
    "    transforms.ToTensor(),\n",
    "    transforms.Normalize(mean=mean, std=std)\n",
    "])\n",
    "\n",
    "dm.set_train_trasform(train_transform)\n",
    "dm.set_val_trasform(val_and_test_transform)"
   ]
  },
  {
   "cell_type": "code",
   "execution_count": null,
   "id": "dacbcd92",
   "metadata": {},
   "outputs": [],
   "source": [
    "lr=3.5e-5\n",
    "source_model = CustomResNetModule.load_from_checkpoint(\n",
    "    os.path.join(os.getcwd(), \"tb_logs\", \"Official_Training\", \"filtered_train\", \"resnet18_lr_0.0001\", \"checkpoints\" , \"34-32866-0.1.ckpt\"),\n",
    "    resnet_model=global_resnet_model)\n",
    "model = CycleGANADDATask(\n",
    "    source_model=source_model, \n",
    "    resnet_model=models.resnet18(pretrained=False), \n",
    "    cycle_GAN_ckpt_path=os.path.join(os.getcwd(), \"tb_logs\", \"Official_Training\", \"image_to_image_translation\", \"CycleGAN_3_lr_0.0002\", \"checkpoints\" , \"latest-epoch=9-step=414000.ckpt\"),\n",
    "    num_classes=16,\n",
    "    lr=lr)\n",
    "\n",
    "# Initialize logger\n",
    "logger = TensorBoardLogger(\n",
    "    save_dir=os.path.join(\"tb_logs\", global_log_dir, \"combined_iti_fl\"), \n",
    "    name=\"CycleGAN_ADDATask\", \n",
    "    version=global_resnet_model_name + \"_lr_\" + str(lr))\n",
    "\n",
    "val_checkpoint_callback = pl.callbacks.ModelCheckpoint(\n",
    "    filename=\"{epoch}-{step}-{validation/accuracy:.1f}\",\n",
    "    monitor=\"validation/accuracy\",\n",
    "    mode=\"max\",\n",
    "    save_top_k=1,\n",
    "    auto_insert_metric_name=False      \n",
    ")\n",
    "latest_checkpoint_callback = pl.callbacks.ModelCheckpoint(\n",
    "    filename=\"latest-{epoch}-{step}\",\n",
    "    monitor=\"step\",\n",
    "    mode=\"max\",\n",
    "    every_n_train_steps=500,\n",
    "    save_top_k=1      \n",
    ")\n",
    "\n",
    "# Initialize a trainer\n",
    "trainer = pl.Trainer(max_epochs=-1,\n",
    "                     accelerator=system_accelerator, \n",
    "                     devices=1,\n",
    "                     logger=logger,\n",
    "                     callbacks=[ val_checkpoint_callback, latest_checkpoint_callback],\n",
    "                     )\n",
    "\n",
    "# Train the model \n",
    "trainer.fit(model, dm)\n",
    "\n",
    "# resume checkpoints\n",
    "# trainer.fit(model, dm, ckpt_path=os.path.join(os.getcwd(), \"tb_logs\", \"image_to_image_translation\", \"CycleGANResNetModule_0_lr_0.0001\", \"checkpoints\" , \"latest-epoch=7-step=29000.ckpt\"))"
   ]
  },
  {
   "cell_type": "markdown",
   "id": "b1678fef",
   "metadata": {},
   "source": [
    "##### 2.4.2.3 Testing on synthetic domain"
   ]
  },
  {
   "cell_type": "code",
   "execution_count": null,
   "id": "2b068520",
   "metadata": {},
   "outputs": [],
   "source": [
    "dm = CulturalSiteDataModule(\n",
    "    batch_size=8, \n",
    "    dataset_type=CulturalSiteDataModule.SYNTHETIC_DATASET, \n",
    "    num_classes=16, \n",
    "    num_workers=6)\n",
    "dm.setup(CulturalSiteDataModule.TEST_STAGE)\n",
    "\n",
    "print(\"Dataset applying filter\")\n",
    "pixel_threshold = 30\n",
    "dm.filter_test(pixel_threshold)"
   ]
  },
  {
   "cell_type": "code",
   "execution_count": 15,
   "id": "a5810afb",
   "metadata": {},
   "outputs": [],
   "source": [
    "# Coming from baseline case 3 oracle\n",
    "mean=(0.28954191, 0.29725961, 0.31696455)\n",
    "std=(0.18010984, 0.18290568, 0.18407021)\n",
    "test_transform = transforms.Compose([\n",
    "    transforms.Resize(256, transforms.InterpolationMode.BICUBIC),\n",
    "    transforms.CenterCrop(224),            \n",
    "    transforms.RandomHorizontalFlip(),\n",
    "    transforms.ToTensor(),\n",
    "    transforms.Normalize(mean=mean, std=std)\n",
    "])\n",
    "dm.set_test_trasform(test_transform)"
   ]
  },
  {
   "cell_type": "code",
   "execution_count": null,
   "id": "a1fc2829",
   "metadata": {},
   "outputs": [],
   "source": [
    "# Evaluate the model on the held-out test set \n",
    "source_model = CustomResNetModule.load_from_checkpoint(\n",
    "    os.path.join(os.getcwd(), \"tb_logs\", \"filtered_train\", \"CustomResNet_0_lr_0.0001\", \"checkpoints\" , \"latest-epoch=0-step=500.ckpt\"),\n",
    "    resnet_model=global_resnet_model)\n",
    "model = CycleGANADDATask(\n",
    "    source_model=source_model, \n",
    "    resnet_model=global_resnet_model, \n",
    "    cycle_GAN_ckpt_path=os.path.join(os.getcwd(), \"tb_logs\", \"image_to_image_translation\", \"CycleGAN_2_lr_0.0004\", \"checkpoints\" , \"latest-epoch=8-step=400500.ckpt\"),\n",
    "    num_classes=16)\n",
    "\n",
    "trainer = pl.Trainer(accelerator=system_accelerator)\n",
    "        \n",
    "trainer.test(\n",
    "    model=model,\n",
    "    dataloaders=dm.test_dataloader(), \n",
    "    ckpt_path=os.path.join(os.getcwd(), \"tb_logs\", \"cycleGAN_feature_level\", \"CycleGANADDATask_0\", \"checkpoints\" , \"latest-epoch=0-step=500.ckpt\"))"
   ]
  },
  {
   "cell_type": "markdown",
   "id": "b1678fef",
   "metadata": {},
   "source": [
    "##### 2.4.2.4 Testing on real domain"
   ]
  },
  {
   "cell_type": "code",
   "execution_count": null,
   "id": "2b068520",
   "metadata": {},
   "outputs": [],
   "source": [
    "dm = CulturalSiteDataModule(\n",
    "    batch_size=8, \n",
    "    dataset_type=CulturalSiteDataModule.REAL_DATASET, \n",
    "    num_classes=16, \n",
    "    num_workers=6)\n",
    "dm.setup(CulturalSiteDataModule.TEST_STAGE)\n",
    "\n",
    "print(\"Dataset applying filter\")\n",
    "pixel_threshold = 30\n",
    "dm.filter_test(pixel_threshold)"
   ]
  },
  {
   "cell_type": "code",
   "execution_count": null,
   "id": "a5810afb",
   "metadata": {},
   "outputs": [],
   "source": [
    "# Coming from baseline case 3 oracle\n",
    "mean=(0.28954191, 0.29725961, 0.31696455)\n",
    "std=(0.18010984, 0.18290568, 0.18407021)\n",
    "test_transform = transforms.Compose([\n",
    "    transforms.Resize(256, transforms.InterpolationMode.BICUBIC),\n",
    "    transforms.CenterCrop(224),            \n",
    "    transforms.RandomHorizontalFlip(),\n",
    "    transforms.ToTensor(),\n",
    "    transforms.Normalize(mean=mean, std=std)\n",
    "])\n",
    "dm.set_test_trasform(test_transform)"
   ]
  },
  {
   "cell_type": "code",
   "execution_count": null,
   "id": "a1fc2829",
   "metadata": {},
   "outputs": [],
   "source": [
    "# Evaluate the model on the held-out test set \n",
    "source_model = CustomResNetModule.load_from_checkpoint(\n",
    "    os.path.join(os.getcwd(), \"tb_logs\", \"filtered_train\", \"CustomResNet_0_lr_0.0001\", \"checkpoints\" , \"latest-epoch=0-step=500.ckpt\"),\n",
    "    resnet_model=global_resnet_model)\n",
    "model = CycleGANADDATask(\n",
    "    source_model=source_model, \n",
    "    resnet_model=global_resnet_model, \n",
    "    cycle_GAN_ckpt_path=os.path.join(os.getcwd(), \"tb_logs\", \"image_to_image_translation\", \"CycleGAN_2_lr_0.0004\", \"checkpoints\" , \"latest-epoch=8-step=400500.ckpt\"),\n",
    "    num_classes=16)\n",
    "    \n",
    "trainer = pl.Trainer(accelerator=system_accelerator)\n",
    "        \n",
    "trainer.test(\n",
    "    model=model,\n",
    "    dataloaders=dm.test_dataloader(), \n",
    "    ckpt_path=os.path.join(os.getcwd(), \"tb_logs\", \"cycleGAN_feature_level\", \"CycleGANADDATask_0\", \"checkpoints\" , \"latest-epoch=0-step=500.ckpt\"))"
   ]
  },
  {
   "cell_type": "markdown",
   "id": "6f72ab95",
   "metadata": {},
   "source": [
    "##### 2.4.2.5 Result"
   ]
  },
  {
   "attachments": {},
   "cell_type": "markdown",
   "id": "3f083d0c",
   "metadata": {},
   "source": [
    "![CycleGAN ADDA](docs/CycleGAN_ADDA.jpg)"
   ]
  },
  {
   "attachments": {},
   "cell_type": "markdown",
   "id": "66c66131",
   "metadata": {},
   "source": [
    "|   Model  | Learning Rate | Accuracy (Synthetic)   | Accuracy (Real)   | Epochs    |\n",
    "|:--------:|:-------------:|:----------------------:|:-----------------:|:---------:|\n",
    "| ResNet18 |   1e-4        |    3.08%               |    4.17%          |    14     |\n",
    "| ResNet18 |   3.5e-05     |   18.98%               |   12.37%          |     6     |\n",
    "| ResNet50 |   3.5e-05     |   10.61%               |    8.74%          |     8     |"
   ]
  }
 ],
 "metadata": {
  "kernelspec": {
   "display_name": "Python 3",
   "language": "python",
   "name": "python3"
  },
  "language_info": {
   "codemirror_mode": {
    "name": "ipython",
    "version": 3
   },
   "file_extension": ".py",
   "mimetype": "text/x-python",
   "name": "python",
   "nbconvert_exporter": "python",
   "pygments_lexer": "ipython3",
   "version": "3.9.6 (tags/v3.9.6:db3ff76, Jun 28 2021, 15:26:21) [MSC v.1929 64 bit (AMD64)]"
  },
  "vscode": {
   "interpreter": {
    "hash": "1b9fe44b3991069bed7f12c115f8ef5897ca9ea72b00cc34904974e146407600"
   }
  }
 },
 "nbformat": 4,
 "nbformat_minor": 5
}
